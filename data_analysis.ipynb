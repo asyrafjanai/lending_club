{
 "cells": [
  {
   "cell_type": "markdown",
   "metadata": {},
   "source": [
    "# resources: delete later\n",
    "\n",
    "- https://www.kdnuggets.com/2020/05/optimize-response-time-machine-learning-api-production.html"
   ]
  },
  {
   "cell_type": "code",
   "execution_count": null,
   "metadata": {},
   "outputs": [],
   "source": [
    "todo:\n",
    "    1. dockerize\n",
    "    2. testing\n",
    "    3. review"
   ]
  },
  {
   "cell_type": "markdown",
   "metadata": {},
   "source": [
    "#  Part 1: Data Processing\n",
    "Download the data set (accepted_2007_to_2018Q4.csv). Filter the data set for year 2015.\n",
    "-\tShow how you process and clean the data in Jupyter notebook.\n",
    "-\tShow simple analytics over the data.\n",
    "\n",
    "\n"
   ]
  },
  {
   "cell_type": "code",
   "execution_count": 1,
   "metadata": {
    "ExecuteTime": {
     "end_time": "2021-06-27T06:49:15.230274Z",
     "start_time": "2021-06-27T06:49:13.676207Z"
    }
   },
   "outputs": [],
   "source": [
    "import gc\n",
    "\n",
    "import numpy as np\n",
    "import pandas as pd\n",
    "import matplotlib.pyplot as plt\n",
    "import seaborn as sns"
   ]
  },
  {
   "cell_type": "code",
   "execution_count": 2,
   "metadata": {
    "ExecuteTime": {
     "end_time": "2021-06-27T06:49:54.101987Z",
     "start_time": "2021-06-27T06:49:25.653188Z"
    }
   },
   "outputs": [
    {
     "name": "stderr",
     "output_type": "stream",
     "text": [
      "C:\\Users\\acc_a\\anaconda3\\envs\\tech\\lib\\site-packages\\IPython\\core\\interactiveshell.py:3146: DtypeWarning: Columns (0,19,49,59,118,129,130,131,134,135,136,139,145,146,147) have mixed types.Specify dtype option on import or set low_memory=False.\n",
      "  interactivity=interactivity, compiler=compiler, result=result)\n"
     ]
    }
   ],
   "source": [
    "# load the whole csv file\n",
    "\n",
    "df = pd.read_csv('accepted_2007_to_2018q4.csv/accepted_2007_to_2018Q4.csv')"
   ]
  },
  {
   "cell_type": "code",
   "execution_count": 3,
   "metadata": {
    "ExecuteTime": {
     "end_time": "2021-06-27T06:49:54.149155Z",
     "start_time": "2021-06-27T06:49:54.101987Z"
    }
   },
   "outputs": [
    {
     "data": {
      "text/html": [
       "<div>\n",
       "<style scoped>\n",
       "    .dataframe tbody tr th:only-of-type {\n",
       "        vertical-align: middle;\n",
       "    }\n",
       "\n",
       "    .dataframe tbody tr th {\n",
       "        vertical-align: top;\n",
       "    }\n",
       "\n",
       "    .dataframe thead th {\n",
       "        text-align: right;\n",
       "    }\n",
       "</style>\n",
       "<table border=\"1\" class=\"dataframe\">\n",
       "  <thead>\n",
       "    <tr style=\"text-align: right;\">\n",
       "      <th></th>\n",
       "      <th>id</th>\n",
       "      <th>member_id</th>\n",
       "      <th>loan_amnt</th>\n",
       "      <th>funded_amnt</th>\n",
       "      <th>funded_amnt_inv</th>\n",
       "      <th>term</th>\n",
       "      <th>int_rate</th>\n",
       "      <th>installment</th>\n",
       "      <th>grade</th>\n",
       "      <th>sub_grade</th>\n",
       "      <th>...</th>\n",
       "      <th>hardship_payoff_balance_amount</th>\n",
       "      <th>hardship_last_payment_amount</th>\n",
       "      <th>disbursement_method</th>\n",
       "      <th>debt_settlement_flag</th>\n",
       "      <th>debt_settlement_flag_date</th>\n",
       "      <th>settlement_status</th>\n",
       "      <th>settlement_date</th>\n",
       "      <th>settlement_amount</th>\n",
       "      <th>settlement_percentage</th>\n",
       "      <th>settlement_term</th>\n",
       "    </tr>\n",
       "  </thead>\n",
       "  <tbody>\n",
       "    <tr>\n",
       "      <th>0</th>\n",
       "      <td>68407277</td>\n",
       "      <td>NaN</td>\n",
       "      <td>3600.0</td>\n",
       "      <td>3600.0</td>\n",
       "      <td>3600.0</td>\n",
       "      <td>36 months</td>\n",
       "      <td>13.99</td>\n",
       "      <td>123.03</td>\n",
       "      <td>C</td>\n",
       "      <td>C4</td>\n",
       "      <td>...</td>\n",
       "      <td>NaN</td>\n",
       "      <td>NaN</td>\n",
       "      <td>Cash</td>\n",
       "      <td>N</td>\n",
       "      <td>NaN</td>\n",
       "      <td>NaN</td>\n",
       "      <td>NaN</td>\n",
       "      <td>NaN</td>\n",
       "      <td>NaN</td>\n",
       "      <td>NaN</td>\n",
       "    </tr>\n",
       "    <tr>\n",
       "      <th>1</th>\n",
       "      <td>68355089</td>\n",
       "      <td>NaN</td>\n",
       "      <td>24700.0</td>\n",
       "      <td>24700.0</td>\n",
       "      <td>24700.0</td>\n",
       "      <td>36 months</td>\n",
       "      <td>11.99</td>\n",
       "      <td>820.28</td>\n",
       "      <td>C</td>\n",
       "      <td>C1</td>\n",
       "      <td>...</td>\n",
       "      <td>NaN</td>\n",
       "      <td>NaN</td>\n",
       "      <td>Cash</td>\n",
       "      <td>N</td>\n",
       "      <td>NaN</td>\n",
       "      <td>NaN</td>\n",
       "      <td>NaN</td>\n",
       "      <td>NaN</td>\n",
       "      <td>NaN</td>\n",
       "      <td>NaN</td>\n",
       "    </tr>\n",
       "    <tr>\n",
       "      <th>2</th>\n",
       "      <td>68341763</td>\n",
       "      <td>NaN</td>\n",
       "      <td>20000.0</td>\n",
       "      <td>20000.0</td>\n",
       "      <td>20000.0</td>\n",
       "      <td>60 months</td>\n",
       "      <td>10.78</td>\n",
       "      <td>432.66</td>\n",
       "      <td>B</td>\n",
       "      <td>B4</td>\n",
       "      <td>...</td>\n",
       "      <td>NaN</td>\n",
       "      <td>NaN</td>\n",
       "      <td>Cash</td>\n",
       "      <td>N</td>\n",
       "      <td>NaN</td>\n",
       "      <td>NaN</td>\n",
       "      <td>NaN</td>\n",
       "      <td>NaN</td>\n",
       "      <td>NaN</td>\n",
       "      <td>NaN</td>\n",
       "    </tr>\n",
       "    <tr>\n",
       "      <th>3</th>\n",
       "      <td>66310712</td>\n",
       "      <td>NaN</td>\n",
       "      <td>35000.0</td>\n",
       "      <td>35000.0</td>\n",
       "      <td>35000.0</td>\n",
       "      <td>60 months</td>\n",
       "      <td>14.85</td>\n",
       "      <td>829.90</td>\n",
       "      <td>C</td>\n",
       "      <td>C5</td>\n",
       "      <td>...</td>\n",
       "      <td>NaN</td>\n",
       "      <td>NaN</td>\n",
       "      <td>Cash</td>\n",
       "      <td>N</td>\n",
       "      <td>NaN</td>\n",
       "      <td>NaN</td>\n",
       "      <td>NaN</td>\n",
       "      <td>NaN</td>\n",
       "      <td>NaN</td>\n",
       "      <td>NaN</td>\n",
       "    </tr>\n",
       "    <tr>\n",
       "      <th>4</th>\n",
       "      <td>68476807</td>\n",
       "      <td>NaN</td>\n",
       "      <td>10400.0</td>\n",
       "      <td>10400.0</td>\n",
       "      <td>10400.0</td>\n",
       "      <td>60 months</td>\n",
       "      <td>22.45</td>\n",
       "      <td>289.91</td>\n",
       "      <td>F</td>\n",
       "      <td>F1</td>\n",
       "      <td>...</td>\n",
       "      <td>NaN</td>\n",
       "      <td>NaN</td>\n",
       "      <td>Cash</td>\n",
       "      <td>N</td>\n",
       "      <td>NaN</td>\n",
       "      <td>NaN</td>\n",
       "      <td>NaN</td>\n",
       "      <td>NaN</td>\n",
       "      <td>NaN</td>\n",
       "      <td>NaN</td>\n",
       "    </tr>\n",
       "  </tbody>\n",
       "</table>\n",
       "<p>5 rows × 151 columns</p>\n",
       "</div>"
      ],
      "text/plain": [
       "         id  member_id  loan_amnt  funded_amnt  funded_amnt_inv        term  \\\n",
       "0  68407277        NaN     3600.0       3600.0           3600.0   36 months   \n",
       "1  68355089        NaN    24700.0      24700.0          24700.0   36 months   \n",
       "2  68341763        NaN    20000.0      20000.0          20000.0   60 months   \n",
       "3  66310712        NaN    35000.0      35000.0          35000.0   60 months   \n",
       "4  68476807        NaN    10400.0      10400.0          10400.0   60 months   \n",
       "\n",
       "   int_rate  installment grade sub_grade  ... hardship_payoff_balance_amount  \\\n",
       "0     13.99       123.03     C        C4  ...                            NaN   \n",
       "1     11.99       820.28     C        C1  ...                            NaN   \n",
       "2     10.78       432.66     B        B4  ...                            NaN   \n",
       "3     14.85       829.90     C        C5  ...                            NaN   \n",
       "4     22.45       289.91     F        F1  ...                            NaN   \n",
       "\n",
       "  hardship_last_payment_amount disbursement_method  debt_settlement_flag  \\\n",
       "0                          NaN                Cash                     N   \n",
       "1                          NaN                Cash                     N   \n",
       "2                          NaN                Cash                     N   \n",
       "3                          NaN                Cash                     N   \n",
       "4                          NaN                Cash                     N   \n",
       "\n",
       "  debt_settlement_flag_date settlement_status settlement_date  \\\n",
       "0                       NaN               NaN             NaN   \n",
       "1                       NaN               NaN             NaN   \n",
       "2                       NaN               NaN             NaN   \n",
       "3                       NaN               NaN             NaN   \n",
       "4                       NaN               NaN             NaN   \n",
       "\n",
       "  settlement_amount settlement_percentage settlement_term  \n",
       "0               NaN                   NaN             NaN  \n",
       "1               NaN                   NaN             NaN  \n",
       "2               NaN                   NaN             NaN  \n",
       "3               NaN                   NaN             NaN  \n",
       "4               NaN                   NaN             NaN  \n",
       "\n",
       "[5 rows x 151 columns]"
      ]
     },
     "execution_count": 3,
     "metadata": {},
     "output_type": "execute_result"
    }
   ],
   "source": [
    "# take a peek at the data\n",
    "df.head()"
   ]
  },
  {
   "cell_type": "code",
   "execution_count": 4,
   "metadata": {
    "ExecuteTime": {
     "end_time": "2021-06-27T06:49:54.162232Z",
     "start_time": "2021-06-27T06:49:54.149155Z"
    }
   },
   "outputs": [
    {
     "data": {
      "text/plain": [
       "(2260701, 151)"
      ]
     },
     "execution_count": 4,
     "metadata": {},
     "output_type": "execute_result"
    }
   ],
   "source": [
    "# take a look at df shape. There's around 2.26 mil data point with 151 columns. Let's see the column name\n",
    "df.shape"
   ]
  },
  {
   "cell_type": "code",
   "execution_count": 5,
   "metadata": {
    "ExecuteTime": {
     "end_time": "2021-06-27T06:49:54.178224Z",
     "start_time": "2021-06-27T06:49:54.162232Z"
    },
    "scrolled": true
   },
   "outputs": [
    {
     "data": {
      "text/plain": [
       "array(['id', 'member_id', 'loan_amnt', 'funded_amnt', 'funded_amnt_inv',\n",
       "       'term', 'int_rate', 'installment', 'grade', 'sub_grade',\n",
       "       'emp_title', 'emp_length', 'home_ownership', 'annual_inc',\n",
       "       'verification_status', 'issue_d', 'loan_status', 'pymnt_plan',\n",
       "       'url', 'desc', 'purpose', 'title', 'zip_code', 'addr_state', 'dti',\n",
       "       'delinq_2yrs', 'earliest_cr_line', 'fico_range_low',\n",
       "       'fico_range_high', 'inq_last_6mths', 'mths_since_last_delinq',\n",
       "       'mths_since_last_record', 'open_acc', 'pub_rec', 'revol_bal',\n",
       "       'revol_util', 'total_acc', 'initial_list_status', 'out_prncp',\n",
       "       'out_prncp_inv', 'total_pymnt', 'total_pymnt_inv',\n",
       "       'total_rec_prncp', 'total_rec_int', 'total_rec_late_fee',\n",
       "       'recoveries', 'collection_recovery_fee', 'last_pymnt_d',\n",
       "       'last_pymnt_amnt', 'next_pymnt_d', 'last_credit_pull_d',\n",
       "       'last_fico_range_high', 'last_fico_range_low',\n",
       "       'collections_12_mths_ex_med', 'mths_since_last_major_derog',\n",
       "       'policy_code', 'application_type', 'annual_inc_joint', 'dti_joint',\n",
       "       'verification_status_joint', 'acc_now_delinq', 'tot_coll_amt',\n",
       "       'tot_cur_bal', 'open_acc_6m', 'open_act_il', 'open_il_12m',\n",
       "       'open_il_24m', 'mths_since_rcnt_il', 'total_bal_il', 'il_util',\n",
       "       'open_rv_12m', 'open_rv_24m', 'max_bal_bc', 'all_util',\n",
       "       'total_rev_hi_lim', 'inq_fi', 'total_cu_tl', 'inq_last_12m',\n",
       "       'acc_open_past_24mths', 'avg_cur_bal', 'bc_open_to_buy', 'bc_util',\n",
       "       'chargeoff_within_12_mths', 'delinq_amnt', 'mo_sin_old_il_acct',\n",
       "       'mo_sin_old_rev_tl_op', 'mo_sin_rcnt_rev_tl_op', 'mo_sin_rcnt_tl',\n",
       "       'mort_acc', 'mths_since_recent_bc', 'mths_since_recent_bc_dlq',\n",
       "       'mths_since_recent_inq', 'mths_since_recent_revol_delinq',\n",
       "       'num_accts_ever_120_pd', 'num_actv_bc_tl', 'num_actv_rev_tl',\n",
       "       'num_bc_sats', 'num_bc_tl', 'num_il_tl', 'num_op_rev_tl',\n",
       "       'num_rev_accts', 'num_rev_tl_bal_gt_0', 'num_sats',\n",
       "       'num_tl_120dpd_2m', 'num_tl_30dpd', 'num_tl_90g_dpd_24m',\n",
       "       'num_tl_op_past_12m', 'pct_tl_nvr_dlq', 'percent_bc_gt_75',\n",
       "       'pub_rec_bankruptcies', 'tax_liens', 'tot_hi_cred_lim',\n",
       "       'total_bal_ex_mort', 'total_bc_limit',\n",
       "       'total_il_high_credit_limit', 'revol_bal_joint',\n",
       "       'sec_app_fico_range_low', 'sec_app_fico_range_high',\n",
       "       'sec_app_earliest_cr_line', 'sec_app_inq_last_6mths',\n",
       "       'sec_app_mort_acc', 'sec_app_open_acc', 'sec_app_revol_util',\n",
       "       'sec_app_open_act_il', 'sec_app_num_rev_accts',\n",
       "       'sec_app_chargeoff_within_12_mths',\n",
       "       'sec_app_collections_12_mths_ex_med',\n",
       "       'sec_app_mths_since_last_major_derog', 'hardship_flag',\n",
       "       'hardship_type', 'hardship_reason', 'hardship_status',\n",
       "       'deferral_term', 'hardship_amount', 'hardship_start_date',\n",
       "       'hardship_end_date', 'payment_plan_start_date', 'hardship_length',\n",
       "       'hardship_dpd', 'hardship_loan_status',\n",
       "       'orig_projected_additional_accrued_interest',\n",
       "       'hardship_payoff_balance_amount', 'hardship_last_payment_amount',\n",
       "       'disbursement_method', 'debt_settlement_flag',\n",
       "       'debt_settlement_flag_date', 'settlement_status',\n",
       "       'settlement_date', 'settlement_amount', 'settlement_percentage',\n",
       "       'settlement_term'], dtype=object)"
      ]
     },
     "execution_count": 5,
     "metadata": {},
     "output_type": "execute_result"
    }
   ],
   "source": [
    "df.columns.values"
   ]
  },
  {
   "cell_type": "code",
   "execution_count": 6,
   "metadata": {
    "ExecuteTime": {
     "end_time": "2021-06-27T06:49:54.206223Z",
     "start_time": "2021-06-27T06:49:54.178224Z"
    }
   },
   "outputs": [
    {
     "name": "stdout",
     "output_type": "stream",
     "text": [
      "<class 'pandas.core.frame.DataFrame'>\n",
      "RangeIndex: 2260701 entries, 0 to 2260700\n",
      "Columns: 151 entries, id to settlement_term\n",
      "dtypes: float64(113), object(38)\n",
      "memory usage: 2.5+ GB\n"
     ]
    }
   ],
   "source": [
    "# the data is using 2.5gb memory. let's filter it for easier work\n",
    "df.info()"
   ]
  },
  {
   "cell_type": "code",
   "execution_count": 7,
   "metadata": {
    "ExecuteTime": {
     "end_time": "2021-06-27T06:49:54.388821Z",
     "start_time": "2021-06-27T06:49:54.206223Z"
    }
   },
   "outputs": [
    {
     "data": {
      "text/plain": [
       "Mar-2016    61992\n",
       "Oct-2015    48631\n",
       "May-2018    46311\n",
       "Oct-2018    46305\n",
       "Aug-2018    46079\n",
       "            ...  \n",
       "Aug-2007       74\n",
       "Jul-2007       63\n",
       "Sep-2008       57\n",
       "Sep-2007       53\n",
       "Jun-2007       24\n",
       "Name: issue_d, Length: 139, dtype: int64"
      ]
     },
     "execution_count": 7,
     "metadata": {},
     "output_type": "execute_result"
    }
   ],
   "source": [
    "# looking at the data info in kaggle, the date column is issue_d. lets filter this to year 2015 only.\n",
    "df.issue_d.value_counts()"
   ]
  },
  {
   "cell_type": "code",
   "execution_count": 8,
   "metadata": {
    "ExecuteTime": {
     "end_time": "2021-06-27T06:49:57.209541Z",
     "start_time": "2021-06-27T06:49:54.388821Z"
    }
   },
   "outputs": [],
   "source": [
    "# we could split the issue_d column into month and year, and then filter. or we could just use string filtering here\n",
    "# need to remove null value first in this column\n",
    "\n",
    "df = df[~df['issue_d'].isna()]\n",
    "\n",
    "df_2015 = df[df['issue_d'].str.contains('2015')].copy()"
   ]
  },
  {
   "cell_type": "code",
   "execution_count": 9,
   "metadata": {
    "ExecuteTime": {
     "end_time": "2021-06-27T06:49:57.225548Z",
     "start_time": "2021-06-27T06:49:57.213543Z"
    }
   },
   "outputs": [
    {
     "data": {
      "text/plain": [
       "(421095, 151)"
      ]
     },
     "execution_count": 9,
     "metadata": {},
     "output_type": "execute_result"
    }
   ],
   "source": [
    "df_2015.shape"
   ]
  },
  {
   "cell_type": "code",
   "execution_count": 10,
   "metadata": {
    "ExecuteTime": {
     "end_time": "2021-06-27T06:49:57.273089Z",
     "start_time": "2021-06-27T06:49:57.225548Z"
    }
   },
   "outputs": [
    {
     "data": {
      "text/plain": [
       "Oct-2015    48631\n",
       "Jul-2015    45962\n",
       "Dec-2015    44343\n",
       "Nov-2015    37530\n",
       "Aug-2015    35886\n",
       "Apr-2015    35427\n",
       "Jan-2015    35107\n",
       "May-2015    31913\n",
       "Sep-2015    28641\n",
       "Jun-2015    28485\n",
       "Mar-2015    25400\n",
       "Feb-2015    23770\n",
       "Name: issue_d, dtype: int64"
      ]
     },
     "execution_count": 10,
     "metadata": {},
     "output_type": "execute_result"
    }
   ],
   "source": [
    "# lets see the distribution\n",
    "\n",
    "df_2015.issue_d.value_counts()"
   ]
  },
  {
   "cell_type": "code",
   "execution_count": 11,
   "metadata": {
    "ExecuteTime": {
     "end_time": "2021-06-27T06:49:57.321090Z",
     "start_time": "2021-06-27T06:49:57.273089Z"
    }
   },
   "outputs": [
    {
     "data": {
      "text/plain": [
       "100"
      ]
     },
     "execution_count": 11,
     "metadata": {},
     "output_type": "execute_result"
    }
   ],
   "source": [
    "# garbage collection to free memory\n",
    "gc.collect()"
   ]
  },
  {
   "cell_type": "code",
   "execution_count": 12,
   "metadata": {
    "ExecuteTime": {
     "end_time": "2021-06-27T00:59:52.256684Z",
     "start_time": "2021-06-27T00:59:49.260740Z"
    },
    "scrolled": true
   },
   "outputs": [
    {
     "data": {
      "text/plain": [
       "member_id                                     100.00\n",
       "orig_projected_additional_accrued_interest     99.62\n",
       "hardship_end_date                              99.52\n",
       "hardship_start_date                            99.52\n",
       "hardship_type                                  99.52\n",
       "hardship_reason                                99.52\n",
       "hardship_status                                99.52\n",
       "deferral_term                                  99.52\n",
       "hardship_last_payment_amount                   99.52\n",
       "hardship_payoff_balance_amount                 99.52\n",
       "hardship_loan_status                           99.52\n",
       "hardship_dpd                                   99.52\n",
       "hardship_length                                99.52\n",
       "payment_plan_start_date                        99.52\n",
       "hardship_amount                                99.52\n",
       "settlement_term                                98.49\n",
       "debt_settlement_flag_date                      98.49\n",
       "settlement_status                              98.49\n",
       "settlement_date                                98.49\n",
       "settlement_amount                              98.49\n",
       "settlement_percentage                          98.49\n",
       "sec_app_mths_since_last_major_derog            98.41\n",
       "sec_app_revol_util                             95.30\n",
       "sec_app_mort_acc                               95.22\n",
       "revol_bal_joint                                95.22\n",
       "sec_app_fico_range_low                         95.22\n",
       "sec_app_fico_range_high                        95.22\n",
       "sec_app_earliest_cr_line                       95.22\n",
       "sec_app_inq_last_6mths                         95.22\n",
       "sec_app_open_acc                               95.22\n",
       "sec_app_open_act_il                            95.22\n",
       "sec_app_num_rev_accts                          95.22\n",
       "sec_app_chargeoff_within_12_mths               95.22\n",
       "sec_app_collections_12_mths_ex_med             95.22\n",
       "verification_status_joint                      94.88\n",
       "dti_joint                                      94.66\n",
       "annual_inc_joint                               94.66\n",
       "desc                                           94.42\n",
       "mths_since_last_record                         84.11\n",
       "mths_since_recent_bc_dlq                       77.01\n",
       "mths_since_last_major_derog                    74.31\n",
       "mths_since_recent_revol_delinq                 67.25\n",
       "next_pymnt_d                                   59.51\n",
       "mths_since_last_delinq                         51.25\n",
       "il_util                                        47.28\n",
       "mths_since_rcnt_il                             40.25\n",
       "all_util                                       38.32\n",
       "open_rv_24m                                    38.31\n",
       "open_rv_12m                                    38.31\n",
       "total_bal_il                                   38.31\n",
       "dtype: float64"
      ]
     },
     "execution_count": 12,
     "metadata": {},
     "output_type": "execute_result"
    }
   ],
   "source": [
    "# remove column with majority null data\n",
    "df.isnull().mean().round(4).mul(100).sort_values(ascending=False).head(50)"
   ]
  },
  {
   "cell_type": "code",
   "execution_count": 12,
   "metadata": {
    "ExecuteTime": {
     "end_time": "2021-06-27T06:50:01.035840Z",
     "start_time": "2021-06-27T06:49:57.321090Z"
    }
   },
   "outputs": [
    {
     "data": {
      "text/plain": [
       "(2260668, 110)"
      ]
     },
     "execution_count": 12,
     "metadata": {},
     "output_type": "execute_result"
    }
   ],
   "source": [
    "# remove columns with more than 70% null\n",
    "df = df.loc[:, df.isnull().sum() < 0.7*df.shape[0]]\n",
    "df.shape"
   ]
  },
  {
   "cell_type": "code",
   "execution_count": 13,
   "metadata": {
    "ExecuteTime": {
     "end_time": "2021-06-27T06:50:01.068029Z",
     "start_time": "2021-06-27T06:50:01.035840Z"
    }
   },
   "outputs": [
    {
     "data": {
      "text/html": [
       "<div>\n",
       "<style scoped>\n",
       "    .dataframe tbody tr th:only-of-type {\n",
       "        vertical-align: middle;\n",
       "    }\n",
       "\n",
       "    .dataframe tbody tr th {\n",
       "        vertical-align: top;\n",
       "    }\n",
       "\n",
       "    .dataframe thead th {\n",
       "        text-align: right;\n",
       "    }\n",
       "</style>\n",
       "<table border=\"1\" class=\"dataframe\">\n",
       "  <thead>\n",
       "    <tr style=\"text-align: right;\">\n",
       "      <th></th>\n",
       "      <th>id</th>\n",
       "      <th>loan_amnt</th>\n",
       "      <th>funded_amnt</th>\n",
       "      <th>funded_amnt_inv</th>\n",
       "      <th>term</th>\n",
       "      <th>int_rate</th>\n",
       "      <th>installment</th>\n",
       "      <th>grade</th>\n",
       "      <th>sub_grade</th>\n",
       "      <th>emp_title</th>\n",
       "      <th>...</th>\n",
       "      <th>percent_bc_gt_75</th>\n",
       "      <th>pub_rec_bankruptcies</th>\n",
       "      <th>tax_liens</th>\n",
       "      <th>tot_hi_cred_lim</th>\n",
       "      <th>total_bal_ex_mort</th>\n",
       "      <th>total_bc_limit</th>\n",
       "      <th>total_il_high_credit_limit</th>\n",
       "      <th>hardship_flag</th>\n",
       "      <th>disbursement_method</th>\n",
       "      <th>debt_settlement_flag</th>\n",
       "    </tr>\n",
       "  </thead>\n",
       "  <tbody>\n",
       "    <tr>\n",
       "      <th>0</th>\n",
       "      <td>68407277</td>\n",
       "      <td>3600.0</td>\n",
       "      <td>3600.0</td>\n",
       "      <td>3600.0</td>\n",
       "      <td>36 months</td>\n",
       "      <td>13.99</td>\n",
       "      <td>123.03</td>\n",
       "      <td>C</td>\n",
       "      <td>C4</td>\n",
       "      <td>leadman</td>\n",
       "      <td>...</td>\n",
       "      <td>0.0</td>\n",
       "      <td>0.0</td>\n",
       "      <td>0.0</td>\n",
       "      <td>178050.0</td>\n",
       "      <td>7746.0</td>\n",
       "      <td>2400.0</td>\n",
       "      <td>13734.0</td>\n",
       "      <td>N</td>\n",
       "      <td>Cash</td>\n",
       "      <td>N</td>\n",
       "    </tr>\n",
       "    <tr>\n",
       "      <th>1</th>\n",
       "      <td>68355089</td>\n",
       "      <td>24700.0</td>\n",
       "      <td>24700.0</td>\n",
       "      <td>24700.0</td>\n",
       "      <td>36 months</td>\n",
       "      <td>11.99</td>\n",
       "      <td>820.28</td>\n",
       "      <td>C</td>\n",
       "      <td>C1</td>\n",
       "      <td>Engineer</td>\n",
       "      <td>...</td>\n",
       "      <td>7.7</td>\n",
       "      <td>0.0</td>\n",
       "      <td>0.0</td>\n",
       "      <td>314017.0</td>\n",
       "      <td>39475.0</td>\n",
       "      <td>79300.0</td>\n",
       "      <td>24667.0</td>\n",
       "      <td>N</td>\n",
       "      <td>Cash</td>\n",
       "      <td>N</td>\n",
       "    </tr>\n",
       "    <tr>\n",
       "      <th>2</th>\n",
       "      <td>68341763</td>\n",
       "      <td>20000.0</td>\n",
       "      <td>20000.0</td>\n",
       "      <td>20000.0</td>\n",
       "      <td>60 months</td>\n",
       "      <td>10.78</td>\n",
       "      <td>432.66</td>\n",
       "      <td>B</td>\n",
       "      <td>B4</td>\n",
       "      <td>truck driver</td>\n",
       "      <td>...</td>\n",
       "      <td>50.0</td>\n",
       "      <td>0.0</td>\n",
       "      <td>0.0</td>\n",
       "      <td>218418.0</td>\n",
       "      <td>18696.0</td>\n",
       "      <td>6200.0</td>\n",
       "      <td>14877.0</td>\n",
       "      <td>N</td>\n",
       "      <td>Cash</td>\n",
       "      <td>N</td>\n",
       "    </tr>\n",
       "    <tr>\n",
       "      <th>3</th>\n",
       "      <td>66310712</td>\n",
       "      <td>35000.0</td>\n",
       "      <td>35000.0</td>\n",
       "      <td>35000.0</td>\n",
       "      <td>60 months</td>\n",
       "      <td>14.85</td>\n",
       "      <td>829.90</td>\n",
       "      <td>C</td>\n",
       "      <td>C5</td>\n",
       "      <td>Information Systems Officer</td>\n",
       "      <td>...</td>\n",
       "      <td>0.0</td>\n",
       "      <td>0.0</td>\n",
       "      <td>0.0</td>\n",
       "      <td>381215.0</td>\n",
       "      <td>52226.0</td>\n",
       "      <td>62500.0</td>\n",
       "      <td>18000.0</td>\n",
       "      <td>N</td>\n",
       "      <td>Cash</td>\n",
       "      <td>N</td>\n",
       "    </tr>\n",
       "    <tr>\n",
       "      <th>4</th>\n",
       "      <td>68476807</td>\n",
       "      <td>10400.0</td>\n",
       "      <td>10400.0</td>\n",
       "      <td>10400.0</td>\n",
       "      <td>60 months</td>\n",
       "      <td>22.45</td>\n",
       "      <td>289.91</td>\n",
       "      <td>F</td>\n",
       "      <td>F1</td>\n",
       "      <td>Contract Specialist</td>\n",
       "      <td>...</td>\n",
       "      <td>60.0</td>\n",
       "      <td>0.0</td>\n",
       "      <td>0.0</td>\n",
       "      <td>439570.0</td>\n",
       "      <td>95768.0</td>\n",
       "      <td>20300.0</td>\n",
       "      <td>88097.0</td>\n",
       "      <td>N</td>\n",
       "      <td>Cash</td>\n",
       "      <td>N</td>\n",
       "    </tr>\n",
       "  </tbody>\n",
       "</table>\n",
       "<p>5 rows × 110 columns</p>\n",
       "</div>"
      ],
      "text/plain": [
       "         id  loan_amnt  funded_amnt  funded_amnt_inv        term  int_rate  \\\n",
       "0  68407277     3600.0       3600.0           3600.0   36 months     13.99   \n",
       "1  68355089    24700.0      24700.0          24700.0   36 months     11.99   \n",
       "2  68341763    20000.0      20000.0          20000.0   60 months     10.78   \n",
       "3  66310712    35000.0      35000.0          35000.0   60 months     14.85   \n",
       "4  68476807    10400.0      10400.0          10400.0   60 months     22.45   \n",
       "\n",
       "   installment grade sub_grade                    emp_title  ...  \\\n",
       "0       123.03     C        C4                      leadman  ...   \n",
       "1       820.28     C        C1                     Engineer  ...   \n",
       "2       432.66     B        B4                 truck driver  ...   \n",
       "3       829.90     C        C5  Information Systems Officer  ...   \n",
       "4       289.91     F        F1          Contract Specialist  ...   \n",
       "\n",
       "  percent_bc_gt_75 pub_rec_bankruptcies  tax_liens tot_hi_cred_lim  \\\n",
       "0              0.0                  0.0        0.0        178050.0   \n",
       "1              7.7                  0.0        0.0        314017.0   \n",
       "2             50.0                  0.0        0.0        218418.0   \n",
       "3              0.0                  0.0        0.0        381215.0   \n",
       "4             60.0                  0.0        0.0        439570.0   \n",
       "\n",
       "  total_bal_ex_mort total_bc_limit total_il_high_credit_limit hardship_flag  \\\n",
       "0            7746.0         2400.0                    13734.0             N   \n",
       "1           39475.0        79300.0                    24667.0             N   \n",
       "2           18696.0         6200.0                    14877.0             N   \n",
       "3           52226.0        62500.0                    18000.0             N   \n",
       "4           95768.0        20300.0                    88097.0             N   \n",
       "\n",
       "  disbursement_method debt_settlement_flag  \n",
       "0                Cash                    N  \n",
       "1                Cash                    N  \n",
       "2                Cash                    N  \n",
       "3                Cash                    N  \n",
       "4                Cash                    N  \n",
       "\n",
       "[5 rows x 110 columns]"
      ]
     },
     "execution_count": 13,
     "metadata": {},
     "output_type": "execute_result"
    }
   ],
   "source": [
    "# removed around 40 columns\n",
    "\n",
    "df.head()"
   ]
  },
  {
   "cell_type": "code",
   "execution_count": 14,
   "metadata": {
    "ExecuteTime": {
     "end_time": "2021-06-27T06:50:01.084033Z",
     "start_time": "2021-06-27T06:50:01.068029Z"
    }
   },
   "outputs": [
    {
     "name": "stdout",
     "output_type": "stream",
     "text": [
      "<class 'pandas.core.frame.DataFrame'>\n",
      "Int64Index: 2260668 entries, 0 to 2260698\n",
      "Columns: 110 entries, id to debt_settlement_flag\n",
      "dtypes: float64(85), object(25)\n",
      "memory usage: 1.9+ GB\n"
     ]
    }
   ],
   "source": [
    "df.info()"
   ]
  },
  {
   "cell_type": "code",
   "execution_count": 15,
   "metadata": {
    "ExecuteTime": {
     "end_time": "2021-06-27T06:50:01.607385Z",
     "start_time": "2021-06-27T06:50:01.084033Z"
    }
   },
   "outputs": [
    {
     "data": {
      "text/html": [
       "<div>\n",
       "<style scoped>\n",
       "    .dataframe tbody tr th:only-of-type {\n",
       "        vertical-align: middle;\n",
       "    }\n",
       "\n",
       "    .dataframe tbody tr th {\n",
       "        vertical-align: top;\n",
       "    }\n",
       "\n",
       "    .dataframe thead th {\n",
       "        text-align: right;\n",
       "    }\n",
       "</style>\n",
       "<table border=\"1\" class=\"dataframe\">\n",
       "  <thead>\n",
       "    <tr style=\"text-align: right;\">\n",
       "      <th></th>\n",
       "      <th>0</th>\n",
       "      <th>1</th>\n",
       "      <th>2</th>\n",
       "      <th>3</th>\n",
       "      <th>4</th>\n",
       "    </tr>\n",
       "  </thead>\n",
       "  <tbody>\n",
       "    <tr>\n",
       "      <th>id</th>\n",
       "      <td>68407277</td>\n",
       "      <td>68355089</td>\n",
       "      <td>68341763</td>\n",
       "      <td>66310712</td>\n",
       "      <td>68476807</td>\n",
       "    </tr>\n",
       "    <tr>\n",
       "      <th>term</th>\n",
       "      <td>36 months</td>\n",
       "      <td>36 months</td>\n",
       "      <td>60 months</td>\n",
       "      <td>60 months</td>\n",
       "      <td>60 months</td>\n",
       "    </tr>\n",
       "    <tr>\n",
       "      <th>grade</th>\n",
       "      <td>C</td>\n",
       "      <td>C</td>\n",
       "      <td>B</td>\n",
       "      <td>C</td>\n",
       "      <td>F</td>\n",
       "    </tr>\n",
       "    <tr>\n",
       "      <th>sub_grade</th>\n",
       "      <td>C4</td>\n",
       "      <td>C1</td>\n",
       "      <td>B4</td>\n",
       "      <td>C5</td>\n",
       "      <td>F1</td>\n",
       "    </tr>\n",
       "    <tr>\n",
       "      <th>emp_title</th>\n",
       "      <td>leadman</td>\n",
       "      <td>Engineer</td>\n",
       "      <td>truck driver</td>\n",
       "      <td>Information Systems Officer</td>\n",
       "      <td>Contract Specialist</td>\n",
       "    </tr>\n",
       "    <tr>\n",
       "      <th>emp_length</th>\n",
       "      <td>10+ years</td>\n",
       "      <td>10+ years</td>\n",
       "      <td>10+ years</td>\n",
       "      <td>10+ years</td>\n",
       "      <td>3 years</td>\n",
       "    </tr>\n",
       "    <tr>\n",
       "      <th>home_ownership</th>\n",
       "      <td>MORTGAGE</td>\n",
       "      <td>MORTGAGE</td>\n",
       "      <td>MORTGAGE</td>\n",
       "      <td>MORTGAGE</td>\n",
       "      <td>MORTGAGE</td>\n",
       "    </tr>\n",
       "    <tr>\n",
       "      <th>verification_status</th>\n",
       "      <td>Not Verified</td>\n",
       "      <td>Not Verified</td>\n",
       "      <td>Not Verified</td>\n",
       "      <td>Source Verified</td>\n",
       "      <td>Source Verified</td>\n",
       "    </tr>\n",
       "    <tr>\n",
       "      <th>issue_d</th>\n",
       "      <td>Dec-2015</td>\n",
       "      <td>Dec-2015</td>\n",
       "      <td>Dec-2015</td>\n",
       "      <td>Dec-2015</td>\n",
       "      <td>Dec-2015</td>\n",
       "    </tr>\n",
       "    <tr>\n",
       "      <th>loan_status</th>\n",
       "      <td>Fully Paid</td>\n",
       "      <td>Fully Paid</td>\n",
       "      <td>Fully Paid</td>\n",
       "      <td>Current</td>\n",
       "      <td>Fully Paid</td>\n",
       "    </tr>\n",
       "    <tr>\n",
       "      <th>pymnt_plan</th>\n",
       "      <td>n</td>\n",
       "      <td>n</td>\n",
       "      <td>n</td>\n",
       "      <td>n</td>\n",
       "      <td>n</td>\n",
       "    </tr>\n",
       "    <tr>\n",
       "      <th>url</th>\n",
       "      <td>https://lendingclub.com/browse/loanDetail.acti...</td>\n",
       "      <td>https://lendingclub.com/browse/loanDetail.acti...</td>\n",
       "      <td>https://lendingclub.com/browse/loanDetail.acti...</td>\n",
       "      <td>https://lendingclub.com/browse/loanDetail.acti...</td>\n",
       "      <td>https://lendingclub.com/browse/loanDetail.acti...</td>\n",
       "    </tr>\n",
       "    <tr>\n",
       "      <th>purpose</th>\n",
       "      <td>debt_consolidation</td>\n",
       "      <td>small_business</td>\n",
       "      <td>home_improvement</td>\n",
       "      <td>debt_consolidation</td>\n",
       "      <td>major_purchase</td>\n",
       "    </tr>\n",
       "    <tr>\n",
       "      <th>title</th>\n",
       "      <td>Debt consolidation</td>\n",
       "      <td>Business</td>\n",
       "      <td>NaN</td>\n",
       "      <td>Debt consolidation</td>\n",
       "      <td>Major purchase</td>\n",
       "    </tr>\n",
       "    <tr>\n",
       "      <th>zip_code</th>\n",
       "      <td>190xx</td>\n",
       "      <td>577xx</td>\n",
       "      <td>605xx</td>\n",
       "      <td>076xx</td>\n",
       "      <td>174xx</td>\n",
       "    </tr>\n",
       "    <tr>\n",
       "      <th>addr_state</th>\n",
       "      <td>PA</td>\n",
       "      <td>SD</td>\n",
       "      <td>IL</td>\n",
       "      <td>NJ</td>\n",
       "      <td>PA</td>\n",
       "    </tr>\n",
       "    <tr>\n",
       "      <th>earliest_cr_line</th>\n",
       "      <td>Aug-2003</td>\n",
       "      <td>Dec-1999</td>\n",
       "      <td>Aug-2000</td>\n",
       "      <td>Sep-2008</td>\n",
       "      <td>Jun-1998</td>\n",
       "    </tr>\n",
       "    <tr>\n",
       "      <th>initial_list_status</th>\n",
       "      <td>w</td>\n",
       "      <td>w</td>\n",
       "      <td>w</td>\n",
       "      <td>w</td>\n",
       "      <td>w</td>\n",
       "    </tr>\n",
       "    <tr>\n",
       "      <th>last_pymnt_d</th>\n",
       "      <td>Jan-2019</td>\n",
       "      <td>Jun-2016</td>\n",
       "      <td>Jun-2017</td>\n",
       "      <td>Feb-2019</td>\n",
       "      <td>Jul-2016</td>\n",
       "    </tr>\n",
       "    <tr>\n",
       "      <th>next_pymnt_d</th>\n",
       "      <td>NaN</td>\n",
       "      <td>NaN</td>\n",
       "      <td>NaN</td>\n",
       "      <td>Apr-2019</td>\n",
       "      <td>NaN</td>\n",
       "    </tr>\n",
       "    <tr>\n",
       "      <th>last_credit_pull_d</th>\n",
       "      <td>Mar-2019</td>\n",
       "      <td>Mar-2019</td>\n",
       "      <td>Mar-2019</td>\n",
       "      <td>Mar-2019</td>\n",
       "      <td>Mar-2018</td>\n",
       "    </tr>\n",
       "    <tr>\n",
       "      <th>application_type</th>\n",
       "      <td>Individual</td>\n",
       "      <td>Individual</td>\n",
       "      <td>Joint App</td>\n",
       "      <td>Individual</td>\n",
       "      <td>Individual</td>\n",
       "    </tr>\n",
       "    <tr>\n",
       "      <th>hardship_flag</th>\n",
       "      <td>N</td>\n",
       "      <td>N</td>\n",
       "      <td>N</td>\n",
       "      <td>N</td>\n",
       "      <td>N</td>\n",
       "    </tr>\n",
       "    <tr>\n",
       "      <th>disbursement_method</th>\n",
       "      <td>Cash</td>\n",
       "      <td>Cash</td>\n",
       "      <td>Cash</td>\n",
       "      <td>Cash</td>\n",
       "      <td>Cash</td>\n",
       "    </tr>\n",
       "    <tr>\n",
       "      <th>debt_settlement_flag</th>\n",
       "      <td>N</td>\n",
       "      <td>N</td>\n",
       "      <td>N</td>\n",
       "      <td>N</td>\n",
       "      <td>N</td>\n",
       "    </tr>\n",
       "  </tbody>\n",
       "</table>\n",
       "</div>"
      ],
      "text/plain": [
       "                                                                      0  \\\n",
       "id                                                             68407277   \n",
       "term                                                          36 months   \n",
       "grade                                                                 C   \n",
       "sub_grade                                                            C4   \n",
       "emp_title                                                       leadman   \n",
       "emp_length                                                    10+ years   \n",
       "home_ownership                                                 MORTGAGE   \n",
       "verification_status                                        Not Verified   \n",
       "issue_d                                                        Dec-2015   \n",
       "loan_status                                                  Fully Paid   \n",
       "pymnt_plan                                                            n   \n",
       "url                   https://lendingclub.com/browse/loanDetail.acti...   \n",
       "purpose                                              debt_consolidation   \n",
       "title                                                Debt consolidation   \n",
       "zip_code                                                          190xx   \n",
       "addr_state                                                           PA   \n",
       "earliest_cr_line                                               Aug-2003   \n",
       "initial_list_status                                                   w   \n",
       "last_pymnt_d                                                   Jan-2019   \n",
       "next_pymnt_d                                                        NaN   \n",
       "last_credit_pull_d                                             Mar-2019   \n",
       "application_type                                             Individual   \n",
       "hardship_flag                                                         N   \n",
       "disbursement_method                                                Cash   \n",
       "debt_settlement_flag                                                  N   \n",
       "\n",
       "                                                                      1  \\\n",
       "id                                                             68355089   \n",
       "term                                                          36 months   \n",
       "grade                                                                 C   \n",
       "sub_grade                                                            C1   \n",
       "emp_title                                                      Engineer   \n",
       "emp_length                                                    10+ years   \n",
       "home_ownership                                                 MORTGAGE   \n",
       "verification_status                                        Not Verified   \n",
       "issue_d                                                        Dec-2015   \n",
       "loan_status                                                  Fully Paid   \n",
       "pymnt_plan                                                            n   \n",
       "url                   https://lendingclub.com/browse/loanDetail.acti...   \n",
       "purpose                                                  small_business   \n",
       "title                                                          Business   \n",
       "zip_code                                                          577xx   \n",
       "addr_state                                                           SD   \n",
       "earliest_cr_line                                               Dec-1999   \n",
       "initial_list_status                                                   w   \n",
       "last_pymnt_d                                                   Jun-2016   \n",
       "next_pymnt_d                                                        NaN   \n",
       "last_credit_pull_d                                             Mar-2019   \n",
       "application_type                                             Individual   \n",
       "hardship_flag                                                         N   \n",
       "disbursement_method                                                Cash   \n",
       "debt_settlement_flag                                                  N   \n",
       "\n",
       "                                                                      2  \\\n",
       "id                                                             68341763   \n",
       "term                                                          60 months   \n",
       "grade                                                                 B   \n",
       "sub_grade                                                            B4   \n",
       "emp_title                                                  truck driver   \n",
       "emp_length                                                    10+ years   \n",
       "home_ownership                                                 MORTGAGE   \n",
       "verification_status                                        Not Verified   \n",
       "issue_d                                                        Dec-2015   \n",
       "loan_status                                                  Fully Paid   \n",
       "pymnt_plan                                                            n   \n",
       "url                   https://lendingclub.com/browse/loanDetail.acti...   \n",
       "purpose                                                home_improvement   \n",
       "title                                                               NaN   \n",
       "zip_code                                                          605xx   \n",
       "addr_state                                                           IL   \n",
       "earliest_cr_line                                               Aug-2000   \n",
       "initial_list_status                                                   w   \n",
       "last_pymnt_d                                                   Jun-2017   \n",
       "next_pymnt_d                                                        NaN   \n",
       "last_credit_pull_d                                             Mar-2019   \n",
       "application_type                                              Joint App   \n",
       "hardship_flag                                                         N   \n",
       "disbursement_method                                                Cash   \n",
       "debt_settlement_flag                                                  N   \n",
       "\n",
       "                                                                      3  \\\n",
       "id                                                             66310712   \n",
       "term                                                          60 months   \n",
       "grade                                                                 C   \n",
       "sub_grade                                                            C5   \n",
       "emp_title                                   Information Systems Officer   \n",
       "emp_length                                                    10+ years   \n",
       "home_ownership                                                 MORTGAGE   \n",
       "verification_status                                     Source Verified   \n",
       "issue_d                                                        Dec-2015   \n",
       "loan_status                                                     Current   \n",
       "pymnt_plan                                                            n   \n",
       "url                   https://lendingclub.com/browse/loanDetail.acti...   \n",
       "purpose                                              debt_consolidation   \n",
       "title                                                Debt consolidation   \n",
       "zip_code                                                          076xx   \n",
       "addr_state                                                           NJ   \n",
       "earliest_cr_line                                               Sep-2008   \n",
       "initial_list_status                                                   w   \n",
       "last_pymnt_d                                                   Feb-2019   \n",
       "next_pymnt_d                                                   Apr-2019   \n",
       "last_credit_pull_d                                             Mar-2019   \n",
       "application_type                                             Individual   \n",
       "hardship_flag                                                         N   \n",
       "disbursement_method                                                Cash   \n",
       "debt_settlement_flag                                                  N   \n",
       "\n",
       "                                                                      4  \n",
       "id                                                             68476807  \n",
       "term                                                          60 months  \n",
       "grade                                                                 F  \n",
       "sub_grade                                                            F1  \n",
       "emp_title                                           Contract Specialist  \n",
       "emp_length                                                      3 years  \n",
       "home_ownership                                                 MORTGAGE  \n",
       "verification_status                                     Source Verified  \n",
       "issue_d                                                        Dec-2015  \n",
       "loan_status                                                  Fully Paid  \n",
       "pymnt_plan                                                            n  \n",
       "url                   https://lendingclub.com/browse/loanDetail.acti...  \n",
       "purpose                                                  major_purchase  \n",
       "title                                                    Major purchase  \n",
       "zip_code                                                          174xx  \n",
       "addr_state                                                           PA  \n",
       "earliest_cr_line                                               Jun-1998  \n",
       "initial_list_status                                                   w  \n",
       "last_pymnt_d                                                   Jul-2016  \n",
       "next_pymnt_d                                                        NaN  \n",
       "last_credit_pull_d                                             Mar-2018  \n",
       "application_type                                             Individual  \n",
       "hardship_flag                                                         N  \n",
       "disbursement_method                                                Cash  \n",
       "debt_settlement_flag                                                  N  "
      ]
     },
     "execution_count": 15,
     "metadata": {},
     "output_type": "execute_result"
    }
   ],
   "source": [
    "# remove non-numeric columns or convert to binary\n",
    "# select object type column to filter\n",
    "\n",
    "# obj_df = df.select_dtypes(include=['object']).copy()\n",
    "df.select_dtypes(include=['object']).head().T"
   ]
  },
  {
   "cell_type": "code",
   "execution_count": 16,
   "metadata": {
    "ExecuteTime": {
     "end_time": "2021-06-27T06:50:08.793272Z",
     "start_time": "2021-06-27T06:50:01.607385Z"
    }
   },
   "outputs": [
    {
     "data": {
      "text/plain": [
       "id                      2260668\n",
       "term                          2\n",
       "grade                         7\n",
       "sub_grade                    35\n",
       "emp_title                512694\n",
       "emp_length                   11\n",
       "home_ownership                6\n",
       "verification_status           3\n",
       "issue_d                     139\n",
       "loan_status                   9\n",
       "pymnt_plan                    2\n",
       "url                     2260668\n",
       "purpose                      14\n",
       "title                     63155\n",
       "zip_code                    956\n",
       "addr_state                   51\n",
       "earliest_cr_line            754\n",
       "initial_list_status           2\n",
       "last_pymnt_d                136\n",
       "next_pymnt_d                106\n",
       "last_credit_pull_d          141\n",
       "application_type              2\n",
       "hardship_flag                 2\n",
       "disbursement_method           2\n",
       "debt_settlement_flag          2\n",
       "dtype: int64"
      ]
     },
     "execution_count": 16,
     "metadata": {},
     "output_type": "execute_result"
    }
   ],
   "source": [
    "df.select_dtypes(include=['object']).nunique()"
   ]
  },
  {
   "cell_type": "code",
   "execution_count": 17,
   "metadata": {
    "ExecuteTime": {
     "end_time": "2021-06-27T06:50:11.545895Z",
     "start_time": "2021-06-27T06:50:08.793272Z"
    },
    "scrolled": true
   },
   "outputs": [
    {
     "data": {
      "text/html": [
       "<div>\n",
       "<style scoped>\n",
       "    .dataframe tbody tr th:only-of-type {\n",
       "        vertical-align: middle;\n",
       "    }\n",
       "\n",
       "    .dataframe tbody tr th {\n",
       "        vertical-align: top;\n",
       "    }\n",
       "\n",
       "    .dataframe thead th {\n",
       "        text-align: right;\n",
       "    }\n",
       "</style>\n",
       "<table border=\"1\" class=\"dataframe\">\n",
       "  <thead>\n",
       "    <tr style=\"text-align: right;\">\n",
       "      <th></th>\n",
       "      <th>issue_d</th>\n",
       "      <th>earliest_cr_line</th>\n",
       "      <th>last_pymnt_d</th>\n",
       "      <th>next_pymnt_d</th>\n",
       "      <th>last_credit_pull_d</th>\n",
       "    </tr>\n",
       "  </thead>\n",
       "  <tbody>\n",
       "    <tr>\n",
       "      <th>0</th>\n",
       "      <td>2015-12-01</td>\n",
       "      <td>2003-08-01</td>\n",
       "      <td>2019-01-01</td>\n",
       "      <td>NaT</td>\n",
       "      <td>2019-03-01</td>\n",
       "    </tr>\n",
       "    <tr>\n",
       "      <th>1</th>\n",
       "      <td>2015-12-01</td>\n",
       "      <td>1999-12-01</td>\n",
       "      <td>2016-06-01</td>\n",
       "      <td>NaT</td>\n",
       "      <td>2019-03-01</td>\n",
       "    </tr>\n",
       "    <tr>\n",
       "      <th>2</th>\n",
       "      <td>2015-12-01</td>\n",
       "      <td>2000-08-01</td>\n",
       "      <td>2017-06-01</td>\n",
       "      <td>NaT</td>\n",
       "      <td>2019-03-01</td>\n",
       "    </tr>\n",
       "    <tr>\n",
       "      <th>3</th>\n",
       "      <td>2015-12-01</td>\n",
       "      <td>2008-09-01</td>\n",
       "      <td>2019-02-01</td>\n",
       "      <td>2019-04-01</td>\n",
       "      <td>2019-03-01</td>\n",
       "    </tr>\n",
       "    <tr>\n",
       "      <th>4</th>\n",
       "      <td>2015-12-01</td>\n",
       "      <td>1998-06-01</td>\n",
       "      <td>2016-07-01</td>\n",
       "      <td>NaT</td>\n",
       "      <td>2018-03-01</td>\n",
       "    </tr>\n",
       "  </tbody>\n",
       "</table>\n",
       "</div>"
      ],
      "text/plain": [
       "     issue_d earliest_cr_line last_pymnt_d next_pymnt_d last_credit_pull_d\n",
       "0 2015-12-01       2003-08-01   2019-01-01          NaT         2019-03-01\n",
       "1 2015-12-01       1999-12-01   2016-06-01          NaT         2019-03-01\n",
       "2 2015-12-01       2000-08-01   2017-06-01          NaT         2019-03-01\n",
       "3 2015-12-01       2008-09-01   2019-02-01   2019-04-01         2019-03-01\n",
       "4 2015-12-01       1998-06-01   2016-07-01          NaT         2018-03-01"
      ]
     },
     "execution_count": 17,
     "metadata": {},
     "output_type": "execute_result"
    }
   ],
   "source": [
    "# change datetime columns to proper format\n",
    "\n",
    "date_cols = ['issue_d', 'earliest_cr_line', 'last_pymnt_d', 'next_pymnt_d', 'last_credit_pull_d']\n",
    "df[date_cols] = df[date_cols].apply(pd.to_datetime)\n",
    "df[date_cols].head()"
   ]
  },
  {
   "cell_type": "code",
   "execution_count": 18,
   "metadata": {
    "ExecuteTime": {
     "end_time": "2021-06-27T06:50:12.177798Z",
     "start_time": "2021-06-27T06:50:11.545895Z"
    },
    "scrolled": true
   },
   "outputs": [],
   "source": [
    "# remove columns not much info can be extracted from these data\n",
    "\n",
    "df = df.drop(['emp_title', 'url', 'title', 'zip_code', 'addr_state'], axis=1)\n"
   ]
  },
  {
   "cell_type": "code",
   "execution_count": 19,
   "metadata": {
    "ExecuteTime": {
     "end_time": "2021-06-27T06:50:12.330386Z",
     "start_time": "2021-06-27T06:50:12.177798Z"
    }
   },
   "outputs": [
    {
     "data": {
      "text/plain": [
       "N    2259836\n",
       "Y        832\n",
       "Name: hardship_flag, dtype: int64"
      ]
     },
     "execution_count": 19,
     "metadata": {},
     "output_type": "execute_result"
    }
   ],
   "source": [
    "df.hardship_flag.value_counts()"
   ]
  },
  {
   "cell_type": "code",
   "execution_count": 20,
   "metadata": {
    "ExecuteTime": {
     "end_time": "2021-06-27T06:50:12.552606Z",
     "start_time": "2021-06-27T06:50:12.330386Z"
    }
   },
   "outputs": [
    {
     "data": {
      "text/plain": [
       "Fully Paid                                             1076751\n",
       "Current                                                 878317\n",
       "Charged Off                                             268559\n",
       "Late (31-120 days)                                       21467\n",
       "In Grace Period                                           8436\n",
       "Late (16-30 days)                                         4349\n",
       "Does not meet the credit policy. Status:Fully Paid        1988\n",
       "Does not meet the credit policy. Status:Charged Off        761\n",
       "Default                                                     40\n",
       "Name: loan_status, dtype: int64"
      ]
     },
     "execution_count": 20,
     "metadata": {},
     "output_type": "execute_result"
    }
   ],
   "source": [
    "# we can remove columns with too much unique value.\n",
    "df.loan_status.value_counts()"
   ]
  },
  {
   "cell_type": "code",
   "execution_count": null,
   "metadata": {},
   "outputs": [],
   "source": []
  },
  {
   "cell_type": "markdown",
   "metadata": {},
   "source": [
    "# Part 2: Model Building\n",
    "Using at most 10 features from the above data set, build a machine learning model to predict those with late payment (refer column “loan_status”). Show the model’s accuracy, AUC or other relevant metrics. \n",
    "-\tShow how you optimise the model.\n",
    "-\tShow how the features are selected."
   ]
  },
  {
   "cell_type": "code",
   "execution_count": 61,
   "metadata": {
    "ExecuteTime": {
     "end_time": "2021-06-26T07:42:23.205389Z",
     "start_time": "2021-06-26T07:42:22.140583Z"
    }
   },
   "outputs": [
    {
     "data": {
      "image/png": "[encoded data removed]",
      "text/plain": [
       "<Figure size 432x288 with 1 Axes>"
      ]
     },
     "metadata": {},
     "output_type": "display_data"
    }
   ],
   "source": [
    "sns.countplot(y='loan_status', data=df);"
   ]
  },
  {
   "cell_type": "code",
   "execution_count": 21,
   "metadata": {
    "ExecuteTime": {
     "end_time": "2021-06-27T06:50:16.062069Z",
     "start_time": "2021-06-27T06:50:12.552606Z"
    }
   },
   "outputs": [],
   "source": [
    "# for this machine learning model, lets assume the class is either fully paid or charged off. \n",
    "# so the model will predict whether the oan is fully paid or charged off only\n",
    "\n",
    "status_df = df[df['loan_status'].isin(['Fully Paid', 'Charged Off'])].copy()\n",
    "\n",
    "# turn to boolean\n",
    "status_df['loan_status'] = np.where(status_df['loan_status']=='Fully Paid', 1, 0) "
   ]
  },
  {
   "cell_type": "code",
   "execution_count": 22,
   "metadata": {
    "ExecuteTime": {
     "end_time": "2021-06-27T06:50:25.120210Z",
     "start_time": "2021-06-27T06:50:16.070073Z"
    }
   },
   "outputs": [
    {
     "data": {
      "text/html": [
       "<div>\n",
       "<style scoped>\n",
       "    .dataframe tbody tr th:only-of-type {\n",
       "        vertical-align: middle;\n",
       "    }\n",
       "\n",
       "    .dataframe tbody tr th {\n",
       "        vertical-align: top;\n",
       "    }\n",
       "\n",
       "    .dataframe thead th {\n",
       "        text-align: right;\n",
       "    }\n",
       "</style>\n",
       "<table border=\"1\" class=\"dataframe\">\n",
       "  <thead>\n",
       "    <tr style=\"text-align: right;\">\n",
       "      <th></th>\n",
       "      <th>count</th>\n",
       "      <th>mean</th>\n",
       "      <th>std</th>\n",
       "      <th>min</th>\n",
       "      <th>25%</th>\n",
       "      <th>50%</th>\n",
       "      <th>75%</th>\n",
       "      <th>max</th>\n",
       "    </tr>\n",
       "    <tr>\n",
       "      <th>loan_status</th>\n",
       "      <th></th>\n",
       "      <th></th>\n",
       "      <th></th>\n",
       "      <th></th>\n",
       "      <th></th>\n",
       "      <th></th>\n",
       "      <th></th>\n",
       "      <th></th>\n",
       "    </tr>\n",
       "  </thead>\n",
       "  <tbody>\n",
       "    <tr>\n",
       "      <th>0</th>\n",
       "      <td>268559.0</td>\n",
       "      <td>15565.055444</td>\n",
       "      <td>8814.560077</td>\n",
       "      <td>900.0</td>\n",
       "      <td>9000.0</td>\n",
       "      <td>14350.0</td>\n",
       "      <td>20400.0</td>\n",
       "      <td>40000.0</td>\n",
       "    </tr>\n",
       "    <tr>\n",
       "      <th>1</th>\n",
       "      <td>1076751.0</td>\n",
       "      <td>14134.369808</td>\n",
       "      <td>8669.028973</td>\n",
       "      <td>500.0</td>\n",
       "      <td>7500.0</td>\n",
       "      <td>12000.0</td>\n",
       "      <td>20000.0</td>\n",
       "      <td>40000.0</td>\n",
       "    </tr>\n",
       "  </tbody>\n",
       "</table>\n",
       "</div>"
      ],
      "text/plain": [
       "                 count          mean          std    min     25%      50%  \\\n",
       "loan_status                                                                 \n",
       "0             268559.0  15565.055444  8814.560077  900.0  9000.0  14350.0   \n",
       "1            1076751.0  14134.369808  8669.028973  500.0  7500.0  12000.0   \n",
       "\n",
       "                 75%      max  \n",
       "loan_status                    \n",
       "0            20400.0  40000.0  \n",
       "1            20000.0  40000.0  "
      ]
     },
     "execution_count": 22,
     "metadata": {},
     "output_type": "execute_result"
    }
   ],
   "source": [
    "# look at loan amount column\n",
    "status_df.groupby('loan_status').describe().loan_amnt"
   ]
  },
  {
   "cell_type": "code",
   "execution_count": 23,
   "metadata": {
    "ExecuteTime": {
     "end_time": "2021-06-27T06:50:25.436181Z",
     "start_time": "2021-06-27T06:50:25.123186Z"
    }
   },
   "outputs": [],
   "source": [
    "# let's first see how numeric column relates to target column, since we are only using 10 features\n",
    "status_df = status_df.select_dtypes(exclude=['object', 'datetime'])"
   ]
  },
  {
   "cell_type": "code",
   "execution_count": 36,
   "metadata": {
    "ExecuteTime": {
     "end_time": "2021-06-27T01:13:27.213884Z",
     "start_time": "2021-06-27T01:13:26.964025Z"
    },
    "scrolled": true
   },
   "outputs": [
    {
     "name": "stdout",
     "output_type": "stream",
     "text": [
      "<class 'pandas.core.frame.DataFrame'>\n",
      "Int64Index: 1345310 entries, 0 to 2260697\n",
      "Data columns (total 86 columns):\n",
      " #   Column                          Non-Null Count    Dtype  \n",
      "---  ------                          --------------    -----  \n",
      " 0   loan_amnt                       1345310 non-null  float64\n",
      " 1   funded_amnt                     1345310 non-null  float64\n",
      " 2   funded_amnt_inv                 1345310 non-null  float64\n",
      " 3   int_rate                        1345310 non-null  float64\n",
      " 4   installment                     1345310 non-null  float64\n",
      " 5   annual_inc                      1345310 non-null  float64\n",
      " 6   loan_status                     1345310 non-null  int32  \n",
      " 7   dti                             1344936 non-null  float64\n",
      " 8   delinq_2yrs                     1345310 non-null  float64\n",
      " 9   fico_range_low                  1345310 non-null  float64\n",
      " 10  fico_range_high                 1345310 non-null  float64\n",
      " 11  inq_last_6mths                  1345309 non-null  float64\n",
      " 12  mths_since_last_delinq          666567 non-null   float64\n",
      " 13  open_acc                        1345310 non-null  float64\n",
      " 14  pub_rec                         1345310 non-null  float64\n",
      " 15  revol_bal                       1345310 non-null  float64\n",
      " 16  revol_util                      1344453 non-null  float64\n",
      " 17  total_acc                       1345310 non-null  float64\n",
      " 18  out_prncp                       1345310 non-null  float64\n",
      " 19  out_prncp_inv                   1345310 non-null  float64\n",
      " 20  total_pymnt                     1345310 non-null  float64\n",
      " 21  total_pymnt_inv                 1345310 non-null  float64\n",
      " 22  total_rec_prncp                 1345310 non-null  float64\n",
      " 23  total_rec_int                   1345310 non-null  float64\n",
      " 24  total_rec_late_fee              1345310 non-null  float64\n",
      " 25  recoveries                      1345310 non-null  float64\n",
      " 26  collection_recovery_fee         1345310 non-null  float64\n",
      " 27  last_pymnt_amnt                 1345310 non-null  float64\n",
      " 28  last_fico_range_high            1345310 non-null  float64\n",
      " 29  last_fico_range_low             1345310 non-null  float64\n",
      " 30  collections_12_mths_ex_med      1345254 non-null  float64\n",
      " 31  policy_code                     1345310 non-null  float64\n",
      " 32  acc_now_delinq                  1345310 non-null  float64\n",
      " 33  tot_coll_amt                    1277783 non-null  float64\n",
      " 34  tot_cur_bal                     1277783 non-null  float64\n",
      " 35  open_acc_6m                     537597 non-null   float64\n",
      " 36  open_act_il                     537598 non-null   float64\n",
      " 37  open_il_12m                     537598 non-null   float64\n",
      " 38  open_il_24m                     537598 non-null   float64\n",
      " 39  mths_since_rcnt_il              523382 non-null   float64\n",
      " 40  total_bal_il                    537598 non-null   float64\n",
      " 41  il_util                         465016 non-null   float64\n",
      " 42  open_rv_12m                     537598 non-null   float64\n",
      " 43  open_rv_24m                     537598 non-null   float64\n",
      " 44  max_bal_bc                      537598 non-null   float64\n",
      " 45  all_util                        537545 non-null   float64\n",
      " 46  total_rev_hi_lim                1277783 non-null  float64\n",
      " 47  inq_fi                          537598 non-null   float64\n",
      " 48  total_cu_tl                     537597 non-null   float64\n",
      " 49  inq_last_12m                    537597 non-null   float64\n",
      " 50  acc_open_past_24mths            1298029 non-null  float64\n",
      " 51  avg_cur_bal                     1277761 non-null  float64\n",
      " 52  bc_open_to_buy                  1284167 non-null  float64\n",
      " 53  bc_util                         1283398 non-null  float64\n",
      " 54  chargeoff_within_12_mths        1345254 non-null  float64\n",
      " 55  delinq_amnt                     1345310 non-null  float64\n",
      " 56  mo_sin_old_il_acct              1239735 non-null  float64\n",
      " 57  mo_sin_old_rev_tl_op            1277782 non-null  float64\n",
      " 58  mo_sin_rcnt_rev_tl_op           1277782 non-null  float64\n",
      " 59  mo_sin_rcnt_tl                  1277783 non-null  float64\n",
      " 60  mort_acc                        1298029 non-null  float64\n",
      " 61  mths_since_recent_bc            1285089 non-null  float64\n",
      " 62  mths_since_recent_inq           1171239 non-null  float64\n",
      " 63  mths_since_recent_revol_delinq  449962 non-null   float64\n",
      " 64  num_accts_ever_120_pd           1277783 non-null  float64\n",
      " 65  num_actv_bc_tl                  1277783 non-null  float64\n",
      " 66  num_actv_rev_tl                 1277783 non-null  float64\n",
      " 67  num_bc_sats                     1289469 non-null  float64\n",
      " 68  num_bc_tl                       1277783 non-null  float64\n",
      " 69  num_il_tl                       1277783 non-null  float64\n",
      " 70  num_op_rev_tl                   1277783 non-null  float64\n",
      " 71  num_rev_accts                   1277782 non-null  float64\n",
      " 72  num_rev_tl_bal_gt_0             1277783 non-null  float64\n",
      " 73  num_sats                        1289469 non-null  float64\n",
      " 74  num_tl_120dpd_2m                1227909 non-null  float64\n",
      " 75  num_tl_30dpd                    1277783 non-null  float64\n",
      " 76  num_tl_90g_dpd_24m              1277783 non-null  float64\n",
      " 77  num_tl_op_past_12m              1277783 non-null  float64\n",
      " 78  pct_tl_nvr_dlq                  1277629 non-null  float64\n",
      " 79  percent_bc_gt_75                1283755 non-null  float64\n",
      " 80  pub_rec_bankruptcies            1344613 non-null  float64\n",
      " 81  tax_liens                       1345271 non-null  float64\n",
      " 82  tot_hi_cred_lim                 1277783 non-null  float64\n",
      " 83  total_bal_ex_mort               1298029 non-null  float64\n",
      " 84  total_bc_limit                  1298029 non-null  float64\n",
      " 85  total_il_high_credit_limit      1277783 non-null  float64\n",
      "dtypes: float64(85), int32(1)\n",
      "memory usage: 887.8 MB\n"
     ]
    }
   ],
   "source": [
    "status_df.info()"
   ]
  },
  {
   "cell_type": "code",
   "execution_count": 37,
   "metadata": {
    "ExecuteTime": {
     "end_time": "2021-06-27T01:13:31.757580Z",
     "start_time": "2021-06-27T01:13:29.644478Z"
    }
   },
   "outputs": [
    {
     "data": {
      "image/png": "[encoded data removed]",
      "text/plain": [
       "<Figure size 1440x1584 with 16 Axes>"
      ]
     },
     "metadata": {},
     "output_type": "display_data"
    }
   ],
   "source": [
    "# - feature selection, select 10 most influential\n",
    "sns.set(font_scale=1, style='white')\n",
    "status_df.iloc[:,:16].sample(1000).plot(kind='density', subplots=True, layout=(4,4), legend=False,\n",
    "                    sharex=False, figsize=(20,22), title=status_df.iloc[:,:16].columns.tolist());"
   ]
  },
  {
   "cell_type": "code",
   "execution_count": 38,
   "metadata": {
    "ExecuteTime": {
     "end_time": "2021-06-27T01:13:48.214686Z",
     "start_time": "2021-06-27T01:13:48.204768Z"
    }
   },
   "outputs": [],
   "source": [
    "# # correlation plot\n",
    "\n",
    "# X = df[list(df.columns)[:]]\n",
    "\n",
    "# corr = X.select_dtypes(include = ['float64', 'int64']).iloc[:, :].corr()\n",
    "# mask = np.zeros_like(corr)\n",
    "# mask[np.triu_indices_from(mask)] = True\n",
    "# with sns.axes_style(\"white\"):\n",
    "#     plt.figure(figsize=(20, 15))\n",
    "#     sns.heatmap(corr, vmax=1, square=True, cmap=\"YlGnBu\", linecolor='black', mask=mask, annot=False, fmt = '.2f', \n",
    "#                 annot_kws={\"size\":9})\n",
    "#     plt.yticks(rotation=0,fontsize=12)\n",
    "#     plt.xticks(rotation=90,fontsize=12)\n",
    "#     plt.title('Feature Correlation ',fontsize=20)\n",
    "# #     plt.savefig('heatmap.png', format='png', dpi=600)\n",
    "#     plt.show();"
   ]
  },
  {
   "cell_type": "code",
   "execution_count": 30,
   "metadata": {
    "ExecuteTime": {
     "end_time": "2021-06-27T01:10:04.516669Z",
     "start_time": "2021-06-27T01:10:04.506400Z"
    }
   },
   "outputs": [],
   "source": [
    "# grade_df = df.sort_values(by = ['grade'])\n",
    "# sns.countplot(x='grade', data=grade_df, hue ='loan_status')"
   ]
  },
  {
   "cell_type": "code",
   "execution_count": null,
   "metadata": {},
   "outputs": [],
   "source": []
  },
  {
   "cell_type": "code",
   "execution_count": 24,
   "metadata": {
    "ExecuteTime": {
     "end_time": "2021-06-27T06:50:40.231401Z",
     "start_time": "2021-06-27T06:50:25.438181Z"
    }
   },
   "outputs": [],
   "source": [
    "corr = status_df.iloc[:, :].corr()"
   ]
  },
  {
   "cell_type": "code",
   "execution_count": 25,
   "metadata": {
    "ExecuteTime": {
     "end_time": "2021-06-27T06:50:40.246751Z",
     "start_time": "2021-06-27T06:50:40.233384Z"
    }
   },
   "outputs": [
    {
     "data": {
      "text/plain": [
       "Index(['loan_amnt', 'funded_amnt', 'funded_amnt_inv', 'int_rate',\n",
       "       'installment', 'annual_inc', 'loan_status', 'dti', 'delinq_2yrs',\n",
       "       'fico_range_low', 'fico_range_high', 'inq_last_6mths',\n",
       "       'mths_since_last_delinq', 'open_acc', 'pub_rec', 'revol_bal',\n",
       "       'revol_util', 'total_acc', 'out_prncp', 'out_prncp_inv', 'total_pymnt',\n",
       "       'total_pymnt_inv', 'total_rec_prncp', 'total_rec_int',\n",
       "       'total_rec_late_fee', 'recoveries', 'collection_recovery_fee',\n",
       "       'last_pymnt_amnt', 'last_fico_range_high', 'last_fico_range_low',\n",
       "       'collections_12_mths_ex_med', 'policy_code', 'acc_now_delinq',\n",
       "       'tot_coll_amt', 'tot_cur_bal', 'open_acc_6m', 'open_act_il',\n",
       "       'open_il_12m', 'open_il_24m', 'mths_since_rcnt_il', 'total_bal_il',\n",
       "       'il_util', 'open_rv_12m', 'open_rv_24m', 'max_bal_bc', 'all_util',\n",
       "       'total_rev_hi_lim', 'inq_fi', 'total_cu_tl', 'inq_last_12m',\n",
       "       'acc_open_past_24mths', 'avg_cur_bal', 'bc_open_to_buy', 'bc_util',\n",
       "       'chargeoff_within_12_mths', 'delinq_amnt', 'mo_sin_old_il_acct',\n",
       "       'mo_sin_old_rev_tl_op', 'mo_sin_rcnt_rev_tl_op', 'mo_sin_rcnt_tl',\n",
       "       'mort_acc', 'mths_since_recent_bc', 'mths_since_recent_inq',\n",
       "       'mths_since_recent_revol_delinq', 'num_accts_ever_120_pd',\n",
       "       'num_actv_bc_tl', 'num_actv_rev_tl', 'num_bc_sats', 'num_bc_tl',\n",
       "       'num_il_tl', 'num_op_rev_tl', 'num_rev_accts', 'num_rev_tl_bal_gt_0',\n",
       "       'num_sats', 'num_tl_120dpd_2m', 'num_tl_30dpd', 'num_tl_90g_dpd_24m',\n",
       "       'num_tl_op_past_12m', 'pct_tl_nvr_dlq', 'percent_bc_gt_75',\n",
       "       'pub_rec_bankruptcies', 'tax_liens', 'tot_hi_cred_lim',\n",
       "       'total_bal_ex_mort', 'total_bc_limit', 'total_il_high_credit_limit'],\n",
       "      dtype='object')"
      ]
     },
     "execution_count": 25,
     "metadata": {},
     "output_type": "execute_result"
    }
   ],
   "source": [
    "corr.columns"
   ]
  },
  {
   "cell_type": "code",
   "execution_count": 45,
   "metadata": {
    "ExecuteTime": {
     "end_time": "2021-06-27T01:15:50.349391Z",
     "start_time": "2021-06-27T01:15:50.329231Z"
    },
    "scrolled": true
   },
   "outputs": [
    {
     "name": "stdout",
     "output_type": "stream",
     "text": [
      "List the features in descending order of their correlation with loan_status:\n",
      "\n",
      "last_fico_range_high:   0.6678415174331005\n",
      "last_fico_range_low:   0.5757063563487615\n",
      "recoveries:   -0.505414949882516\n",
      "collection_recovery_fee:   -0.48021649343743805\n",
      "total_rec_prncp:   0.43894392392307885\n",
      "last_pymnt_amnt:   0.347384797010831\n",
      "total_pymnt:   0.3151804197281873\n",
      "total_pymnt_inv:   0.3147507427814939\n",
      "int_rate:   -0.258791666420336\n",
      "total_rec_late_fee:   -0.14103221362332524\n",
      "fico_range_low:   0.13068331581617015\n",
      "fico_range_high:   0.1306820072204806\n",
      "acc_open_past_24mths:   -0.09986854961457219\n",
      "all_util:   -0.08901422703217256\n",
      "num_tl_op_past_12m:   -0.08562319385658927\n",
      "dti:   -0.08451003458937172\n",
      "bc_open_to_buy:   0.08204386489660534\n",
      "open_rv_24m:   -0.08191214765904896\n",
      "avg_cur_bal:   0.07892375839035477\n",
      "tot_hi_cred_lim:   0.0784732042738691\n",
      "mort_acc:   0.07529392287530472\n",
      "total_bc_limit:   0.07217112784297383\n",
      "tot_cur_bal:   0.07120620937670977\n",
      "num_actv_rev_tl:   -0.07081436864883829\n",
      "num_rev_tl_bal_gt_0:   -0.0694245439271199\n",
      "percent_bc_gt_75:   -0.06737888102022252\n",
      "bc_util:   -0.06615189822278977\n",
      "funded_amnt:   -0.0656576118786013\n",
      "loan_amnt:   -0.06560394095921224\n",
      "inq_last_6mths:   -0.06545353251047872\n",
      "funded_amnt_inv:   -0.06544536008097038\n",
      "open_rv_12m:   -0.06335762602166194\n",
      "revol_util:   -0.060048462458226634\n",
      "open_acc_6m:   -0.059004636674322736\n",
      "inq_last_12m:   -0.058554608111266976\n",
      "mths_since_recent_inq:   0.05619925643164971\n",
      "total_rec_int:   -0.05571845691058967\n",
      "mo_sin_rcnt_tl:   0.055134286538762296\n",
      "mo_sin_rcnt_rev_tl_op:   0.05393663670700979\n",
      "total_rev_hi_lim:   0.05278340908604017\n",
      "installment:   -0.05170082657925834\n",
      "mths_since_recent_bc:   0.051416722243925614\n",
      "mo_sin_old_rev_tl_op:   0.05050234364180098\n",
      "il_util:   -0.04588483026066277\n",
      "annual_inc:   0.04175941870642555\n",
      "num_actv_bc_tl:   -0.04159760985524221\n",
      "open_il_12m:   -0.04148824194874028\n",
      "open_il_24m:   -0.03882896776539785\n",
      "inq_fi:   -0.03853103232397683\n",
      "max_bal_bc:   0.03752854956198747\n",
      "num_op_rev_tl:   -0.03288629147300292\n",
      "open_acc:   -0.028078300445218494\n",
      "num_sats:   -0.026744018173707314\n",
      "mo_sin_old_il_acct:   0.026212942531316657\n",
      "pub_rec:   -0.026193950117433938\n",
      "pub_rec_bankruptcies:   -0.025307633393643968\n",
      "mths_since_rcnt_il:   0.02107406010521561\n",
      "revol_bal:   0.020009908783489037\n",
      "delinq_2yrs:   -0.01938092470484825\n",
      "num_bc_tl:   0.01733752637080343\n",
      "collections_12_mths_ex_med:   -0.016034457568616017\n",
      "num_bc_sats:   -0.01422484025628728\n",
      "total_cu_tl:   0.01383798652705799\n",
      "mths_since_last_delinq:   0.012326121773042745\n",
      "mths_since_recent_revol_delinq:   0.012120228419813974\n",
      "total_acc:   0.011299989007366397\n",
      "out_prncp:   nan\n",
      "out_prncp_inv:   nan\n",
      "policy_code:   nan\n",
      "pct_tl_nvr_dlq:   0.010560887580145551\n",
      "num_accts_ever_120_pd:   -0.010384162437936256\n",
      "num_tl_90g_dpd_24m:   -0.009895849670857033\n",
      "tax_liens:   -0.0097492925202097\n",
      "open_act_il:   -0.007875533882432144\n",
      "num_il_tl:   -0.006387446218379196\n",
      "num_rev_accts:   0.005008696796694602\n",
      "acc_now_delinq:   -0.00395097040612834\n",
      "total_bal_ex_mort:   0.0037623898270522345\n",
      "chargeoff_within_12_mths:   -0.0031748207220135384\n",
      "delinq_amnt:   -0.0027999816181304904\n",
      "num_tl_30dpd:   -0.002601415834457984\n",
      "total_bal_il:   0.002472620646107302\n",
      "num_tl_120dpd_2m:   -0.001295259504975664\n",
      "total_il_high_credit_limit:   0.00127050515496542\n",
      "tot_coll_amt:   0.0004461419783120312\n"
     ]
    }
   ],
   "source": [
    "# find feature correlated to late payment \n",
    "\n",
    "cor_dict = corr['loan_status'].to_dict()\n",
    "del cor_dict['loan_status']\n",
    "print(\"List the features in descending order of their correlation with loan_status:\\n\")\n",
    "for ele in sorted(cor_dict.items(), key=lambda x: -abs(x[1])):\n",
    "    print(\"{0}:   {1}\".format(*ele))"
   ]
  },
  {
   "cell_type": "code",
   "execution_count": 28,
   "metadata": {
    "ExecuteTime": {
     "end_time": "2021-06-27T06:51:04.094961Z",
     "start_time": "2021-06-27T06:51:04.085966Z"
    },
    "scrolled": true
   },
   "outputs": [],
   "source": [
    "# select top 10 features from the above with highest correlation\n",
    "\n",
    "high_cor = ['last_fico_range_high', 'last_fico_range_low',\n",
    "            'recoveries', 'collection_recovery_fee', \n",
    "            'total_rec_prncp', 'last_pymnt_amnt',\n",
    "            'total_pymnt', 'total_pymnt_inv',\n",
    "            'int_rate', 'total_rec_late_fee']\n"
   ]
  },
  {
   "cell_type": "code",
   "execution_count": 29,
   "metadata": {
    "ExecuteTime": {
     "end_time": "2021-06-27T06:51:04.967120Z",
     "start_time": "2021-06-27T06:51:04.884399Z"
    }
   },
   "outputs": [],
   "source": [
    "ml_df = status_df[high_cor].copy()\n",
    "ml_df['loan_status'] = status_df['loan_status']"
   ]
  },
  {
   "cell_type": "code",
   "execution_count": 30,
   "metadata": {
    "ExecuteTime": {
     "end_time": "2021-06-27T06:51:05.945670Z",
     "start_time": "2021-06-27T06:51:05.913028Z"
    }
   },
   "outputs": [
    {
     "data": {
      "text/plain": [
       "1    0.800374\n",
       "0    0.199626\n",
       "Name: loan_status, dtype: float64"
      ]
     },
     "execution_count": 30,
     "metadata": {},
     "output_type": "execute_result"
    }
   ],
   "source": [
    "ml_df.loan_status.value_counts(normalize=True)"
   ]
  },
  {
   "cell_type": "code",
   "execution_count": 37,
   "metadata": {
    "ExecuteTime": {
     "end_time": "2021-06-27T06:51:42.504014Z",
     "start_time": "2021-06-27T06:51:42.488005Z"
    }
   },
   "outputs": [],
   "source": [
    "import joblib\n",
    "from sklearn.preprocessing import StandardScaler\n",
    "from sklearn.model_selection import train_test_split, cross_val_score\n",
    "from sklearn.linear_model import LogisticRegression\n",
    "from sklearn.ensemble import RandomForestClassifier\n",
    "from sklearn.pipeline import make_pipeline\n",
    "from sklearn.metrics import roc_auc_score, accuracy_score, confusion_matrix"
   ]
  },
  {
   "cell_type": "code",
   "execution_count": 31,
   "metadata": {
    "ExecuteTime": {
     "end_time": "2021-06-27T06:51:08.903376Z",
     "start_time": "2021-06-27T06:51:08.845004Z"
    }
   },
   "outputs": [],
   "source": [
    "X = ml_df.iloc[:, :-1]\n",
    "y = ml_df[['loan_status']]"
   ]
  },
  {
   "cell_type": "code",
   "execution_count": 32,
   "metadata": {
    "ExecuteTime": {
     "end_time": "2021-06-27T06:51:16.133430Z",
     "start_time": "2021-06-27T06:51:10.838236Z"
    }
   },
   "outputs": [],
   "source": [
    "# split data for training and testing\n",
    "rs = 24\n",
    "\n",
    "X_train, X_test, y_train, y_test = train_test_split(X, y, test_size=0.25, \n",
    "                                                    random_state=rs, stratify=y)"
   ]
  },
  {
   "cell_type": "code",
   "execution_count": 70,
   "metadata": {
    "ExecuteTime": {
     "end_time": "2021-06-27T01:32:31.885918Z",
     "start_time": "2021-06-27T01:32:31.866322Z"
    }
   },
   "outputs": [],
   "source": [
    "# # scale input\n",
    "# scaler = preprocessing.StandardScaler().fit(X_train)\n",
    "\n",
    "# X_train_scaled = scaler.transform(X_train)"
   ]
  },
  {
   "cell_type": "code",
   "execution_count": 33,
   "metadata": {
    "ExecuteTime": {
     "end_time": "2021-06-27T06:51:17.460465Z",
     "start_time": "2021-06-27T06:51:17.455025Z"
    }
   },
   "outputs": [],
   "source": [
    "# pipe = make_pipeline(StandardScaler(), LogisticRegression())\n",
    "# pipe.fit(X_train, y_train.values.ravel())"
   ]
  },
  {
   "cell_type": "code",
   "execution_count": 34,
   "metadata": {
    "ExecuteTime": {
     "end_time": "2021-06-27T06:51:20.530632Z",
     "start_time": "2021-06-27T06:51:20.515850Z"
    }
   },
   "outputs": [],
   "source": [
    "# clf = LogisticRegression(random_state=rs).fit(X_train_scaled, y_train)"
   ]
  },
  {
   "cell_type": "code",
   "execution_count": 38,
   "metadata": {
    "ExecuteTime": {
     "end_time": "2021-06-27T06:57:15.620085Z",
     "start_time": "2021-06-27T06:51:45.314913Z"
    }
   },
   "outputs": [
    {
     "data": {
      "text/plain": [
       "RandomForestClassifier(random_state=24)"
      ]
     },
     "execution_count": 38,
     "metadata": {},
     "output_type": "execute_result"
    }
   ],
   "source": [
    "clf = RandomForestClassifier(random_state=rs)\n",
    "clf.fit(X_train, y_train.values.ravel())"
   ]
  },
  {
   "cell_type": "code",
   "execution_count": 39,
   "metadata": {
    "ExecuteTime": {
     "end_time": "2021-06-27T06:57:28.558824Z",
     "start_time": "2021-06-27T06:57:15.620085Z"
    }
   },
   "outputs": [
    {
     "name": "stdout",
     "output_type": "stream",
     "text": [
      "Accuracy Score: 0.9999990089020419\n",
      "ROC AUC Score: 0.999997517612539\n",
      "Confusion Matrix: \n",
      "[[201418      1]\n",
      " [     0 807563]]\n"
     ]
    }
   ],
   "source": [
    "preds = clf.predict(X_train)\n",
    "\n",
    "val_accuracy = accuracy_score(y_train, preds)\n",
    "val_roc_auc = roc_auc_score(y_train, preds)\n",
    "val_confusion_matrix = confusion_matrix(y_train, preds)\n",
    "print(f'Accuracy Score: {val_accuracy}')\n",
    "print(f'ROC AUC Score: {val_roc_auc}')\n",
    "print(f'Confusion Matrix: \\n{val_confusion_matrix}')"
   ]
  },
  {
   "cell_type": "code",
   "execution_count": 40,
   "metadata": {
    "ExecuteTime": {
     "end_time": "2021-06-27T06:57:33.009826Z",
     "start_time": "2021-06-27T06:57:28.558824Z"
    }
   },
   "outputs": [
    {
     "name": "stdout",
     "output_type": "stream",
     "text": [
      "Accuracy Score: 0.9946926809543065\n",
      "ROC AUC Score: 0.9897476711358095\n",
      "Confusion Matrix: \n",
      "[[ 65899   1241]\n",
      " [   544 268644]]\n"
     ]
    }
   ],
   "source": [
    "test_preds = clf.predict(X_test)\n",
    "\n",
    "test_accuracy = accuracy_score(y_test, test_preds)\n",
    "test_roc_auc = roc_auc_score(y_test, test_preds)\n",
    "test_confusion_matrix = confusion_matrix(y_test, test_preds)\n",
    "print(f'Accuracy Score: {test_accuracy}')\n",
    "print(f'ROC AUC Score: {test_roc_auc}')\n",
    "print(f'Confusion Matrix: \\n{test_confusion_matrix}')"
   ]
  },
  {
   "cell_type": "code",
   "execution_count": 43,
   "metadata": {
    "ExecuteTime": {
     "end_time": "2021-06-27T07:06:50.378562Z",
     "start_time": "2021-06-27T07:06:50.240187Z"
    }
   },
   "outputs": [
    {
     "data": {
      "text/plain": [
       "['rf_model.pkl']"
      ]
     },
     "execution_count": 43,
     "metadata": {},
     "output_type": "execute_result"
    }
   ],
   "source": [
    "joblib.dump(clf, 'rf_model.pkl')"
   ]
  },
  {
   "cell_type": "code",
   "execution_count": null,
   "metadata": {},
   "outputs": [],
   "source": []
  },
  {
   "cell_type": "code",
   "execution_count": 58,
   "metadata": {
    "ExecuteTime": {
     "end_time": "2021-06-27T08:00:27.963368Z",
     "start_time": "2021-06-27T08:00:27.608735Z"
    }
   },
   "outputs": [],
   "source": [
    "rf_model = joblib.load('rf_model.pkl')"
   ]
  },
  {
   "cell_type": "code",
   "execution_count": 45,
   "metadata": {
    "ExecuteTime": {
     "end_time": "2021-06-27T07:07:22.369309Z",
     "start_time": "2021-06-27T07:07:17.996663Z"
    }
   },
   "outputs": [
    {
     "name": "stdout",
     "output_type": "stream",
     "text": [
      "Accuracy Score: 0.9946926809543065\n",
      "ROC AUC Score: 0.9897476711358095\n",
      "Confusion Matrix: \n",
      "[[ 65899   1241]\n",
      " [   544 268644]]\n"
     ]
    }
   ],
   "source": [
    "test_preds = clf.predict(X_test)\n",
    "\n",
    "test_accuracy = accuracy_score(y_test, test_preds)\n",
    "test_roc_auc = roc_auc_score(y_test, test_preds)\n",
    "test_confusion_matrix = confusion_matrix(y_test, test_preds)\n",
    "print(f'Accuracy Score: {test_accuracy}')\n",
    "print(f'ROC AUC Score: {test_roc_auc}')\n",
    "print(f'Confusion Matrix: \\n{test_confusion_matrix}')"
   ]
  },
  {
   "cell_type": "markdown",
   "metadata": {},
   "source": [
    "# Part 3: Model Deployment\n",
    "Take the model from Part 2 and deploy it with Flask (or similar framework) in a docker. \n",
    "-\tPrepare a readme.md to elaborate how your scripts work.\n",
    "-\tShow the docker script.\n",
    "-\tShow the integration of your model with Flask.\n",
    "-\tShow your test script, i.e., the script that call the Flask and get the response from the model. \n",
    "-\tDevise a test script such that it will load all the test data from year 2018. Then, send the requests to Flask (correspond to the model). Store all the result in csv. \n",
    "-\tInstead of having Flask handling the request one-by-one, how do you further increase the throughput of the prediction? Please state your assumptions. \n",
    "\n",
    "\n",
    "## [Link to github repo](https://github.com/asyrafjanai/)"
   ]
  },
  {
   "cell_type": "code",
   "execution_count": 47,
   "metadata": {
    "ExecuteTime": {
     "end_time": "2021-06-27T07:12:43.585126Z",
     "start_time": "2021-06-27T07:12:06.878303Z"
    }
   },
   "outputs": [],
   "source": [
    "sample_df = pd.read_csv('accepted_2007_to_2018q4.csv/accepted_2007_to_2018Q4.csv')\n",
    "\n",
    "sample_df = sample_df[~sample_df['issue_d'].isna()]\n",
    "\n",
    "df_2018 = sample_df[sample_df['issue_d'].str.contains('2018')].copy()"
   ]
  },
  {
   "cell_type": "code",
   "execution_count": 49,
   "metadata": {
    "ExecuteTime": {
     "end_time": "2021-06-27T07:12:51.052566Z",
     "start_time": "2021-06-27T07:12:48.073559Z"
    }
   },
   "outputs": [
    {
     "data": {
      "text/plain": [
       "89"
      ]
     },
     "execution_count": 49,
     "metadata": {},
     "output_type": "execute_result"
    }
   ],
   "source": [
    "del sample_df\n",
    "gc.collect()"
   ]
  },
  {
   "cell_type": "code",
   "execution_count": 50,
   "metadata": {
    "ExecuteTime": {
     "end_time": "2021-06-27T07:12:53.193520Z",
     "start_time": "2021-06-27T07:12:53.156791Z"
    }
   },
   "outputs": [
    {
     "name": "stdout",
     "output_type": "stream",
     "text": [
      "<class 'pandas.core.frame.DataFrame'>\n",
      "Int64Index: 495242 entries, 421097 to 1611876\n",
      "Columns: 151 entries, id to settlement_term\n",
      "dtypes: float64(113), object(38)\n",
      "memory usage: 574.3+ MB\n"
     ]
    }
   ],
   "source": [
    "df_2018.info()"
   ]
  },
  {
   "cell_type": "code",
   "execution_count": 52,
   "metadata": {
    "ExecuteTime": {
     "end_time": "2021-06-27T07:15:59.666305Z",
     "start_time": "2021-06-27T07:15:59.619520Z"
    }
   },
   "outputs": [],
   "source": [
    "# select only high-correlation df\n",
    "\n",
    "ml_2018 = df_2018[high_cor].copy()\n",
    "ml_2018['loan_status'] = df_2018['loan_status']"
   ]
  },
  {
   "cell_type": "code",
   "execution_count": 54,
   "metadata": {
    "ExecuteTime": {
     "end_time": "2021-06-27T07:17:12.353178Z",
     "start_time": "2021-06-27T07:17:12.318107Z"
    }
   },
   "outputs": [],
   "source": [
    "ml_2018['loan_status'] = np.where(ml_2018['loan_status']=='Fully Paid', 1, 0) "
   ]
  },
  {
   "cell_type": "code",
   "execution_count": 55,
   "metadata": {
    "ExecuteTime": {
     "end_time": "2021-06-27T07:17:13.673683Z",
     "start_time": "2021-06-27T07:17:13.644345Z"
    }
   },
   "outputs": [
    {
     "data": {
      "text/html": [
       "<div>\n",
       "<style scoped>\n",
       "    .dataframe tbody tr th:only-of-type {\n",
       "        vertical-align: middle;\n",
       "    }\n",
       "\n",
       "    .dataframe tbody tr th {\n",
       "        vertical-align: top;\n",
       "    }\n",
       "\n",
       "    .dataframe thead th {\n",
       "        text-align: right;\n",
       "    }\n",
       "</style>\n",
       "<table border=\"1\" class=\"dataframe\">\n",
       "  <thead>\n",
       "    <tr style=\"text-align: right;\">\n",
       "      <th></th>\n",
       "      <th>last_fico_range_high</th>\n",
       "      <th>last_fico_range_low</th>\n",
       "      <th>recoveries</th>\n",
       "      <th>collection_recovery_fee</th>\n",
       "      <th>total_rec_prncp</th>\n",
       "      <th>last_pymnt_amnt</th>\n",
       "      <th>total_pymnt</th>\n",
       "      <th>total_pymnt_inv</th>\n",
       "      <th>int_rate</th>\n",
       "      <th>total_rec_late_fee</th>\n",
       "      <th>loan_status</th>\n",
       "    </tr>\n",
       "  </thead>\n",
       "  <tbody>\n",
       "    <tr>\n",
       "      <th>421097</th>\n",
       "      <td>609.0</td>\n",
       "      <td>605.0</td>\n",
       "      <td>0.0</td>\n",
       "      <td>0.0</td>\n",
       "      <td>1219.69</td>\n",
       "      <td>186.82</td>\n",
       "      <td>2043.690000</td>\n",
       "      <td>2043.69</td>\n",
       "      <td>20.39</td>\n",
       "      <td>0.0</td>\n",
       "      <td>0</td>\n",
       "    </tr>\n",
       "    <tr>\n",
       "      <th>421098</th>\n",
       "      <td>694.0</td>\n",
       "      <td>690.0</td>\n",
       "      <td>0.0</td>\n",
       "      <td>0.0</td>\n",
       "      <td>4121.50</td>\n",
       "      <td>483.45</td>\n",
       "      <td>5301.420000</td>\n",
       "      <td>5301.42</td>\n",
       "      <td>9.92</td>\n",
       "      <td>0.0</td>\n",
       "      <td>0</td>\n",
       "    </tr>\n",
       "    <tr>\n",
       "      <th>421099</th>\n",
       "      <td>629.0</td>\n",
       "      <td>625.0</td>\n",
       "      <td>0.0</td>\n",
       "      <td>0.0</td>\n",
       "      <td>1006.27</td>\n",
       "      <td>367.82</td>\n",
       "      <td>4007.700000</td>\n",
       "      <td>4007.70</td>\n",
       "      <td>30.79</td>\n",
       "      <td>0.0</td>\n",
       "      <td>0</td>\n",
       "    </tr>\n",
       "    <tr>\n",
       "      <th>421100</th>\n",
       "      <td>669.0</td>\n",
       "      <td>665.0</td>\n",
       "      <td>0.0</td>\n",
       "      <td>0.0</td>\n",
       "      <td>2811.27</td>\n",
       "      <td>688.35</td>\n",
       "      <td>7511.160000</td>\n",
       "      <td>7511.16</td>\n",
       "      <td>21.85</td>\n",
       "      <td>0.0</td>\n",
       "      <td>0</td>\n",
       "    </tr>\n",
       "    <tr>\n",
       "      <th>421101</th>\n",
       "      <td>764.0</td>\n",
       "      <td>760.0</td>\n",
       "      <td>0.0</td>\n",
       "      <td>0.0</td>\n",
       "      <td>3000.00</td>\n",
       "      <td>614.03</td>\n",
       "      <td>3011.577285</td>\n",
       "      <td>3011.58</td>\n",
       "      <td>7.34</td>\n",
       "      <td>0.0</td>\n",
       "      <td>1</td>\n",
       "    </tr>\n",
       "  </tbody>\n",
       "</table>\n",
       "</div>"
      ],
      "text/plain": [
       "        last_fico_range_high  last_fico_range_low  recoveries  \\\n",
       "421097                 609.0                605.0         0.0   \n",
       "421098                 694.0                690.0         0.0   \n",
       "421099                 629.0                625.0         0.0   \n",
       "421100                 669.0                665.0         0.0   \n",
       "421101                 764.0                760.0         0.0   \n",
       "\n",
       "        collection_recovery_fee  total_rec_prncp  last_pymnt_amnt  \\\n",
       "421097                      0.0          1219.69           186.82   \n",
       "421098                      0.0          4121.50           483.45   \n",
       "421099                      0.0          1006.27           367.82   \n",
       "421100                      0.0          2811.27           688.35   \n",
       "421101                      0.0          3000.00           614.03   \n",
       "\n",
       "        total_pymnt  total_pymnt_inv  int_rate  total_rec_late_fee  \\\n",
       "421097  2043.690000          2043.69     20.39                 0.0   \n",
       "421098  5301.420000          5301.42      9.92                 0.0   \n",
       "421099  4007.700000          4007.70     30.79                 0.0   \n",
       "421100  7511.160000          7511.16     21.85                 0.0   \n",
       "421101  3011.577285          3011.58      7.34                 0.0   \n",
       "\n",
       "        loan_status  \n",
       "421097            0  \n",
       "421098            0  \n",
       "421099            0  \n",
       "421100            0  \n",
       "421101            1  "
      ]
     },
     "execution_count": 55,
     "metadata": {},
     "output_type": "execute_result"
    }
   ],
   "source": [
    "ml_2018.head()"
   ]
  },
  {
   "cell_type": "code",
   "execution_count": 81,
   "metadata": {
    "ExecuteTime": {
     "end_time": "2021-06-27T09:34:44.691181Z",
     "start_time": "2021-06-27T09:34:41.410954Z"
    }
   },
   "outputs": [],
   "source": [
    "ml_2018.to_csv('ml_2018.csv', index=False)"
   ]
  },
  {
   "cell_type": "code",
   "execution_count": 60,
   "metadata": {
    "ExecuteTime": {
     "end_time": "2021-06-27T08:01:41.086145Z",
     "start_time": "2021-06-27T08:01:41.063681Z"
    }
   },
   "outputs": [
    {
     "data": {
      "text/plain": [
       "421097     0\n",
       "421098     0\n",
       "421099     0\n",
       "421100     0\n",
       "421101     1\n",
       "          ..\n",
       "1611872    0\n",
       "1611873    0\n",
       "1611874    0\n",
       "1611875    0\n",
       "1611876    0\n",
       "Name: loan_status, Length: 495242, dtype: int32"
      ]
     },
     "execution_count": 60,
     "metadata": {},
     "output_type": "execute_result"
    }
   ],
   "source": [
    "ml_2018.iloc[:,-1]"
   ]
  },
  {
   "cell_type": "code",
   "execution_count": 61,
   "metadata": {
    "ExecuteTime": {
     "end_time": "2021-06-27T08:02:05.285309Z",
     "start_time": "2021-06-27T08:01:54.926191Z"
    }
   },
   "outputs": [
    {
     "name": "stdout",
     "output_type": "stream",
     "text": [
      "Accuracy Score: 0.7841540095549246\n",
      "ROC AUC Score: 0.8806426111773612\n",
      "Confusion Matrix: \n",
      "[[340902 106896]\n",
      " [     0  47444]]\n"
     ]
    }
   ],
   "source": [
    "test_preds = clf.predict(ml_2018.iloc[:,:-1])\n",
    "y_test = ml_2018.iloc[:,-1]\n",
    "\n",
    "test_accuracy = accuracy_score(y_test, test_preds)\n",
    "test_roc_auc = roc_auc_score(y_test, test_preds)\n",
    "test_confusion_matrix = confusion_matrix(y_test, test_preds)\n",
    "print(f'Accuracy Score: {test_accuracy}')\n",
    "print(f'ROC AUC Score: {test_roc_auc}')\n",
    "print(f'Confusion Matrix: \\n{test_confusion_matrix}')"
   ]
  },
  {
   "cell_type": "code",
   "execution_count": null,
   "metadata": {},
   "outputs": [],
   "source": []
  },
  {
   "cell_type": "markdown",
   "metadata": {},
   "source": [
    "# Part 4: Model Performance\n",
    "Filter the data set for year 2018. Apply the model from Part II to the data set of year 2018. Support your answer with hypothesis testing, evidence, or theories if possible.\n",
    "-\tHow accurate is the prediction over the late payment? \n",
    "  - nedd to test\n",
    "-\tAssume that you do not have the late payment information (column “loan_status”), how do you know your model is degrading or improving?\n",
    "  - data drift. create data drift monitor by comparing the newer dataset with previous dataset. set alert if data drifft is over the threshold.\n",
    "-\tHow many months/years of data we should take to build a model? Assume that you favour long data (e.g., 10 years), how do you train the model?\n",
    "  - we can select all the dataset and do some stratified sampling to make sure we have the correct representation for each year\n",
    "-\tAssume that you favour a relatively short data (e.g., 3 months data), how do you ensure your model will capture the sudden change of population (e.g., MCO causes the economy collapse)? \n",
    "  - data drift monitor. let say the value is over the threshold, we need to retrain the model since current model will not produce accurate result when making prediction.\n"
   ]
  },
  {
   "cell_type": "code",
   "execution_count": 1,
   "metadata": {
    "ExecuteTime": {
     "end_time": "2021-06-27T23:55:34.266392Z",
     "start_time": "2021-06-27T23:55:34.176141Z"
    }
   },
   "outputs": [],
   "source": [
    "import requests\n",
    "import json"
   ]
  },
  {
   "cell_type": "code",
   "execution_count": 9,
   "metadata": {
    "ExecuteTime": {
     "end_time": "2021-06-27T23:57:19.979957Z",
     "start_time": "2021-06-27T23:57:19.919975Z"
    }
   },
   "outputs": [],
   "source": [
    "url = 'http://localhost:5000/predict'\n",
    "\n",
    "# with open('ml_2018_sample.csv', 'rb') as f:\n",
    "#     csv_file = \n",
    "    \n",
    "    \n",
    "files = {'file': open('ml_2018_sample.csv', 'rb')}\n",
    "\n",
    "r = requests.post(url, files=files)"
   ]
  },
  {
   "cell_type": "code",
   "execution_count": 12,
   "metadata": {
    "ExecuteTime": {
     "end_time": "2021-06-27T23:57:48.332354Z",
     "start_time": "2021-06-27T23:57:48.318355Z"
    }
   },
   "outputs": [
    {
     "data": {
      "text/plain": [
       "'[1, 0, 1, 0, 1, 1, 1, 1, 1, 0, 0, 0, 0, 0, 0, 0, 0, 0, 1, 1]'"
      ]
     },
     "execution_count": 12,
     "metadata": {},
     "output_type": "execute_result"
    }
   ],
   "source": [
    "r.json()['result']"
   ]
  },
  {
   "cell_type": "raw",
   "metadata": {},
   "source": []
  },
  {
   "cell_type": "code",
   "execution_count": 3,
   "metadata": {
    "ExecuteTime": {
     "end_time": "2021-06-27T23:55:36.316112Z",
     "start_time": "2021-06-27T23:55:36.256206Z"
    }
   },
   "outputs": [
    {
     "ename": "JSONDecodeError",
     "evalue": "Expecting value: line 1 column 1 (char 0)",
     "output_type": "error",
     "traceback": [
      "\u001b[1;31m---------------------------------------------------------------------------\u001b[0m",
      "\u001b[1;31mJSONDecodeError\u001b[0m                           Traceback (most recent call last)",
      "\u001b[1;32m<ipython-input-3-44d28016432a>\u001b[0m in \u001b[0;36m<module>\u001b[1;34m\u001b[0m\n\u001b[1;32m----> 1\u001b[1;33m \u001b[0mr\u001b[0m\u001b[1;33m.\u001b[0m\u001b[0mjson\u001b[0m\u001b[1;33m(\u001b[0m\u001b[1;33m)\u001b[0m\u001b[1;33m[\u001b[0m\u001b[1;34m'result'\u001b[0m\u001b[1;33m]\u001b[0m\u001b[1;33m\u001b[0m\u001b[1;33m\u001b[0m\u001b[0m\n\u001b[0m",
      "\u001b[1;32m~\\anaconda3\\envs\\tech\\lib\\site-packages\\requests\\models.py\u001b[0m in \u001b[0;36mjson\u001b[1;34m(self, **kwargs)\u001b[0m\n\u001b[0;32m    898\u001b[0m                     \u001b[1;31m# used.\u001b[0m\u001b[1;33m\u001b[0m\u001b[1;33m\u001b[0m\u001b[1;33m\u001b[0m\u001b[0m\n\u001b[0;32m    899\u001b[0m                     \u001b[1;32mpass\u001b[0m\u001b[1;33m\u001b[0m\u001b[1;33m\u001b[0m\u001b[0m\n\u001b[1;32m--> 900\u001b[1;33m         \u001b[1;32mreturn\u001b[0m \u001b[0mcomplexjson\u001b[0m\u001b[1;33m.\u001b[0m\u001b[0mloads\u001b[0m\u001b[1;33m(\u001b[0m\u001b[0mself\u001b[0m\u001b[1;33m.\u001b[0m\u001b[0mtext\u001b[0m\u001b[1;33m,\u001b[0m \u001b[1;33m**\u001b[0m\u001b[0mkwargs\u001b[0m\u001b[1;33m)\u001b[0m\u001b[1;33m\u001b[0m\u001b[1;33m\u001b[0m\u001b[0m\n\u001b[0m\u001b[0;32m    901\u001b[0m \u001b[1;33m\u001b[0m\u001b[0m\n\u001b[0;32m    902\u001b[0m     \u001b[1;33m@\u001b[0m\u001b[0mproperty\u001b[0m\u001b[1;33m\u001b[0m\u001b[1;33m\u001b[0m\u001b[0m\n",
      "\u001b[1;32m~\\anaconda3\\envs\\tech\\lib\\json\\__init__.py\u001b[0m in \u001b[0;36mloads\u001b[1;34m(s, encoding, cls, object_hook, parse_float, parse_int, parse_constant, object_pairs_hook, **kw)\u001b[0m\n\u001b[0;32m    346\u001b[0m             \u001b[0mparse_int\u001b[0m \u001b[1;32mis\u001b[0m \u001b[1;32mNone\u001b[0m \u001b[1;32mand\u001b[0m \u001b[0mparse_float\u001b[0m \u001b[1;32mis\u001b[0m \u001b[1;32mNone\u001b[0m \u001b[1;32mand\u001b[0m\u001b[1;33m\u001b[0m\u001b[1;33m\u001b[0m\u001b[0m\n\u001b[0;32m    347\u001b[0m             parse_constant is None and object_pairs_hook is None and not kw):\n\u001b[1;32m--> 348\u001b[1;33m         \u001b[1;32mreturn\u001b[0m \u001b[0m_default_decoder\u001b[0m\u001b[1;33m.\u001b[0m\u001b[0mdecode\u001b[0m\u001b[1;33m(\u001b[0m\u001b[0ms\u001b[0m\u001b[1;33m)\u001b[0m\u001b[1;33m\u001b[0m\u001b[1;33m\u001b[0m\u001b[0m\n\u001b[0m\u001b[0;32m    349\u001b[0m     \u001b[1;32mif\u001b[0m \u001b[0mcls\u001b[0m \u001b[1;32mis\u001b[0m \u001b[1;32mNone\u001b[0m\u001b[1;33m:\u001b[0m\u001b[1;33m\u001b[0m\u001b[1;33m\u001b[0m\u001b[0m\n\u001b[0;32m    350\u001b[0m         \u001b[0mcls\u001b[0m \u001b[1;33m=\u001b[0m \u001b[0mJSONDecoder\u001b[0m\u001b[1;33m\u001b[0m\u001b[1;33m\u001b[0m\u001b[0m\n",
      "\u001b[1;32m~\\anaconda3\\envs\\tech\\lib\\json\\decoder.py\u001b[0m in \u001b[0;36mdecode\u001b[1;34m(self, s, _w)\u001b[0m\n\u001b[0;32m    335\u001b[0m \u001b[1;33m\u001b[0m\u001b[0m\n\u001b[0;32m    336\u001b[0m         \"\"\"\n\u001b[1;32m--> 337\u001b[1;33m         \u001b[0mobj\u001b[0m\u001b[1;33m,\u001b[0m \u001b[0mend\u001b[0m \u001b[1;33m=\u001b[0m \u001b[0mself\u001b[0m\u001b[1;33m.\u001b[0m\u001b[0mraw_decode\u001b[0m\u001b[1;33m(\u001b[0m\u001b[0ms\u001b[0m\u001b[1;33m,\u001b[0m \u001b[0midx\u001b[0m\u001b[1;33m=\u001b[0m\u001b[0m_w\u001b[0m\u001b[1;33m(\u001b[0m\u001b[0ms\u001b[0m\u001b[1;33m,\u001b[0m \u001b[1;36m0\u001b[0m\u001b[1;33m)\u001b[0m\u001b[1;33m.\u001b[0m\u001b[0mend\u001b[0m\u001b[1;33m(\u001b[0m\u001b[1;33m)\u001b[0m\u001b[1;33m)\u001b[0m\u001b[1;33m\u001b[0m\u001b[1;33m\u001b[0m\u001b[0m\n\u001b[0m\u001b[0;32m    338\u001b[0m         \u001b[0mend\u001b[0m \u001b[1;33m=\u001b[0m \u001b[0m_w\u001b[0m\u001b[1;33m(\u001b[0m\u001b[0ms\u001b[0m\u001b[1;33m,\u001b[0m \u001b[0mend\u001b[0m\u001b[1;33m)\u001b[0m\u001b[1;33m.\u001b[0m\u001b[0mend\u001b[0m\u001b[1;33m(\u001b[0m\u001b[1;33m)\u001b[0m\u001b[1;33m\u001b[0m\u001b[1;33m\u001b[0m\u001b[0m\n\u001b[0;32m    339\u001b[0m         \u001b[1;32mif\u001b[0m \u001b[0mend\u001b[0m \u001b[1;33m!=\u001b[0m \u001b[0mlen\u001b[0m\u001b[1;33m(\u001b[0m\u001b[0ms\u001b[0m\u001b[1;33m)\u001b[0m\u001b[1;33m:\u001b[0m\u001b[1;33m\u001b[0m\u001b[1;33m\u001b[0m\u001b[0m\n",
      "\u001b[1;32m~\\anaconda3\\envs\\tech\\lib\\json\\decoder.py\u001b[0m in \u001b[0;36mraw_decode\u001b[1;34m(self, s, idx)\u001b[0m\n\u001b[0;32m    353\u001b[0m             \u001b[0mobj\u001b[0m\u001b[1;33m,\u001b[0m \u001b[0mend\u001b[0m \u001b[1;33m=\u001b[0m \u001b[0mself\u001b[0m\u001b[1;33m.\u001b[0m\u001b[0mscan_once\u001b[0m\u001b[1;33m(\u001b[0m\u001b[0ms\u001b[0m\u001b[1;33m,\u001b[0m \u001b[0midx\u001b[0m\u001b[1;33m)\u001b[0m\u001b[1;33m\u001b[0m\u001b[1;33m\u001b[0m\u001b[0m\n\u001b[0;32m    354\u001b[0m         \u001b[1;32mexcept\u001b[0m \u001b[0mStopIteration\u001b[0m \u001b[1;32mas\u001b[0m \u001b[0merr\u001b[0m\u001b[1;33m:\u001b[0m\u001b[1;33m\u001b[0m\u001b[1;33m\u001b[0m\u001b[0m\n\u001b[1;32m--> 355\u001b[1;33m             \u001b[1;32mraise\u001b[0m \u001b[0mJSONDecodeError\u001b[0m\u001b[1;33m(\u001b[0m\u001b[1;34m\"Expecting value\"\u001b[0m\u001b[1;33m,\u001b[0m \u001b[0ms\u001b[0m\u001b[1;33m,\u001b[0m \u001b[0merr\u001b[0m\u001b[1;33m.\u001b[0m\u001b[0mvalue\u001b[0m\u001b[1;33m)\u001b[0m \u001b[1;32mfrom\u001b[0m \u001b[1;32mNone\u001b[0m\u001b[1;33m\u001b[0m\u001b[1;33m\u001b[0m\u001b[0m\n\u001b[0m\u001b[0;32m    356\u001b[0m         \u001b[1;32mreturn\u001b[0m \u001b[0mobj\u001b[0m\u001b[1;33m,\u001b[0m \u001b[0mend\u001b[0m\u001b[1;33m\u001b[0m\u001b[1;33m\u001b[0m\u001b[0m\n",
      "\u001b[1;31mJSONDecodeError\u001b[0m: Expecting value: line 1 column 1 (char 0)"
     ]
    }
   ],
   "source": [
    "r.json()['result']"
   ]
  },
  {
   "cell_type": "code",
   "execution_count": 113,
   "metadata": {
    "ExecuteTime": {
     "end_time": "2021-06-27T10:10:22.229542Z",
     "start_time": "2021-06-27T10:10:22.199810Z"
    }
   },
   "outputs": [
    {
     "data": {
      "text/plain": [
       "[1, 0, 1, 0, 1, 1, 1, 1, 1, 0, 0, 0, 0, 0, 0, 0, 0, 0, 1, 1]"
      ]
     },
     "execution_count": 113,
     "metadata": {},
     "output_type": "execute_result"
    }
   ],
   "source": [
    "json.loads(r.json()['result'])"
   ]
  },
  {
   "cell_type": "code",
   "execution_count": 91,
   "metadata": {
    "ExecuteTime": {
     "end_time": "2021-06-27T09:45:38.296589Z",
     "start_time": "2021-06-27T09:45:38.244688Z"
    }
   },
   "outputs": [],
   "source": [
    "import pendulum"
   ]
  },
  {
   "cell_type": "code",
   "execution_count": 92,
   "metadata": {
    "ExecuteTime": {
     "end_time": "2021-06-27T09:45:51.801804Z",
     "start_time": "2021-06-27T09:45:51.793803Z"
    }
   },
   "outputs": [],
   "source": [
    "now = pendulum.now()"
   ]
  },
  {
   "cell_type": "code",
   "execution_count": 95,
   "metadata": {
    "ExecuteTime": {
     "end_time": "2021-06-27T09:46:49.997553Z",
     "start_time": "2021-06-27T09:46:49.987949Z"
    }
   },
   "outputs": [
    {
     "data": {
      "text/plain": [
       "'2021-06-27'"
      ]
     },
     "execution_count": 95,
     "metadata": {},
     "output_type": "execute_result"
    }
   ],
   "source": [
    "now.date().to_date_string()"
   ]
  },
  {
   "cell_type": "code",
   "execution_count": null,
   "metadata": {},
   "outputs": [],
   "source": []
  }
 ],
 "metadata": {
  "kernelspec": {
   "display_name": "Python [conda env:tech] *",
   "language": "python",
   "name": "conda-env-tech-py"
  },
  "language_info": {
   "codemirror_mode": {
    "name": "ipython",
    "version": 3
   },
   "file_extension": ".py",
   "mimetype": "text/x-python",
   "name": "python",
   "nbconvert_exporter": "python",
   "pygments_lexer": "ipython3",
   "version": "3.7.9"
  }
 },
 "nbformat": 4,
 "nbformat_minor": 4
}
