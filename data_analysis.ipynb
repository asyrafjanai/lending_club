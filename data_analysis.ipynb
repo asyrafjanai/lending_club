{
 "cells": [
  {
   "cell_type": "markdown",
   "metadata": {},
   "source": [
    "#  Part 1: Data Processing\n",
    "Download the data set (accepted_2007_to_2018Q4.csv). Filter the data set for year 2015.\n",
    "-\tShow how you process and clean the data in Jupyter notebook.\n",
    "-\tShow simple analytics over the data.\n",
    "\n",
    "\n"
   ]
  },
  {
   "cell_type": "code",
   "execution_count": 3,
   "metadata": {
    "ExecuteTime": {
     "end_time": "2021-06-28T01:24:38.098016Z",
     "start_time": "2021-06-28T01:24:38.089947Z"
    }
   },
   "outputs": [],
   "source": [
    "import gc\n",
    "import os\n",
    "\n",
    "import numpy as np\n",
    "import pandas as pd\n",
    "import matplotlib.pyplot as plt\n",
    "import seaborn as sns"
   ]
  },
  {
   "cell_type": "code",
   "execution_count": 6,
   "metadata": {
    "ExecuteTime": {
     "end_time": "2021-06-28T01:27:28.673147Z",
     "start_time": "2021-06-28T01:26:52.034455Z"
    }
   },
   "outputs": [],
   "source": [
    "# load the downloaded csv file\n",
    "\n",
    "df = pd.read_csv('accepted_2007_to_2018q4.csv/accepted_2007_to_2018Q4.csv')"
   ]
  },
  {
   "cell_type": "code",
   "execution_count": 7,
   "metadata": {
    "ExecuteTime": {
     "end_time": "2021-06-28T01:27:28.734626Z",
     "start_time": "2021-06-28T01:27:28.673147Z"
    }
   },
   "outputs": [
    {
     "data": {
      "text/html": [
       "<div>\n",
       "<style scoped>\n",
       "    .dataframe tbody tr th:only-of-type {\n",
       "        vertical-align: middle;\n",
       "    }\n",
       "\n",
       "    .dataframe tbody tr th {\n",
       "        vertical-align: top;\n",
       "    }\n",
       "\n",
       "    .dataframe thead th {\n",
       "        text-align: right;\n",
       "    }\n",
       "</style>\n",
       "<table border=\"1\" class=\"dataframe\">\n",
       "  <thead>\n",
       "    <tr style=\"text-align: right;\">\n",
       "      <th></th>\n",
       "      <th>id</th>\n",
       "      <th>member_id</th>\n",
       "      <th>loan_amnt</th>\n",
       "      <th>funded_amnt</th>\n",
       "      <th>funded_amnt_inv</th>\n",
       "      <th>term</th>\n",
       "      <th>int_rate</th>\n",
       "      <th>installment</th>\n",
       "      <th>grade</th>\n",
       "      <th>sub_grade</th>\n",
       "      <th>...</th>\n",
       "      <th>hardship_payoff_balance_amount</th>\n",
       "      <th>hardship_last_payment_amount</th>\n",
       "      <th>disbursement_method</th>\n",
       "      <th>debt_settlement_flag</th>\n",
       "      <th>debt_settlement_flag_date</th>\n",
       "      <th>settlement_status</th>\n",
       "      <th>settlement_date</th>\n",
       "      <th>settlement_amount</th>\n",
       "      <th>settlement_percentage</th>\n",
       "      <th>settlement_term</th>\n",
       "    </tr>\n",
       "  </thead>\n",
       "  <tbody>\n",
       "    <tr>\n",
       "      <th>0</th>\n",
       "      <td>68407277</td>\n",
       "      <td>NaN</td>\n",
       "      <td>3600.0</td>\n",
       "      <td>3600.0</td>\n",
       "      <td>3600.0</td>\n",
       "      <td>36 months</td>\n",
       "      <td>13.99</td>\n",
       "      <td>123.03</td>\n",
       "      <td>C</td>\n",
       "      <td>C4</td>\n",
       "      <td>...</td>\n",
       "      <td>NaN</td>\n",
       "      <td>NaN</td>\n",
       "      <td>Cash</td>\n",
       "      <td>N</td>\n",
       "      <td>NaN</td>\n",
       "      <td>NaN</td>\n",
       "      <td>NaN</td>\n",
       "      <td>NaN</td>\n",
       "      <td>NaN</td>\n",
       "      <td>NaN</td>\n",
       "    </tr>\n",
       "    <tr>\n",
       "      <th>1</th>\n",
       "      <td>68355089</td>\n",
       "      <td>NaN</td>\n",
       "      <td>24700.0</td>\n",
       "      <td>24700.0</td>\n",
       "      <td>24700.0</td>\n",
       "      <td>36 months</td>\n",
       "      <td>11.99</td>\n",
       "      <td>820.28</td>\n",
       "      <td>C</td>\n",
       "      <td>C1</td>\n",
       "      <td>...</td>\n",
       "      <td>NaN</td>\n",
       "      <td>NaN</td>\n",
       "      <td>Cash</td>\n",
       "      <td>N</td>\n",
       "      <td>NaN</td>\n",
       "      <td>NaN</td>\n",
       "      <td>NaN</td>\n",
       "      <td>NaN</td>\n",
       "      <td>NaN</td>\n",
       "      <td>NaN</td>\n",
       "    </tr>\n",
       "    <tr>\n",
       "      <th>2</th>\n",
       "      <td>68341763</td>\n",
       "      <td>NaN</td>\n",
       "      <td>20000.0</td>\n",
       "      <td>20000.0</td>\n",
       "      <td>20000.0</td>\n",
       "      <td>60 months</td>\n",
       "      <td>10.78</td>\n",
       "      <td>432.66</td>\n",
       "      <td>B</td>\n",
       "      <td>B4</td>\n",
       "      <td>...</td>\n",
       "      <td>NaN</td>\n",
       "      <td>NaN</td>\n",
       "      <td>Cash</td>\n",
       "      <td>N</td>\n",
       "      <td>NaN</td>\n",
       "      <td>NaN</td>\n",
       "      <td>NaN</td>\n",
       "      <td>NaN</td>\n",
       "      <td>NaN</td>\n",
       "      <td>NaN</td>\n",
       "    </tr>\n",
       "    <tr>\n",
       "      <th>3</th>\n",
       "      <td>66310712</td>\n",
       "      <td>NaN</td>\n",
       "      <td>35000.0</td>\n",
       "      <td>35000.0</td>\n",
       "      <td>35000.0</td>\n",
       "      <td>60 months</td>\n",
       "      <td>14.85</td>\n",
       "      <td>829.90</td>\n",
       "      <td>C</td>\n",
       "      <td>C5</td>\n",
       "      <td>...</td>\n",
       "      <td>NaN</td>\n",
       "      <td>NaN</td>\n",
       "      <td>Cash</td>\n",
       "      <td>N</td>\n",
       "      <td>NaN</td>\n",
       "      <td>NaN</td>\n",
       "      <td>NaN</td>\n",
       "      <td>NaN</td>\n",
       "      <td>NaN</td>\n",
       "      <td>NaN</td>\n",
       "    </tr>\n",
       "    <tr>\n",
       "      <th>4</th>\n",
       "      <td>68476807</td>\n",
       "      <td>NaN</td>\n",
       "      <td>10400.0</td>\n",
       "      <td>10400.0</td>\n",
       "      <td>10400.0</td>\n",
       "      <td>60 months</td>\n",
       "      <td>22.45</td>\n",
       "      <td>289.91</td>\n",
       "      <td>F</td>\n",
       "      <td>F1</td>\n",
       "      <td>...</td>\n",
       "      <td>NaN</td>\n",
       "      <td>NaN</td>\n",
       "      <td>Cash</td>\n",
       "      <td>N</td>\n",
       "      <td>NaN</td>\n",
       "      <td>NaN</td>\n",
       "      <td>NaN</td>\n",
       "      <td>NaN</td>\n",
       "      <td>NaN</td>\n",
       "      <td>NaN</td>\n",
       "    </tr>\n",
       "  </tbody>\n",
       "</table>\n",
       "<p>5 rows × 151 columns</p>\n",
       "</div>"
      ],
      "text/plain": [
       "         id  member_id  loan_amnt  funded_amnt  funded_amnt_inv        term  \\\n",
       "0  68407277        NaN     3600.0       3600.0           3600.0   36 months   \n",
       "1  68355089        NaN    24700.0      24700.0          24700.0   36 months   \n",
       "2  68341763        NaN    20000.0      20000.0          20000.0   60 months   \n",
       "3  66310712        NaN    35000.0      35000.0          35000.0   60 months   \n",
       "4  68476807        NaN    10400.0      10400.0          10400.0   60 months   \n",
       "\n",
       "   int_rate  installment grade sub_grade  ... hardship_payoff_balance_amount  \\\n",
       "0     13.99       123.03     C        C4  ...                            NaN   \n",
       "1     11.99       820.28     C        C1  ...                            NaN   \n",
       "2     10.78       432.66     B        B4  ...                            NaN   \n",
       "3     14.85       829.90     C        C5  ...                            NaN   \n",
       "4     22.45       289.91     F        F1  ...                            NaN   \n",
       "\n",
       "  hardship_last_payment_amount disbursement_method  debt_settlement_flag  \\\n",
       "0                          NaN                Cash                     N   \n",
       "1                          NaN                Cash                     N   \n",
       "2                          NaN                Cash                     N   \n",
       "3                          NaN                Cash                     N   \n",
       "4                          NaN                Cash                     N   \n",
       "\n",
       "  debt_settlement_flag_date settlement_status settlement_date  \\\n",
       "0                       NaN               NaN             NaN   \n",
       "1                       NaN               NaN             NaN   \n",
       "2                       NaN               NaN             NaN   \n",
       "3                       NaN               NaN             NaN   \n",
       "4                       NaN               NaN             NaN   \n",
       "\n",
       "  settlement_amount settlement_percentage settlement_term  \n",
       "0               NaN                   NaN             NaN  \n",
       "1               NaN                   NaN             NaN  \n",
       "2               NaN                   NaN             NaN  \n",
       "3               NaN                   NaN             NaN  \n",
       "4               NaN                   NaN             NaN  \n",
       "\n",
       "[5 rows x 151 columns]"
      ]
     },
     "execution_count": 7,
     "metadata": {},
     "output_type": "execute_result"
    }
   ],
   "source": [
    "# take a peek at the data\n",
    "df.head()"
   ]
  },
  {
   "cell_type": "code",
   "execution_count": 8,
   "metadata": {
    "ExecuteTime": {
     "end_time": "2021-06-28T01:27:28.750615Z",
     "start_time": "2021-06-28T01:27:28.738596Z"
    }
   },
   "outputs": [
    {
     "data": {
      "text/plain": [
       "(2260701, 151)"
      ]
     },
     "execution_count": 8,
     "metadata": {},
     "output_type": "execute_result"
    }
   ],
   "source": [
    "# take a look at df shape. There's around 2.26 mil data point with 151 columns. Let's see the column name\n",
    "df.shape"
   ]
  },
  {
   "cell_type": "code",
   "execution_count": 9,
   "metadata": {
    "ExecuteTime": {
     "end_time": "2021-06-28T01:27:28.766608Z",
     "start_time": "2021-06-28T01:27:28.750615Z"
    },
    "scrolled": true
   },
   "outputs": [
    {
     "data": {
      "text/plain": [
       "array(['id', 'member_id', 'loan_amnt', 'funded_amnt', 'funded_amnt_inv',\n",
       "       'term', 'int_rate', 'installment', 'grade', 'sub_grade',\n",
       "       'emp_title', 'emp_length', 'home_ownership', 'annual_inc',\n",
       "       'verification_status', 'issue_d', 'loan_status', 'pymnt_plan',\n",
       "       'url', 'desc', 'purpose', 'title', 'zip_code', 'addr_state', 'dti',\n",
       "       'delinq_2yrs', 'earliest_cr_line', 'fico_range_low',\n",
       "       'fico_range_high', 'inq_last_6mths', 'mths_since_last_delinq',\n",
       "       'mths_since_last_record', 'open_acc', 'pub_rec', 'revol_bal',\n",
       "       'revol_util', 'total_acc', 'initial_list_status', 'out_prncp',\n",
       "       'out_prncp_inv', 'total_pymnt', 'total_pymnt_inv',\n",
       "       'total_rec_prncp', 'total_rec_int', 'total_rec_late_fee',\n",
       "       'recoveries', 'collection_recovery_fee', 'last_pymnt_d',\n",
       "       'last_pymnt_amnt', 'next_pymnt_d', 'last_credit_pull_d',\n",
       "       'last_fico_range_high', 'last_fico_range_low',\n",
       "       'collections_12_mths_ex_med', 'mths_since_last_major_derog',\n",
       "       'policy_code', 'application_type', 'annual_inc_joint', 'dti_joint',\n",
       "       'verification_status_joint', 'acc_now_delinq', 'tot_coll_amt',\n",
       "       'tot_cur_bal', 'open_acc_6m', 'open_act_il', 'open_il_12m',\n",
       "       'open_il_24m', 'mths_since_rcnt_il', 'total_bal_il', 'il_util',\n",
       "       'open_rv_12m', 'open_rv_24m', 'max_bal_bc', 'all_util',\n",
       "       'total_rev_hi_lim', 'inq_fi', 'total_cu_tl', 'inq_last_12m',\n",
       "       'acc_open_past_24mths', 'avg_cur_bal', 'bc_open_to_buy', 'bc_util',\n",
       "       'chargeoff_within_12_mths', 'delinq_amnt', 'mo_sin_old_il_acct',\n",
       "       'mo_sin_old_rev_tl_op', 'mo_sin_rcnt_rev_tl_op', 'mo_sin_rcnt_tl',\n",
       "       'mort_acc', 'mths_since_recent_bc', 'mths_since_recent_bc_dlq',\n",
       "       'mths_since_recent_inq', 'mths_since_recent_revol_delinq',\n",
       "       'num_accts_ever_120_pd', 'num_actv_bc_tl', 'num_actv_rev_tl',\n",
       "       'num_bc_sats', 'num_bc_tl', 'num_il_tl', 'num_op_rev_tl',\n",
       "       'num_rev_accts', 'num_rev_tl_bal_gt_0', 'num_sats',\n",
       "       'num_tl_120dpd_2m', 'num_tl_30dpd', 'num_tl_90g_dpd_24m',\n",
       "       'num_tl_op_past_12m', 'pct_tl_nvr_dlq', 'percent_bc_gt_75',\n",
       "       'pub_rec_bankruptcies', 'tax_liens', 'tot_hi_cred_lim',\n",
       "       'total_bal_ex_mort', 'total_bc_limit',\n",
       "       'total_il_high_credit_limit', 'revol_bal_joint',\n",
       "       'sec_app_fico_range_low', 'sec_app_fico_range_high',\n",
       "       'sec_app_earliest_cr_line', 'sec_app_inq_last_6mths',\n",
       "       'sec_app_mort_acc', 'sec_app_open_acc', 'sec_app_revol_util',\n",
       "       'sec_app_open_act_il', 'sec_app_num_rev_accts',\n",
       "       'sec_app_chargeoff_within_12_mths',\n",
       "       'sec_app_collections_12_mths_ex_med',\n",
       "       'sec_app_mths_since_last_major_derog', 'hardship_flag',\n",
       "       'hardship_type', 'hardship_reason', 'hardship_status',\n",
       "       'deferral_term', 'hardship_amount', 'hardship_start_date',\n",
       "       'hardship_end_date', 'payment_plan_start_date', 'hardship_length',\n",
       "       'hardship_dpd', 'hardship_loan_status',\n",
       "       'orig_projected_additional_accrued_interest',\n",
       "       'hardship_payoff_balance_amount', 'hardship_last_payment_amount',\n",
       "       'disbursement_method', 'debt_settlement_flag',\n",
       "       'debt_settlement_flag_date', 'settlement_status',\n",
       "       'settlement_date', 'settlement_amount', 'settlement_percentage',\n",
       "       'settlement_term'], dtype=object)"
      ]
     },
     "execution_count": 9,
     "metadata": {},
     "output_type": "execute_result"
    }
   ],
   "source": [
    "df.columns.values"
   ]
  },
  {
   "cell_type": "code",
   "execution_count": 10,
   "metadata": {
    "ExecuteTime": {
     "end_time": "2021-06-28T01:27:28.798120Z",
     "start_time": "2021-06-28T01:27:28.766608Z"
    }
   },
   "outputs": [
    {
     "name": "stdout",
     "output_type": "stream",
     "text": [
      "<class 'pandas.core.frame.DataFrame'>\n",
      "RangeIndex: 2260701 entries, 0 to 2260700\n",
      "Columns: 151 entries, id to settlement_term\n",
      "dtypes: float64(113), object(38)\n",
      "memory usage: 2.5+ GB\n"
     ]
    }
   ],
   "source": [
    "# the data is using 2.5gb memory. let's filter it for easier work\n",
    "df.info()"
   ]
  },
  {
   "cell_type": "code",
   "execution_count": 11,
   "metadata": {
    "ExecuteTime": {
     "end_time": "2021-06-28T01:27:28.976769Z",
     "start_time": "2021-06-28T01:27:28.798120Z"
    }
   },
   "outputs": [
    {
     "data": {
      "text/plain": [
       "Mar-2016    61992\n",
       "Oct-2015    48631\n",
       "May-2018    46311\n",
       "Oct-2018    46305\n",
       "Aug-2018    46079\n",
       "            ...  \n",
       "Aug-2007       74\n",
       "Jul-2007       63\n",
       "Sep-2008       57\n",
       "Sep-2007       53\n",
       "Jun-2007       24\n",
       "Name: issue_d, Length: 139, dtype: int64"
      ]
     },
     "execution_count": 11,
     "metadata": {},
     "output_type": "execute_result"
    }
   ],
   "source": [
    "# looking at the data info in kaggle, the date column is issue_d. lets filter this to year 2015 only.\n",
    "df.issue_d.value_counts()"
   ]
  },
  {
   "cell_type": "code",
   "execution_count": 12,
   "metadata": {
    "ExecuteTime": {
     "end_time": "2021-06-28T01:27:32.161676Z",
     "start_time": "2021-06-28T01:27:28.976769Z"
    }
   },
   "outputs": [],
   "source": [
    "# we could split the issue_d column into month and year, and then filter. or we could just use string filtering here\n",
    "# need to remove null value first in this column\n",
    "\n",
    "df = df[~df['issue_d'].isna()]\n",
    "\n",
    "df_2015 = df[df['issue_d'].str.contains('2015')].copy()"
   ]
  },
  {
   "cell_type": "code",
   "execution_count": 13,
   "metadata": {
    "ExecuteTime": {
     "end_time": "2021-06-28T01:27:32.177677Z",
     "start_time": "2021-06-28T01:27:32.161676Z"
    }
   },
   "outputs": [
    {
     "data": {
      "text/plain": [
       "(421095, 151)"
      ]
     },
     "execution_count": 13,
     "metadata": {},
     "output_type": "execute_result"
    }
   ],
   "source": [
    "df_2015.shape"
   ]
  },
  {
   "cell_type": "code",
   "execution_count": null,
   "metadata": {
    "ExecuteTime": {
     "end_time": "2021-06-28T01:26:40.963996Z",
     "start_time": "2021-06-28T01:26:21.798Z"
    }
   },
   "outputs": [],
   "source": [
    "# lets see the distribution\n",
    "\n",
    "df_2015.issue_d.value_counts()"
   ]
  },
  {
   "cell_type": "code",
   "execution_count": 14,
   "metadata": {
    "ExecuteTime": {
     "end_time": "2021-06-28T01:27:32.968728Z",
     "start_time": "2021-06-28T01:27:32.177677Z"
    }
   },
   "outputs": [
    {
     "data": {
      "text/plain": [
       "97"
      ]
     },
     "execution_count": 14,
     "metadata": {},
     "output_type": "execute_result"
    }
   ],
   "source": [
    "# garbage collection to free memory\n",
    "del df\n",
    "gc.collect()"
   ]
  },
  {
   "cell_type": "code",
   "execution_count": 15,
   "metadata": {
    "ExecuteTime": {
     "end_time": "2021-06-28T01:27:33.815857Z",
     "start_time": "2021-06-28T01:27:32.968728Z"
    },
    "scrolled": true
   },
   "outputs": [
    {
     "data": {
      "text/plain": [
       "sec_app_num_rev_accts                         100.00\n",
       "sec_app_mort_acc                              100.00\n",
       "sec_app_collections_12_mths_ex_med            100.00\n",
       "sec_app_chargeoff_within_12_mths              100.00\n",
       "sec_app_open_act_il                           100.00\n",
       "sec_app_revol_util                            100.00\n",
       "sec_app_open_acc                              100.00\n",
       "sec_app_inq_last_6mths                        100.00\n",
       "sec_app_earliest_cr_line                      100.00\n",
       "sec_app_fico_range_high                       100.00\n",
       "sec_app_fico_range_low                        100.00\n",
       "revol_bal_joint                               100.00\n",
       "member_id                                     100.00\n",
       "sec_app_mths_since_last_major_derog           100.00\n",
       "desc                                           99.99\n",
       "annual_inc_joint                               99.88\n",
       "verification_status_joint                      99.88\n",
       "dti_joint                                      99.88\n",
       "orig_projected_additional_accrued_interest     99.50\n",
       "hardship_status                                99.39\n",
       "deferral_term                                  99.39\n",
       "hardship_reason                                99.39\n",
       "hardship_type                                  99.39\n",
       "hardship_amount                                99.39\n",
       "hardship_start_date                            99.39\n",
       "hardship_end_date                              99.39\n",
       "payment_plan_start_date                        99.39\n",
       "hardship_length                                99.39\n",
       "hardship_dpd                                   99.39\n",
       "hardship_loan_status                           99.39\n",
       "hardship_payoff_balance_amount                 99.39\n",
       "hardship_last_payment_amount                   99.39\n",
       "settlement_percentage                          97.26\n",
       "settlement_amount                              97.26\n",
       "settlement_date                                97.26\n",
       "settlement_status                              97.26\n",
       "debt_settlement_flag_date                      97.26\n",
       "settlement_term                                97.26\n",
       "il_util                                        95.58\n",
       "mths_since_rcnt_il                             95.06\n",
       "inq_last_12m                                   94.92\n",
       "total_cu_tl                                    94.92\n",
       "all_util                                       94.92\n",
       "max_bal_bc                                     94.92\n",
       "open_rv_24m                                    94.92\n",
       "open_rv_12m                                    94.92\n",
       "total_bal_il                                   94.92\n",
       "open_il_24m                                    94.92\n",
       "open_il_12m                                    94.92\n",
       "open_act_il                                    94.92\n",
       "dtype: float64"
      ]
     },
     "execution_count": 15,
     "metadata": {},
     "output_type": "execute_result"
    }
   ],
   "source": [
    "# remove column with majority null data\n",
    "df_2015.isnull().mean().round(4).mul(100).sort_values(ascending=False).head(50)"
   ]
  },
  {
   "cell_type": "code",
   "execution_count": 16,
   "metadata": {
    "ExecuteTime": {
     "end_time": "2021-06-28T01:27:34.539301Z",
     "start_time": "2021-06-28T01:27:33.815857Z"
    }
   },
   "outputs": [
    {
     "data": {
      "text/plain": [
       "(421095, 95)"
      ]
     },
     "execution_count": 16,
     "metadata": {},
     "output_type": "execute_result"
    }
   ],
   "source": [
    "# remove columns with more than 70% null\n",
    "df_2015 = df_2015.loc[:, df_2015.isnull().sum() < 0.7*df_2015.shape[0]]\n",
    "df_2015.shape"
   ]
  },
  {
   "cell_type": "code",
   "execution_count": 17,
   "metadata": {
    "ExecuteTime": {
     "end_time": "2021-06-28T01:27:37.662998Z",
     "start_time": "2021-06-28T01:27:37.630988Z"
    }
   },
   "outputs": [
    {
     "data": {
      "text/html": [
       "<div>\n",
       "<style scoped>\n",
       "    .dataframe tbody tr th:only-of-type {\n",
       "        vertical-align: middle;\n",
       "    }\n",
       "\n",
       "    .dataframe tbody tr th {\n",
       "        vertical-align: top;\n",
       "    }\n",
       "\n",
       "    .dataframe thead th {\n",
       "        text-align: right;\n",
       "    }\n",
       "</style>\n",
       "<table border=\"1\" class=\"dataframe\">\n",
       "  <thead>\n",
       "    <tr style=\"text-align: right;\">\n",
       "      <th></th>\n",
       "      <th>id</th>\n",
       "      <th>loan_amnt</th>\n",
       "      <th>funded_amnt</th>\n",
       "      <th>funded_amnt_inv</th>\n",
       "      <th>term</th>\n",
       "      <th>int_rate</th>\n",
       "      <th>installment</th>\n",
       "      <th>grade</th>\n",
       "      <th>sub_grade</th>\n",
       "      <th>emp_title</th>\n",
       "      <th>...</th>\n",
       "      <th>percent_bc_gt_75</th>\n",
       "      <th>pub_rec_bankruptcies</th>\n",
       "      <th>tax_liens</th>\n",
       "      <th>tot_hi_cred_lim</th>\n",
       "      <th>total_bal_ex_mort</th>\n",
       "      <th>total_bc_limit</th>\n",
       "      <th>total_il_high_credit_limit</th>\n",
       "      <th>hardship_flag</th>\n",
       "      <th>disbursement_method</th>\n",
       "      <th>debt_settlement_flag</th>\n",
       "    </tr>\n",
       "  </thead>\n",
       "  <tbody>\n",
       "    <tr>\n",
       "      <th>0</th>\n",
       "      <td>68407277</td>\n",
       "      <td>3600.0</td>\n",
       "      <td>3600.0</td>\n",
       "      <td>3600.0</td>\n",
       "      <td>36 months</td>\n",
       "      <td>13.99</td>\n",
       "      <td>123.03</td>\n",
       "      <td>C</td>\n",
       "      <td>C4</td>\n",
       "      <td>leadman</td>\n",
       "      <td>...</td>\n",
       "      <td>0.0</td>\n",
       "      <td>0.0</td>\n",
       "      <td>0.0</td>\n",
       "      <td>178050.0</td>\n",
       "      <td>7746.0</td>\n",
       "      <td>2400.0</td>\n",
       "      <td>13734.0</td>\n",
       "      <td>N</td>\n",
       "      <td>Cash</td>\n",
       "      <td>N</td>\n",
       "    </tr>\n",
       "    <tr>\n",
       "      <th>1</th>\n",
       "      <td>68355089</td>\n",
       "      <td>24700.0</td>\n",
       "      <td>24700.0</td>\n",
       "      <td>24700.0</td>\n",
       "      <td>36 months</td>\n",
       "      <td>11.99</td>\n",
       "      <td>820.28</td>\n",
       "      <td>C</td>\n",
       "      <td>C1</td>\n",
       "      <td>Engineer</td>\n",
       "      <td>...</td>\n",
       "      <td>7.7</td>\n",
       "      <td>0.0</td>\n",
       "      <td>0.0</td>\n",
       "      <td>314017.0</td>\n",
       "      <td>39475.0</td>\n",
       "      <td>79300.0</td>\n",
       "      <td>24667.0</td>\n",
       "      <td>N</td>\n",
       "      <td>Cash</td>\n",
       "      <td>N</td>\n",
       "    </tr>\n",
       "    <tr>\n",
       "      <th>2</th>\n",
       "      <td>68341763</td>\n",
       "      <td>20000.0</td>\n",
       "      <td>20000.0</td>\n",
       "      <td>20000.0</td>\n",
       "      <td>60 months</td>\n",
       "      <td>10.78</td>\n",
       "      <td>432.66</td>\n",
       "      <td>B</td>\n",
       "      <td>B4</td>\n",
       "      <td>truck driver</td>\n",
       "      <td>...</td>\n",
       "      <td>50.0</td>\n",
       "      <td>0.0</td>\n",
       "      <td>0.0</td>\n",
       "      <td>218418.0</td>\n",
       "      <td>18696.0</td>\n",
       "      <td>6200.0</td>\n",
       "      <td>14877.0</td>\n",
       "      <td>N</td>\n",
       "      <td>Cash</td>\n",
       "      <td>N</td>\n",
       "    </tr>\n",
       "    <tr>\n",
       "      <th>3</th>\n",
       "      <td>66310712</td>\n",
       "      <td>35000.0</td>\n",
       "      <td>35000.0</td>\n",
       "      <td>35000.0</td>\n",
       "      <td>60 months</td>\n",
       "      <td>14.85</td>\n",
       "      <td>829.90</td>\n",
       "      <td>C</td>\n",
       "      <td>C5</td>\n",
       "      <td>Information Systems Officer</td>\n",
       "      <td>...</td>\n",
       "      <td>0.0</td>\n",
       "      <td>0.0</td>\n",
       "      <td>0.0</td>\n",
       "      <td>381215.0</td>\n",
       "      <td>52226.0</td>\n",
       "      <td>62500.0</td>\n",
       "      <td>18000.0</td>\n",
       "      <td>N</td>\n",
       "      <td>Cash</td>\n",
       "      <td>N</td>\n",
       "    </tr>\n",
       "    <tr>\n",
       "      <th>4</th>\n",
       "      <td>68476807</td>\n",
       "      <td>10400.0</td>\n",
       "      <td>10400.0</td>\n",
       "      <td>10400.0</td>\n",
       "      <td>60 months</td>\n",
       "      <td>22.45</td>\n",
       "      <td>289.91</td>\n",
       "      <td>F</td>\n",
       "      <td>F1</td>\n",
       "      <td>Contract Specialist</td>\n",
       "      <td>...</td>\n",
       "      <td>60.0</td>\n",
       "      <td>0.0</td>\n",
       "      <td>0.0</td>\n",
       "      <td>439570.0</td>\n",
       "      <td>95768.0</td>\n",
       "      <td>20300.0</td>\n",
       "      <td>88097.0</td>\n",
       "      <td>N</td>\n",
       "      <td>Cash</td>\n",
       "      <td>N</td>\n",
       "    </tr>\n",
       "  </tbody>\n",
       "</table>\n",
       "<p>5 rows × 95 columns</p>\n",
       "</div>"
      ],
      "text/plain": [
       "         id  loan_amnt  funded_amnt  funded_amnt_inv        term  int_rate  \\\n",
       "0  68407277     3600.0       3600.0           3600.0   36 months     13.99   \n",
       "1  68355089    24700.0      24700.0          24700.0   36 months     11.99   \n",
       "2  68341763    20000.0      20000.0          20000.0   60 months     10.78   \n",
       "3  66310712    35000.0      35000.0          35000.0   60 months     14.85   \n",
       "4  68476807    10400.0      10400.0          10400.0   60 months     22.45   \n",
       "\n",
       "   installment grade sub_grade                    emp_title  ...  \\\n",
       "0       123.03     C        C4                      leadman  ...   \n",
       "1       820.28     C        C1                     Engineer  ...   \n",
       "2       432.66     B        B4                 truck driver  ...   \n",
       "3       829.90     C        C5  Information Systems Officer  ...   \n",
       "4       289.91     F        F1          Contract Specialist  ...   \n",
       "\n",
       "  percent_bc_gt_75 pub_rec_bankruptcies  tax_liens tot_hi_cred_lim  \\\n",
       "0              0.0                  0.0        0.0        178050.0   \n",
       "1              7.7                  0.0        0.0        314017.0   \n",
       "2             50.0                  0.0        0.0        218418.0   \n",
       "3              0.0                  0.0        0.0        381215.0   \n",
       "4             60.0                  0.0        0.0        439570.0   \n",
       "\n",
       "  total_bal_ex_mort total_bc_limit total_il_high_credit_limit hardship_flag  \\\n",
       "0            7746.0         2400.0                    13734.0             N   \n",
       "1           39475.0        79300.0                    24667.0             N   \n",
       "2           18696.0         6200.0                    14877.0             N   \n",
       "3           52226.0        62500.0                    18000.0             N   \n",
       "4           95768.0        20300.0                    88097.0             N   \n",
       "\n",
       "  disbursement_method debt_settlement_flag  \n",
       "0                Cash                    N  \n",
       "1                Cash                    N  \n",
       "2                Cash                    N  \n",
       "3                Cash                    N  \n",
       "4                Cash                    N  \n",
       "\n",
       "[5 rows x 95 columns]"
      ]
     },
     "execution_count": 17,
     "metadata": {},
     "output_type": "execute_result"
    }
   ],
   "source": [
    "# removed around 40 columns\n",
    "\n",
    "df_2015.head()"
   ]
  },
  {
   "cell_type": "code",
   "execution_count": 18,
   "metadata": {
    "ExecuteTime": {
     "end_time": "2021-06-28T01:27:44.938375Z",
     "start_time": "2021-06-28T01:27:44.577281Z"
    },
    "scrolled": true
   },
   "outputs": [
    {
     "name": "stdout",
     "output_type": "stream",
     "text": [
      "<class 'pandas.core.frame.DataFrame'>\n",
      "Int64Index: 421095 entries, 0 to 421094\n",
      "Data columns (total 95 columns):\n",
      " #   Column                          Non-Null Count   Dtype  \n",
      "---  ------                          --------------   -----  \n",
      " 0   id                              421095 non-null  object \n",
      " 1   loan_amnt                       421095 non-null  float64\n",
      " 2   funded_amnt                     421095 non-null  float64\n",
      " 3   funded_amnt_inv                 421095 non-null  float64\n",
      " 4   term                            421095 non-null  object \n",
      " 5   int_rate                        421095 non-null  float64\n",
      " 6   installment                     421095 non-null  float64\n",
      " 7   grade                           421095 non-null  object \n",
      " 8   sub_grade                       421095 non-null  object \n",
      " 9   emp_title                       397221 non-null  object \n",
      " 10  emp_length                      397278 non-null  object \n",
      " 11  home_ownership                  421095 non-null  object \n",
      " 12  annual_inc                      421095 non-null  float64\n",
      " 13  verification_status             421095 non-null  object \n",
      " 14  issue_d                         421095 non-null  object \n",
      " 15  loan_status                     421095 non-null  object \n",
      " 16  pymnt_plan                      421095 non-null  object \n",
      " 17  url                             421095 non-null  object \n",
      " 18  purpose                         421095 non-null  object \n",
      " 19  title                           420963 non-null  object \n",
      " 20  zip_code                        421095 non-null  object \n",
      " 21  addr_state                      421095 non-null  object \n",
      " 22  dti                             421093 non-null  float64\n",
      " 23  delinq_2yrs                     421095 non-null  float64\n",
      " 24  earliest_cr_line                421095 non-null  object \n",
      " 25  fico_range_low                  421095 non-null  float64\n",
      " 26  fico_range_high                 421095 non-null  float64\n",
      " 27  inq_last_6mths                  421095 non-null  float64\n",
      " 28  mths_since_last_delinq          217133 non-null  float64\n",
      " 29  open_acc                        421095 non-null  float64\n",
      " 30  pub_rec                         421095 non-null  float64\n",
      " 31  revol_bal                       421095 non-null  float64\n",
      " 32  revol_util                      420933 non-null  float64\n",
      " 33  total_acc                       421095 non-null  float64\n",
      " 34  initial_list_status             421095 non-null  object \n",
      " 35  out_prncp                       421095 non-null  float64\n",
      " 36  out_prncp_inv                   421095 non-null  float64\n",
      " 37  total_pymnt                     421095 non-null  float64\n",
      " 38  total_pymnt_inv                 421095 non-null  float64\n",
      " 39  total_rec_prncp                 421095 non-null  float64\n",
      " 40  total_rec_int                   421095 non-null  float64\n",
      " 41  total_rec_late_fee              421095 non-null  float64\n",
      " 42  recoveries                      421095 non-null  float64\n",
      " 43  collection_recovery_fee         421095 non-null  float64\n",
      " 44  last_pymnt_d                    420801 non-null  object \n",
      " 45  last_pymnt_amnt                 421095 non-null  float64\n",
      " 46  last_credit_pull_d              421088 non-null  object \n",
      " 47  last_fico_range_high            421095 non-null  float64\n",
      " 48  last_fico_range_low             421095 non-null  float64\n",
      " 49  collections_12_mths_ex_med      421095 non-null  float64\n",
      " 50  policy_code                     421095 non-null  float64\n",
      " 51  application_type                421095 non-null  object \n",
      " 52  acc_now_delinq                  421095 non-null  float64\n",
      " 53  tot_coll_amt                    421095 non-null  float64\n",
      " 54  tot_cur_bal                     421095 non-null  float64\n",
      " 55  total_rev_hi_lim                421095 non-null  float64\n",
      " 56  acc_open_past_24mths            421095 non-null  float64\n",
      " 57  avg_cur_bal                     421095 non-null  float64\n",
      " 58  bc_open_to_buy                  417132 non-null  float64\n",
      " 59  bc_util                         416868 non-null  float64\n",
      " 60  chargeoff_within_12_mths        421095 non-null  float64\n",
      " 61  delinq_amnt                     421095 non-null  float64\n",
      " 62  mo_sin_old_il_acct              408841 non-null  float64\n",
      " 63  mo_sin_old_rev_tl_op            421095 non-null  float64\n",
      " 64  mo_sin_rcnt_rev_tl_op           421095 non-null  float64\n",
      " 65  mo_sin_rcnt_tl                  421095 non-null  float64\n",
      " 66  mort_acc                        421095 non-null  float64\n",
      " 67  mths_since_recent_bc            417297 non-null  float64\n",
      " 68  mths_since_recent_inq           376496 non-null  float64\n",
      " 69  mths_since_recent_revol_delinq  151737 non-null  float64\n",
      " 70  num_accts_ever_120_pd           421095 non-null  float64\n",
      " 71  num_actv_bc_tl                  421095 non-null  float64\n",
      " 72  num_actv_rev_tl                 421095 non-null  float64\n",
      " 73  num_bc_sats                     421095 non-null  float64\n",
      " 74  num_bc_tl                       421095 non-null  float64\n",
      " 75  num_il_tl                       421095 non-null  float64\n",
      " 76  num_op_rev_tl                   421095 non-null  float64\n",
      " 77  num_rev_accts                   421094 non-null  float64\n",
      " 78  num_rev_tl_bal_gt_0             421095 non-null  float64\n",
      " 79  num_sats                        421095 non-null  float64\n",
      " 80  num_tl_120dpd_2m                401865 non-null  float64\n",
      " 81  num_tl_30dpd                    421095 non-null  float64\n",
      " 82  num_tl_90g_dpd_24m              421095 non-null  float64\n",
      " 83  num_tl_op_past_12m              421095 non-null  float64\n",
      " 84  pct_tl_nvr_dlq                  421095 non-null  float64\n",
      " 85  percent_bc_gt_75                416856 non-null  float64\n",
      " 86  pub_rec_bankruptcies            421095 non-null  float64\n",
      " 87  tax_liens                       421095 non-null  float64\n",
      " 88  tot_hi_cred_lim                 421095 non-null  float64\n",
      " 89  total_bal_ex_mort               421095 non-null  float64\n",
      " 90  total_bc_limit                  421095 non-null  float64\n",
      " 91  total_il_high_credit_limit      421095 non-null  float64\n",
      " 92  hardship_flag                   421095 non-null  object \n",
      " 93  disbursement_method             421095 non-null  object \n",
      " 94  debt_settlement_flag            421095 non-null  object \n",
      "dtypes: float64(71), object(24)\n",
      "memory usage: 308.4+ MB\n"
     ]
    }
   ],
   "source": [
    "df_2015.info()"
   ]
  },
  {
   "cell_type": "code",
   "execution_count": 19,
   "metadata": {
    "ExecuteTime": {
     "end_time": "2021-06-28T01:27:56.050047Z",
     "start_time": "2021-06-28T01:27:55.910638Z"
    }
   },
   "outputs": [
    {
     "data": {
      "text/html": [
       "<div>\n",
       "<style scoped>\n",
       "    .dataframe tbody tr th:only-of-type {\n",
       "        vertical-align: middle;\n",
       "    }\n",
       "\n",
       "    .dataframe tbody tr th {\n",
       "        vertical-align: top;\n",
       "    }\n",
       "\n",
       "    .dataframe thead th {\n",
       "        text-align: right;\n",
       "    }\n",
       "</style>\n",
       "<table border=\"1\" class=\"dataframe\">\n",
       "  <thead>\n",
       "    <tr style=\"text-align: right;\">\n",
       "      <th></th>\n",
       "      <th>0</th>\n",
       "      <th>1</th>\n",
       "      <th>2</th>\n",
       "      <th>3</th>\n",
       "      <th>4</th>\n",
       "    </tr>\n",
       "  </thead>\n",
       "  <tbody>\n",
       "    <tr>\n",
       "      <th>id</th>\n",
       "      <td>68407277</td>\n",
       "      <td>68355089</td>\n",
       "      <td>68341763</td>\n",
       "      <td>66310712</td>\n",
       "      <td>68476807</td>\n",
       "    </tr>\n",
       "    <tr>\n",
       "      <th>term</th>\n",
       "      <td>36 months</td>\n",
       "      <td>36 months</td>\n",
       "      <td>60 months</td>\n",
       "      <td>60 months</td>\n",
       "      <td>60 months</td>\n",
       "    </tr>\n",
       "    <tr>\n",
       "      <th>grade</th>\n",
       "      <td>C</td>\n",
       "      <td>C</td>\n",
       "      <td>B</td>\n",
       "      <td>C</td>\n",
       "      <td>F</td>\n",
       "    </tr>\n",
       "    <tr>\n",
       "      <th>sub_grade</th>\n",
       "      <td>C4</td>\n",
       "      <td>C1</td>\n",
       "      <td>B4</td>\n",
       "      <td>C5</td>\n",
       "      <td>F1</td>\n",
       "    </tr>\n",
       "    <tr>\n",
       "      <th>emp_title</th>\n",
       "      <td>leadman</td>\n",
       "      <td>Engineer</td>\n",
       "      <td>truck driver</td>\n",
       "      <td>Information Systems Officer</td>\n",
       "      <td>Contract Specialist</td>\n",
       "    </tr>\n",
       "    <tr>\n",
       "      <th>emp_length</th>\n",
       "      <td>10+ years</td>\n",
       "      <td>10+ years</td>\n",
       "      <td>10+ years</td>\n",
       "      <td>10+ years</td>\n",
       "      <td>3 years</td>\n",
       "    </tr>\n",
       "    <tr>\n",
       "      <th>home_ownership</th>\n",
       "      <td>MORTGAGE</td>\n",
       "      <td>MORTGAGE</td>\n",
       "      <td>MORTGAGE</td>\n",
       "      <td>MORTGAGE</td>\n",
       "      <td>MORTGAGE</td>\n",
       "    </tr>\n",
       "    <tr>\n",
       "      <th>verification_status</th>\n",
       "      <td>Not Verified</td>\n",
       "      <td>Not Verified</td>\n",
       "      <td>Not Verified</td>\n",
       "      <td>Source Verified</td>\n",
       "      <td>Source Verified</td>\n",
       "    </tr>\n",
       "    <tr>\n",
       "      <th>issue_d</th>\n",
       "      <td>Dec-2015</td>\n",
       "      <td>Dec-2015</td>\n",
       "      <td>Dec-2015</td>\n",
       "      <td>Dec-2015</td>\n",
       "      <td>Dec-2015</td>\n",
       "    </tr>\n",
       "    <tr>\n",
       "      <th>loan_status</th>\n",
       "      <td>Fully Paid</td>\n",
       "      <td>Fully Paid</td>\n",
       "      <td>Fully Paid</td>\n",
       "      <td>Current</td>\n",
       "      <td>Fully Paid</td>\n",
       "    </tr>\n",
       "    <tr>\n",
       "      <th>pymnt_plan</th>\n",
       "      <td>n</td>\n",
       "      <td>n</td>\n",
       "      <td>n</td>\n",
       "      <td>n</td>\n",
       "      <td>n</td>\n",
       "    </tr>\n",
       "    <tr>\n",
       "      <th>url</th>\n",
       "      <td>https://lendingclub.com/browse/loanDetail.acti...</td>\n",
       "      <td>https://lendingclub.com/browse/loanDetail.acti...</td>\n",
       "      <td>https://lendingclub.com/browse/loanDetail.acti...</td>\n",
       "      <td>https://lendingclub.com/browse/loanDetail.acti...</td>\n",
       "      <td>https://lendingclub.com/browse/loanDetail.acti...</td>\n",
       "    </tr>\n",
       "    <tr>\n",
       "      <th>purpose</th>\n",
       "      <td>debt_consolidation</td>\n",
       "      <td>small_business</td>\n",
       "      <td>home_improvement</td>\n",
       "      <td>debt_consolidation</td>\n",
       "      <td>major_purchase</td>\n",
       "    </tr>\n",
       "    <tr>\n",
       "      <th>title</th>\n",
       "      <td>Debt consolidation</td>\n",
       "      <td>Business</td>\n",
       "      <td>NaN</td>\n",
       "      <td>Debt consolidation</td>\n",
       "      <td>Major purchase</td>\n",
       "    </tr>\n",
       "    <tr>\n",
       "      <th>zip_code</th>\n",
       "      <td>190xx</td>\n",
       "      <td>577xx</td>\n",
       "      <td>605xx</td>\n",
       "      <td>076xx</td>\n",
       "      <td>174xx</td>\n",
       "    </tr>\n",
       "    <tr>\n",
       "      <th>addr_state</th>\n",
       "      <td>PA</td>\n",
       "      <td>SD</td>\n",
       "      <td>IL</td>\n",
       "      <td>NJ</td>\n",
       "      <td>PA</td>\n",
       "    </tr>\n",
       "    <tr>\n",
       "      <th>earliest_cr_line</th>\n",
       "      <td>Aug-2003</td>\n",
       "      <td>Dec-1999</td>\n",
       "      <td>Aug-2000</td>\n",
       "      <td>Sep-2008</td>\n",
       "      <td>Jun-1998</td>\n",
       "    </tr>\n",
       "    <tr>\n",
       "      <th>initial_list_status</th>\n",
       "      <td>w</td>\n",
       "      <td>w</td>\n",
       "      <td>w</td>\n",
       "      <td>w</td>\n",
       "      <td>w</td>\n",
       "    </tr>\n",
       "    <tr>\n",
       "      <th>last_pymnt_d</th>\n",
       "      <td>Jan-2019</td>\n",
       "      <td>Jun-2016</td>\n",
       "      <td>Jun-2017</td>\n",
       "      <td>Feb-2019</td>\n",
       "      <td>Jul-2016</td>\n",
       "    </tr>\n",
       "    <tr>\n",
       "      <th>last_credit_pull_d</th>\n",
       "      <td>Mar-2019</td>\n",
       "      <td>Mar-2019</td>\n",
       "      <td>Mar-2019</td>\n",
       "      <td>Mar-2019</td>\n",
       "      <td>Mar-2018</td>\n",
       "    </tr>\n",
       "    <tr>\n",
       "      <th>application_type</th>\n",
       "      <td>Individual</td>\n",
       "      <td>Individual</td>\n",
       "      <td>Joint App</td>\n",
       "      <td>Individual</td>\n",
       "      <td>Individual</td>\n",
       "    </tr>\n",
       "    <tr>\n",
       "      <th>hardship_flag</th>\n",
       "      <td>N</td>\n",
       "      <td>N</td>\n",
       "      <td>N</td>\n",
       "      <td>N</td>\n",
       "      <td>N</td>\n",
       "    </tr>\n",
       "    <tr>\n",
       "      <th>disbursement_method</th>\n",
       "      <td>Cash</td>\n",
       "      <td>Cash</td>\n",
       "      <td>Cash</td>\n",
       "      <td>Cash</td>\n",
       "      <td>Cash</td>\n",
       "    </tr>\n",
       "    <tr>\n",
       "      <th>debt_settlement_flag</th>\n",
       "      <td>N</td>\n",
       "      <td>N</td>\n",
       "      <td>N</td>\n",
       "      <td>N</td>\n",
       "      <td>N</td>\n",
       "    </tr>\n",
       "  </tbody>\n",
       "</table>\n",
       "</div>"
      ],
      "text/plain": [
       "                                                                      0  \\\n",
       "id                                                             68407277   \n",
       "term                                                          36 months   \n",
       "grade                                                                 C   \n",
       "sub_grade                                                            C4   \n",
       "emp_title                                                       leadman   \n",
       "emp_length                                                    10+ years   \n",
       "home_ownership                                                 MORTGAGE   \n",
       "verification_status                                        Not Verified   \n",
       "issue_d                                                        Dec-2015   \n",
       "loan_status                                                  Fully Paid   \n",
       "pymnt_plan                                                            n   \n",
       "url                   https://lendingclub.com/browse/loanDetail.acti...   \n",
       "purpose                                              debt_consolidation   \n",
       "title                                                Debt consolidation   \n",
       "zip_code                                                          190xx   \n",
       "addr_state                                                           PA   \n",
       "earliest_cr_line                                               Aug-2003   \n",
       "initial_list_status                                                   w   \n",
       "last_pymnt_d                                                   Jan-2019   \n",
       "last_credit_pull_d                                             Mar-2019   \n",
       "application_type                                             Individual   \n",
       "hardship_flag                                                         N   \n",
       "disbursement_method                                                Cash   \n",
       "debt_settlement_flag                                                  N   \n",
       "\n",
       "                                                                      1  \\\n",
       "id                                                             68355089   \n",
       "term                                                          36 months   \n",
       "grade                                                                 C   \n",
       "sub_grade                                                            C1   \n",
       "emp_title                                                      Engineer   \n",
       "emp_length                                                    10+ years   \n",
       "home_ownership                                                 MORTGAGE   \n",
       "verification_status                                        Not Verified   \n",
       "issue_d                                                        Dec-2015   \n",
       "loan_status                                                  Fully Paid   \n",
       "pymnt_plan                                                            n   \n",
       "url                   https://lendingclub.com/browse/loanDetail.acti...   \n",
       "purpose                                                  small_business   \n",
       "title                                                          Business   \n",
       "zip_code                                                          577xx   \n",
       "addr_state                                                           SD   \n",
       "earliest_cr_line                                               Dec-1999   \n",
       "initial_list_status                                                   w   \n",
       "last_pymnt_d                                                   Jun-2016   \n",
       "last_credit_pull_d                                             Mar-2019   \n",
       "application_type                                             Individual   \n",
       "hardship_flag                                                         N   \n",
       "disbursement_method                                                Cash   \n",
       "debt_settlement_flag                                                  N   \n",
       "\n",
       "                                                                      2  \\\n",
       "id                                                             68341763   \n",
       "term                                                          60 months   \n",
       "grade                                                                 B   \n",
       "sub_grade                                                            B4   \n",
       "emp_title                                                  truck driver   \n",
       "emp_length                                                    10+ years   \n",
       "home_ownership                                                 MORTGAGE   \n",
       "verification_status                                        Not Verified   \n",
       "issue_d                                                        Dec-2015   \n",
       "loan_status                                                  Fully Paid   \n",
       "pymnt_plan                                                            n   \n",
       "url                   https://lendingclub.com/browse/loanDetail.acti...   \n",
       "purpose                                                home_improvement   \n",
       "title                                                               NaN   \n",
       "zip_code                                                          605xx   \n",
       "addr_state                                                           IL   \n",
       "earliest_cr_line                                               Aug-2000   \n",
       "initial_list_status                                                   w   \n",
       "last_pymnt_d                                                   Jun-2017   \n",
       "last_credit_pull_d                                             Mar-2019   \n",
       "application_type                                              Joint App   \n",
       "hardship_flag                                                         N   \n",
       "disbursement_method                                                Cash   \n",
       "debt_settlement_flag                                                  N   \n",
       "\n",
       "                                                                      3  \\\n",
       "id                                                             66310712   \n",
       "term                                                          60 months   \n",
       "grade                                                                 C   \n",
       "sub_grade                                                            C5   \n",
       "emp_title                                   Information Systems Officer   \n",
       "emp_length                                                    10+ years   \n",
       "home_ownership                                                 MORTGAGE   \n",
       "verification_status                                     Source Verified   \n",
       "issue_d                                                        Dec-2015   \n",
       "loan_status                                                     Current   \n",
       "pymnt_plan                                                            n   \n",
       "url                   https://lendingclub.com/browse/loanDetail.acti...   \n",
       "purpose                                              debt_consolidation   \n",
       "title                                                Debt consolidation   \n",
       "zip_code                                                          076xx   \n",
       "addr_state                                                           NJ   \n",
       "earliest_cr_line                                               Sep-2008   \n",
       "initial_list_status                                                   w   \n",
       "last_pymnt_d                                                   Feb-2019   \n",
       "last_credit_pull_d                                             Mar-2019   \n",
       "application_type                                             Individual   \n",
       "hardship_flag                                                         N   \n",
       "disbursement_method                                                Cash   \n",
       "debt_settlement_flag                                                  N   \n",
       "\n",
       "                                                                      4  \n",
       "id                                                             68476807  \n",
       "term                                                          60 months  \n",
       "grade                                                                 F  \n",
       "sub_grade                                                            F1  \n",
       "emp_title                                           Contract Specialist  \n",
       "emp_length                                                      3 years  \n",
       "home_ownership                                                 MORTGAGE  \n",
       "verification_status                                     Source Verified  \n",
       "issue_d                                                        Dec-2015  \n",
       "loan_status                                                  Fully Paid  \n",
       "pymnt_plan                                                            n  \n",
       "url                   https://lendingclub.com/browse/loanDetail.acti...  \n",
       "purpose                                                  major_purchase  \n",
       "title                                                    Major purchase  \n",
       "zip_code                                                          174xx  \n",
       "addr_state                                                           PA  \n",
       "earliest_cr_line                                               Jun-1998  \n",
       "initial_list_status                                                   w  \n",
       "last_pymnt_d                                                   Jul-2016  \n",
       "last_credit_pull_d                                             Mar-2018  \n",
       "application_type                                             Individual  \n",
       "hardship_flag                                                         N  \n",
       "disbursement_method                                                Cash  \n",
       "debt_settlement_flag                                                  N  "
      ]
     },
     "execution_count": 19,
     "metadata": {},
     "output_type": "execute_result"
    }
   ],
   "source": [
    "# remove non-numeric columns or convert to binary\n",
    "# select object type column to filter\n",
    "\n",
    "# obj_df = df.select_dtypes(include=['object']).copy()\n",
    "df_2015.select_dtypes(include=['object']).head().T"
   ]
  },
  {
   "cell_type": "code",
   "execution_count": 20,
   "metadata": {
    "ExecuteTime": {
     "end_time": "2021-06-28T01:28:13.458314Z",
     "start_time": "2021-06-28T01:28:12.136521Z"
    }
   },
   "outputs": [
    {
     "data": {
      "text/plain": [
       "id                      421095\n",
       "term                         2\n",
       "grade                        7\n",
       "sub_grade                   35\n",
       "emp_title               120812\n",
       "emp_length                  11\n",
       "home_ownership               4\n",
       "verification_status          3\n",
       "issue_d                     12\n",
       "loan_status                  7\n",
       "pymnt_plan                   2\n",
       "url                     421095\n",
       "purpose                     14\n",
       "title                       27\n",
       "zip_code                   914\n",
       "addr_state                  49\n",
       "earliest_cr_line           668\n",
       "initial_list_status          2\n",
       "last_pymnt_d                51\n",
       "last_credit_pull_d          52\n",
       "application_type             2\n",
       "hardship_flag                2\n",
       "disbursement_method          1\n",
       "debt_settlement_flag         2\n",
       "dtype: int64"
      ]
     },
     "execution_count": 20,
     "metadata": {},
     "output_type": "execute_result"
    }
   ],
   "source": [
    "# too many unique value will not provide significant data for mcahine learning model. lets remove those columns.\n",
    "df_2015.select_dtypes(include=['object']).nunique()"
   ]
  },
  {
   "cell_type": "code",
   "execution_count": 22,
   "metadata": {
    "ExecuteTime": {
     "end_time": "2021-06-28T01:28:38.219416Z",
     "start_time": "2021-06-28T01:28:37.773231Z"
    },
    "scrolled": true
   },
   "outputs": [
    {
     "data": {
      "text/html": [
       "<div>\n",
       "<style scoped>\n",
       "    .dataframe tbody tr th:only-of-type {\n",
       "        vertical-align: middle;\n",
       "    }\n",
       "\n",
       "    .dataframe tbody tr th {\n",
       "        vertical-align: top;\n",
       "    }\n",
       "\n",
       "    .dataframe thead th {\n",
       "        text-align: right;\n",
       "    }\n",
       "</style>\n",
       "<table border=\"1\" class=\"dataframe\">\n",
       "  <thead>\n",
       "    <tr style=\"text-align: right;\">\n",
       "      <th></th>\n",
       "      <th>issue_d</th>\n",
       "      <th>earliest_cr_line</th>\n",
       "      <th>last_pymnt_d</th>\n",
       "      <th>last_credit_pull_d</th>\n",
       "    </tr>\n",
       "  </thead>\n",
       "  <tbody>\n",
       "    <tr>\n",
       "      <th>0</th>\n",
       "      <td>2015-12-01</td>\n",
       "      <td>2003-08-01</td>\n",
       "      <td>2019-01-01</td>\n",
       "      <td>2019-03-01</td>\n",
       "    </tr>\n",
       "    <tr>\n",
       "      <th>1</th>\n",
       "      <td>2015-12-01</td>\n",
       "      <td>1999-12-01</td>\n",
       "      <td>2016-06-01</td>\n",
       "      <td>2019-03-01</td>\n",
       "    </tr>\n",
       "    <tr>\n",
       "      <th>2</th>\n",
       "      <td>2015-12-01</td>\n",
       "      <td>2000-08-01</td>\n",
       "      <td>2017-06-01</td>\n",
       "      <td>2019-03-01</td>\n",
       "    </tr>\n",
       "    <tr>\n",
       "      <th>3</th>\n",
       "      <td>2015-12-01</td>\n",
       "      <td>2008-09-01</td>\n",
       "      <td>2019-02-01</td>\n",
       "      <td>2019-03-01</td>\n",
       "    </tr>\n",
       "    <tr>\n",
       "      <th>4</th>\n",
       "      <td>2015-12-01</td>\n",
       "      <td>1998-06-01</td>\n",
       "      <td>2016-07-01</td>\n",
       "      <td>2018-03-01</td>\n",
       "    </tr>\n",
       "  </tbody>\n",
       "</table>\n",
       "</div>"
      ],
      "text/plain": [
       "     issue_d earliest_cr_line last_pymnt_d last_credit_pull_d\n",
       "0 2015-12-01       2003-08-01   2019-01-01         2019-03-01\n",
       "1 2015-12-01       1999-12-01   2016-06-01         2019-03-01\n",
       "2 2015-12-01       2000-08-01   2017-06-01         2019-03-01\n",
       "3 2015-12-01       2008-09-01   2019-02-01         2019-03-01\n",
       "4 2015-12-01       1998-06-01   2016-07-01         2018-03-01"
      ]
     },
     "execution_count": 22,
     "metadata": {},
     "output_type": "execute_result"
    }
   ],
   "source": [
    "# change datetime columns to proper format\n",
    "\n",
    "date_cols = ['issue_d', 'earliest_cr_line', 'last_pymnt_d', 'last_credit_pull_d']\n",
    "df_2015[date_cols] = df_2015[date_cols].apply(pd.to_datetime)\n",
    "df_2015[date_cols].head()"
   ]
  },
  {
   "cell_type": "code",
   "execution_count": 23,
   "metadata": {
    "ExecuteTime": {
     "end_time": "2021-06-28T01:28:50.114776Z",
     "start_time": "2021-06-28T01:28:50.025959Z"
    },
    "scrolled": true
   },
   "outputs": [],
   "source": [
    "# remove columns not much info can be extracted from these data\n",
    "\n",
    "df_2015 = df_2015.drop(['emp_title', 'url', 'title', 'zip_code', 'addr_state'], axis=1)\n"
   ]
  },
  {
   "cell_type": "code",
   "execution_count": 24,
   "metadata": {
    "ExecuteTime": {
     "end_time": "2021-06-28T01:28:53.990094Z",
     "start_time": "2021-06-28T01:28:53.950039Z"
    }
   },
   "outputs": [
    {
     "data": {
      "text/plain": [
       "N    421042\n",
       "Y        53\n",
       "Name: hardship_flag, dtype: int64"
      ]
     },
     "execution_count": 24,
     "metadata": {},
     "output_type": "execute_result"
    }
   ],
   "source": [
    "df_2015.hardship_flag.value_counts()"
   ]
  },
  {
   "cell_type": "code",
   "execution_count": 25,
   "metadata": {
    "ExecuteTime": {
     "end_time": "2021-06-28T01:28:57.245788Z",
     "start_time": "2021-06-28T01:28:57.189779Z"
    }
   },
   "outputs": [
    {
     "data": {
      "text/plain": [
       "Fully Paid            299742\n",
       "Charged Off            75803\n",
       "Current                43299\n",
       "Late (31-120 days)      1359\n",
       "In Grace Period          612\n",
       "Late (16-30 days)        279\n",
       "Default                    1\n",
       "Name: loan_status, dtype: int64"
      ]
     },
     "execution_count": 25,
     "metadata": {},
     "output_type": "execute_result"
    }
   ],
   "source": [
    "# we can remove columns with too much unique value.\n",
    "df_2015.loan_status.value_counts()"
   ]
  },
  {
   "cell_type": "markdown",
   "metadata": {},
   "source": [
    "# Part 2: Model Building\n",
    "Using at most 10 features from the above data set, build a machine learning model to predict those with late payment (refer column “loan_status”). Show the model’s accuracy, AUC or other relevant metrics. \n",
    "-\tShow how you optimise the model.\n",
    "-\tShow how the features are selected."
   ]
  },
  {
   "cell_type": "code",
   "execution_count": 26,
   "metadata": {
    "ExecuteTime": {
     "end_time": "2021-06-28T01:29:04.800166Z",
     "start_time": "2021-06-28T01:29:04.410197Z"
    }
   },
   "outputs": [
    {
     "data": {
      "image/png": "[encoded data removed]",
      "text/plain": [
       "<Figure size 432x288 with 1 Axes>"
      ]
     },
     "metadata": {
      "needs_background": "light"
     },
     "output_type": "display_data"
    }
   ],
   "source": [
    "sns.countplot(y='loan_status', data=df_2015);"
   ]
  },
  {
   "cell_type": "code",
   "execution_count": 27,
   "metadata": {
    "ExecuteTime": {
     "end_time": "2021-06-28T01:29:35.166075Z",
     "start_time": "2021-06-28T01:29:34.895089Z"
    }
   },
   "outputs": [],
   "source": [
    "# for this machine learning model, lets assume the class is either fully paid or charged off. \n",
    "# so the model will predict whether the oan is fully paid or charged off only\n",
    "\n",
    "status_df = df_2015[df_2015['loan_status'].isin(['Fully Paid', 'Charged Off'])].copy()\n",
    "\n",
    "# turn to boolean\n",
    "status_df['loan_status'] = np.where(status_df['loan_status']=='Fully Paid', 1, 0) "
   ]
  },
  {
   "cell_type": "code",
   "execution_count": 28,
   "metadata": {
    "ExecuteTime": {
     "end_time": "2021-06-28T01:29:38.247229Z",
     "start_time": "2021-06-28T01:29:36.558496Z"
    }
   },
   "outputs": [
    {
     "data": {
      "text/html": [
       "<div>\n",
       "<style scoped>\n",
       "    .dataframe tbody tr th:only-of-type {\n",
       "        vertical-align: middle;\n",
       "    }\n",
       "\n",
       "    .dataframe tbody tr th {\n",
       "        vertical-align: top;\n",
       "    }\n",
       "\n",
       "    .dataframe thead th {\n",
       "        text-align: right;\n",
       "    }\n",
       "</style>\n",
       "<table border=\"1\" class=\"dataframe\">\n",
       "  <thead>\n",
       "    <tr style=\"text-align: right;\">\n",
       "      <th></th>\n",
       "      <th>count</th>\n",
       "      <th>mean</th>\n",
       "      <th>std</th>\n",
       "      <th>min</th>\n",
       "      <th>25%</th>\n",
       "      <th>50%</th>\n",
       "      <th>75%</th>\n",
       "      <th>max</th>\n",
       "    </tr>\n",
       "    <tr>\n",
       "      <th>loan_status</th>\n",
       "      <th></th>\n",
       "      <th></th>\n",
       "      <th></th>\n",
       "      <th></th>\n",
       "      <th></th>\n",
       "      <th></th>\n",
       "      <th></th>\n",
       "      <th></th>\n",
       "    </tr>\n",
       "  </thead>\n",
       "  <tbody>\n",
       "    <tr>\n",
       "      <th>0</th>\n",
       "      <td>75803.0</td>\n",
       "      <td>15726.254898</td>\n",
       "      <td>8449.937074</td>\n",
       "      <td>1000.0</td>\n",
       "      <td>9800.0</td>\n",
       "      <td>14925.0</td>\n",
       "      <td>20500.0</td>\n",
       "      <td>35000.0</td>\n",
       "    </tr>\n",
       "    <tr>\n",
       "      <th>1</th>\n",
       "      <td>299742.0</td>\n",
       "      <td>14367.252003</td>\n",
       "      <td>8519.161596</td>\n",
       "      <td>1000.0</td>\n",
       "      <td>8000.0</td>\n",
       "      <td>12000.0</td>\n",
       "      <td>20000.0</td>\n",
       "      <td>35000.0</td>\n",
       "    </tr>\n",
       "  </tbody>\n",
       "</table>\n",
       "</div>"
      ],
      "text/plain": [
       "                count          mean          std     min     25%      50%  \\\n",
       "loan_status                                                                 \n",
       "0             75803.0  15726.254898  8449.937074  1000.0  9800.0  14925.0   \n",
       "1            299742.0  14367.252003  8519.161596  1000.0  8000.0  12000.0   \n",
       "\n",
       "                 75%      max  \n",
       "loan_status                    \n",
       "0            20500.0  35000.0  \n",
       "1            20000.0  35000.0  "
      ]
     },
     "execution_count": 28,
     "metadata": {},
     "output_type": "execute_result"
    }
   ],
   "source": [
    "# look at loan amount column\n",
    "status_df.groupby('loan_status').describe().loan_amnt"
   ]
  },
  {
   "cell_type": "code",
   "execution_count": 29,
   "metadata": {
    "ExecuteTime": {
     "end_time": "2021-06-28T01:29:43.274227Z",
     "start_time": "2021-06-28T01:29:43.188937Z"
    }
   },
   "outputs": [],
   "source": [
    "# let's first see how numeric column relates to target column, since we are only using 10 features\n",
    "status_df = status_df.select_dtypes(exclude=['object', 'datetime'])"
   ]
  },
  {
   "cell_type": "code",
   "execution_count": 30,
   "metadata": {
    "ExecuteTime": {
     "end_time": "2021-06-28T01:29:43.900375Z",
     "start_time": "2021-06-28T01:29:43.824153Z"
    },
    "scrolled": true
   },
   "outputs": [
    {
     "name": "stdout",
     "output_type": "stream",
     "text": [
      "<class 'pandas.core.frame.DataFrame'>\n",
      "Int64Index: 375545 entries, 0 to 421094\n",
      "Data columns (total 72 columns):\n",
      " #   Column                          Non-Null Count   Dtype  \n",
      "---  ------                          --------------   -----  \n",
      " 0   loan_amnt                       375545 non-null  float64\n",
      " 1   funded_amnt                     375545 non-null  float64\n",
      " 2   funded_amnt_inv                 375545 non-null  float64\n",
      " 3   int_rate                        375545 non-null  float64\n",
      " 4   installment                     375545 non-null  float64\n",
      " 5   annual_inc                      375545 non-null  float64\n",
      " 6   loan_status                     375545 non-null  int32  \n",
      " 7   dti                             375543 non-null  float64\n",
      " 8   delinq_2yrs                     375545 non-null  float64\n",
      " 9   fico_range_low                  375545 non-null  float64\n",
      " 10  fico_range_high                 375545 non-null  float64\n",
      " 11  inq_last_6mths                  375545 non-null  float64\n",
      " 12  mths_since_last_delinq          194197 non-null  float64\n",
      " 13  open_acc                        375545 non-null  float64\n",
      " 14  pub_rec                         375545 non-null  float64\n",
      " 15  revol_bal                       375545 non-null  float64\n",
      " 16  revol_util                      375391 non-null  float64\n",
      " 17  total_acc                       375545 non-null  float64\n",
      " 18  out_prncp                       375545 non-null  float64\n",
      " 19  out_prncp_inv                   375545 non-null  float64\n",
      " 20  total_pymnt                     375545 non-null  float64\n",
      " 21  total_pymnt_inv                 375545 non-null  float64\n",
      " 22  total_rec_prncp                 375545 non-null  float64\n",
      " 23  total_rec_int                   375545 non-null  float64\n",
      " 24  total_rec_late_fee              375545 non-null  float64\n",
      " 25  recoveries                      375545 non-null  float64\n",
      " 26  collection_recovery_fee         375545 non-null  float64\n",
      " 27  last_pymnt_amnt                 375545 non-null  float64\n",
      " 28  last_fico_range_high            375545 non-null  float64\n",
      " 29  last_fico_range_low             375545 non-null  float64\n",
      " 30  collections_12_mths_ex_med      375545 non-null  float64\n",
      " 31  policy_code                     375545 non-null  float64\n",
      " 32  acc_now_delinq                  375545 non-null  float64\n",
      " 33  tot_coll_amt                    375545 non-null  float64\n",
      " 34  tot_cur_bal                     375545 non-null  float64\n",
      " 35  total_rev_hi_lim                375545 non-null  float64\n",
      " 36  acc_open_past_24mths            375545 non-null  float64\n",
      " 37  avg_cur_bal                     375545 non-null  float64\n",
      " 38  bc_open_to_buy                  371927 non-null  float64\n",
      " 39  bc_util                         371684 non-null  float64\n",
      " 40  chargeoff_within_12_mths        375545 non-null  float64\n",
      " 41  delinq_amnt                     375545 non-null  float64\n",
      " 42  mo_sin_old_il_acct              364224 non-null  float64\n",
      " 43  mo_sin_old_rev_tl_op            375545 non-null  float64\n",
      " 44  mo_sin_rcnt_rev_tl_op           375545 non-null  float64\n",
      " 45  mo_sin_rcnt_tl                  375545 non-null  float64\n",
      " 46  mort_acc                        375545 non-null  float64\n",
      " 47  mths_since_recent_bc            372080 non-null  float64\n",
      " 48  mths_since_recent_inq           336793 non-null  float64\n",
      " 49  mths_since_recent_revol_delinq  135890 non-null  float64\n",
      " 50  num_accts_ever_120_pd           375545 non-null  float64\n",
      " 51  num_actv_bc_tl                  375545 non-null  float64\n",
      " 52  num_actv_rev_tl                 375545 non-null  float64\n",
      " 53  num_bc_sats                     375545 non-null  float64\n",
      " 54  num_bc_tl                       375545 non-null  float64\n",
      " 55  num_il_tl                       375545 non-null  float64\n",
      " 56  num_op_rev_tl                   375545 non-null  float64\n",
      " 57  num_rev_accts                   375544 non-null  float64\n",
      " 58  num_rev_tl_bal_gt_0             375545 non-null  float64\n",
      " 59  num_sats                        375545 non-null  float64\n",
      " 60  num_tl_120dpd_2m                357910 non-null  float64\n",
      " 61  num_tl_30dpd                    375545 non-null  float64\n",
      " 62  num_tl_90g_dpd_24m              375545 non-null  float64\n",
      " 63  num_tl_op_past_12m              375545 non-null  float64\n",
      " 64  pct_tl_nvr_dlq                  375545 non-null  float64\n",
      " 65  percent_bc_gt_75                371657 non-null  float64\n",
      " 66  pub_rec_bankruptcies            375545 non-null  float64\n",
      " 67  tax_liens                       375545 non-null  float64\n",
      " 68  tot_hi_cred_lim                 375545 non-null  float64\n",
      " 69  total_bal_ex_mort               375545 non-null  float64\n",
      " 70  total_bc_limit                  375545 non-null  float64\n",
      " 71  total_il_high_credit_limit      375545 non-null  float64\n",
      "dtypes: float64(71), int32(1)\n",
      "memory usage: 207.7 MB\n"
     ]
    }
   ],
   "source": [
    "status_df.info()"
   ]
  },
  {
   "cell_type": "code",
   "execution_count": 31,
   "metadata": {
    "ExecuteTime": {
     "end_time": "2021-06-28T01:29:53.324451Z",
     "start_time": "2021-06-28T01:29:51.217127Z"
    }
   },
   "outputs": [
    {
     "data": {
      "image/png": "[encoded data removed]",
      "text/plain": [
       "<Figure size 1440x1584 with 16 Axes>"
      ]
     },
     "metadata": {},
     "output_type": "display_data"
    }
   ],
   "source": [
    "# let's take a look at some data distribution\n",
    "sns.set(font_scale=1, style='white')\n",
    "status_df.iloc[:,:16].sample(1000).plot(kind='density', subplots=True, layout=(4,4), legend=False,\n",
    "                    sharex=False, figsize=(20,22), title=status_df.iloc[:,:16].columns.tolist());"
   ]
  },
  {
   "cell_type": "code",
   "execution_count": 38,
   "metadata": {
    "ExecuteTime": {
     "end_time": "2021-06-27T01:13:48.214686Z",
     "start_time": "2021-06-27T01:13:48.204768Z"
    }
   },
   "outputs": [],
   "source": [
    "# # correlation plot\n",
    "\n",
    "# X = df[list(df.columns)[:]]\n",
    "\n",
    "# corr = X.select_dtypes(include = ['float64', 'int64']).iloc[:, :].corr()\n",
    "# mask = np.zeros_like(corr)\n",
    "# mask[np.triu_indices_from(mask)] = True\n",
    "# with sns.axes_style(\"white\"):\n",
    "#     plt.figure(figsize=(20, 15))\n",
    "#     sns.heatmap(corr, vmax=1, square=True, cmap=\"YlGnBu\", linecolor='black', mask=mask, annot=False, fmt = '.2f', \n",
    "#                 annot_kws={\"size\":9})\n",
    "#     plt.yticks(rotation=0,fontsize=12)\n",
    "#     plt.xticks(rotation=90,fontsize=12)\n",
    "#     plt.title('Feature Correlation ',fontsize=20)\n",
    "# #     plt.savefig('heatmap.png', format='png', dpi=600)\n",
    "#     plt.show();"
   ]
  },
  {
   "cell_type": "code",
   "execution_count": 38,
   "metadata": {
    "ExecuteTime": {
     "end_time": "2021-06-28T01:33:36.690828Z",
     "start_time": "2021-06-28T01:33:33.489148Z"
    }
   },
   "outputs": [],
   "source": [
    "# we're only going to select 10 features at most, so we select features with highest correlation to target column\n",
    "corr = status_df.iloc[:, :].corr()"
   ]
  },
  {
   "cell_type": "code",
   "execution_count": 39,
   "metadata": {
    "ExecuteTime": {
     "end_time": "2021-06-28T01:33:48.241770Z",
     "start_time": "2021-06-28T01:33:48.213959Z"
    },
    "scrolled": true
   },
   "outputs": [
    {
     "name": "stdout",
     "output_type": "stream",
     "text": [
      "List the features in descending order of their correlation with loan_status:\n",
      "\n",
      "last_fico_range_high:   0.6705070566807999\n",
      "last_fico_range_low:   0.5796688394715089\n",
      "recoveries:   -0.5101747731026247\n",
      "collection_recovery_fee:   -0.5074871105975491\n",
      "total_rec_prncp:   0.43505531218628685\n",
      "last_pymnt_amnt:   0.32666773253377307\n",
      "total_pymnt_inv:   0.30346056970507584\n",
      "total_pymnt:   0.30340896814934276\n",
      "int_rate:   -0.2996264074242481\n",
      "fico_range_low:   0.13086908348895251\n",
      "fico_range_high:   0.1308679488724227\n",
      "acc_open_past_24mths:   -0.1272555852504292\n",
      "total_rec_late_fee:   -0.12581397018983995\n",
      "dti:   -0.11412505762939433\n",
      "num_tl_op_past_12m:   -0.10795602896758968\n",
      "total_rec_int:   -0.08721633084029218\n",
      "inq_last_6mths:   -0.0869630996608695\n",
      "bc_open_to_buy:   0.08583680831260102\n",
      "total_bc_limit:   0.07805198470798885\n",
      "avg_cur_bal:   0.07767542124503583\n",
      "tot_hi_cred_lim:   0.07547611522494636\n",
      "num_rev_tl_bal_gt_0:   -0.07361846944284614\n",
      "num_actv_rev_tl:   -0.07288828154596867\n",
      "percent_bc_gt_75:   -0.06985687149762684\n",
      "mo_sin_rcnt_tl:   0.06970577874910494\n",
      "tot_cur_bal:   0.06753454454763037\n",
      "mort_acc:   0.06594569391254614\n",
      "bc_util:   -0.06503923586427782\n",
      "mo_sin_rcnt_rev_tl_op:   0.06409490857636646\n",
      "loan_amnt:   -0.0640027937527193\n",
      "funded_amnt:   -0.0640027937527193\n",
      "funded_amnt_inv:   -0.06387901954355332\n",
      "mths_since_recent_inq:   0.0635404395415453\n",
      "mths_since_recent_bc:   0.06004103235185682\n",
      "mo_sin_old_rev_tl_op:   0.05684071979396985\n",
      "total_rev_hi_lim:   0.05484752910614605\n",
      "revol_util:   -0.05430186537660103\n",
      "num_op_rev_tl:   -0.04285421506625386\n",
      "annual_inc:   0.03913524563671727\n",
      "num_actv_bc_tl:   -0.038889248589708915\n",
      "num_sats:   -0.038811056292225046\n",
      "open_acc:   -0.038775957584719176\n",
      "installment:   -0.03309880395160247\n",
      "pub_rec_bankruptcies:   -0.031776536944719894\n",
      "revol_bal:   0.025775003727257443\n",
      "pub_rec:   -0.02553411493622711\n",
      "num_il_tl:   -0.02410531600503379\n",
      "mo_sin_old_il_acct:   0.022560618542570257\n",
      "delinq_2yrs:   -0.015211992184052168\n",
      "num_bc_sats:   -0.013871897990347257\n",
      "collections_12_mths_ex_med:   -0.013644284916220627\n",
      "num_accts_ever_120_pd:   -0.011878761812450423\n",
      "total_acc:   -0.010944093455450036\n",
      "num_rev_accts:   -0.010421804525487669\n",
      "num_tl_90g_dpd_24m:   -0.00842444137539322\n",
      "total_il_high_credit_limit:   -0.005723331785320353\n",
      "tax_liens:   -0.005126482881053064\n",
      "mths_since_recent_revol_delinq:   -0.004676270752680499\n",
      "chargeoff_within_12_mths:   -0.003994065394010463\n",
      "acc_now_delinq:   -0.003973666044163803\n",
      "num_tl_120dpd_2m:   -0.0036601577736349255\n",
      "num_bc_tl:   0.003597953441788595\n",
      "delinq_amnt:   -0.002730791262010824\n",
      "pct_tl_nvr_dlq:   0.0023594058989093725\n",
      "num_tl_30dpd:   -0.0018431720220008084\n",
      "mths_since_last_delinq:   0.0016745398259923577\n",
      "out_prncp:   nan\n",
      "out_prncp_inv:   nan\n",
      "policy_code:   nan\n",
      "tot_coll_amt:   0.0008676525805269139\n",
      "total_bal_ex_mort:   -0.00022310745687935087\n"
     ]
    }
   ],
   "source": [
    "# find feature correlated to late payment \n",
    "\n",
    "cor_dict = corr['loan_status'].to_dict()\n",
    "del cor_dict['loan_status']\n",
    "print(\"List the features in descending order of their correlation with loan_status:\\n\")\n",
    "for ele in sorted(cor_dict.items(), key=lambda x: -abs(x[1])):\n",
    "    print(\"{0}:   {1}\".format(*ele))"
   ]
  },
  {
   "cell_type": "code",
   "execution_count": 40,
   "metadata": {
    "ExecuteTime": {
     "end_time": "2021-06-28T01:33:51.167735Z",
     "start_time": "2021-06-28T01:33:51.160936Z"
    },
    "scrolled": true
   },
   "outputs": [],
   "source": [
    "# select top 10 features from the above with highest correlation\n",
    "\n",
    "high_cor = ['last_fico_range_high', 'last_fico_range_low',\n",
    "            'recoveries', 'collection_recovery_fee', \n",
    "            'total_rec_prncp', 'last_pymnt_amnt',\n",
    "            'total_pymnt', 'total_pymnt_inv',\n",
    "            'int_rate', 'total_rec_late_fee']\n"
   ]
  },
  {
   "cell_type": "code",
   "execution_count": 41,
   "metadata": {
    "ExecuteTime": {
     "end_time": "2021-06-28T01:33:53.402254Z",
     "start_time": "2021-06-28T01:33:53.369883Z"
    }
   },
   "outputs": [],
   "source": [
    "# crate new dataframe for machine learning features only + target column\n",
    "\n",
    "ml_df = status_df[high_cor].copy()\n",
    "ml_df['loan_status'] = status_df['loan_status']"
   ]
  },
  {
   "cell_type": "code",
   "execution_count": 42,
   "metadata": {
    "ExecuteTime": {
     "end_time": "2021-06-28T01:33:56.816865Z",
     "start_time": "2021-06-28T01:33:56.804856Z"
    }
   },
   "outputs": [
    {
     "data": {
      "text/plain": [
       "1    0.798152\n",
       "0    0.201848\n",
       "Name: loan_status, dtype: float64"
      ]
     },
     "execution_count": 42,
     "metadata": {},
     "output_type": "execute_result"
    }
   ],
   "source": [
    "ml_df.loan_status.value_counts(normalize=True)"
   ]
  },
  {
   "cell_type": "code",
   "execution_count": 43,
   "metadata": {
    "ExecuteTime": {
     "end_time": "2021-06-28T01:34:42.831129Z",
     "start_time": "2021-06-28T01:34:42.100962Z"
    }
   },
   "outputs": [],
   "source": [
    "import joblib\n",
    "from sklearn.preprocessing import StandardScaler\n",
    "from sklearn.model_selection import train_test_split, cross_val_score\n",
    "from sklearn.linear_model import LogisticRegression\n",
    "from sklearn.ensemble import RandomForestClassifier\n",
    "from sklearn.pipeline import make_pipeline\n",
    "from sklearn.metrics import roc_auc_score, accuracy_score, confusion_matrix"
   ]
  },
  {
   "cell_type": "code",
   "execution_count": 44,
   "metadata": {
    "ExecuteTime": {
     "end_time": "2021-06-28T01:34:43.545315Z",
     "start_time": "2021-06-28T01:34:43.515211Z"
    }
   },
   "outputs": [],
   "source": [
    "X = ml_df.iloc[:, :-1]\n",
    "y = ml_df[['loan_status']]"
   ]
  },
  {
   "cell_type": "code",
   "execution_count": 46,
   "metadata": {
    "ExecuteTime": {
     "end_time": "2021-06-28T01:35:18.842247Z",
     "start_time": "2021-06-28T01:35:17.397469Z"
    }
   },
   "outputs": [],
   "source": [
    "# split data for training and testing, and stratify the target column to make sure even distribution\n",
    "# initialize random seed\n",
    "rs = 24\n",
    "\n",
    "X_train, X_test, y_train, y_test = train_test_split(X, y, test_size=0.25, \n",
    "                                                    random_state=rs, stratify=y)"
   ]
  },
  {
   "cell_type": "code",
   "execution_count": 53,
   "metadata": {
    "ExecuteTime": {
     "end_time": "2021-06-28T01:46:09.333205Z",
     "start_time": "2021-06-28T01:45:01.835388Z"
    }
   },
   "outputs": [
    {
     "data": {
      "text/plain": [
       "RandomForestClassifier(max_depth=10, n_estimators=150, random_state=24)"
      ]
     },
     "execution_count": 53,
     "metadata": {},
     "output_type": "execute_result"
    }
   ],
   "source": [
    "# here, i chose to use random forest as classifier algorithm as it is very easy to use. \n",
    "# The algorithm is based on decision tree\n",
    "\n",
    "clf = RandomForestClassifier(random_state=rs,\n",
    "                             n_estimators=150,\n",
    "                             max_depth=10,\n",
    "                             min_samples_split=50 \n",
    "                            )\n",
    "clf.fit(X_train, y_train.values.ravel())"
   ]
  },
  {
   "cell_type": "code",
   "execution_count": 54,
   "metadata": {
    "ExecuteTime": {
     "end_time": "2021-06-28T01:46:12.848338Z",
     "start_time": "2021-06-28T01:46:09.333205Z"
    }
   },
   "outputs": [
    {
     "name": "stdout",
     "output_type": "stream",
     "text": [
      "Accuracy Score: 0.984811366976972\n",
      "ROC AUC Score: 0.9705892755966967\n",
      "Confusion Matrix: \n",
      "[[ 53824   3028]\n",
      " [  1250 223556]]\n"
     ]
    }
   ],
   "source": [
    "# let see how the trained model performed on the train dataset first\n",
    "\n",
    "preds = clf.predict(X_train)\n",
    "\n",
    "val_accuracy = accuracy_score(y_train, preds)\n",
    "val_roc_auc = roc_auc_score(y_train, preds)\n",
    "val_confusion_matrix = confusion_matrix(y_train, preds)\n",
    "print(f'Accuracy Score: {val_accuracy}')\n",
    "print(f'ROC AUC Score: {val_roc_auc}')\n",
    "print(f'Confusion Matrix: \\n{val_confusion_matrix}')"
   ]
  },
  {
   "cell_type": "code",
   "execution_count": 55,
   "metadata": {
    "ExecuteTime": {
     "end_time": "2021-06-28T01:46:24.708277Z",
     "start_time": "2021-06-28T01:46:23.451867Z"
    }
   },
   "outputs": [
    {
     "name": "stdout",
     "output_type": "stream",
     "text": [
      "Accuracy Score: 0.9837357674651442\n",
      "ROC AUC Score: 0.9687988769500948\n",
      "Confusion Matrix: \n",
      "[[17885  1066]\n",
      " [  461 74475]]\n"
     ]
    }
   ],
   "source": [
    "# here comes the truth. the model result on test dataset\n",
    "test_preds = clf.predict(X_test)\n",
    "\n",
    "test_accuracy = accuracy_score(y_test, test_preds)\n",
    "test_roc_auc = roc_auc_score(y_test, test_preds)\n",
    "test_confusion_matrix = confusion_matrix(y_test, test_preds)\n",
    "print(f'Accuracy Score: {test_accuracy}')\n",
    "print(f'ROC AUC Score: {test_roc_auc}')\n",
    "print(f'Confusion Matrix: \\n{test_confusion_matrix}')"
   ]
  },
  {
   "cell_type": "code",
   "execution_count": 56,
   "metadata": {
    "ExecuteTime": {
     "end_time": "2021-06-28T01:53:22.546406Z",
     "start_time": "2021-06-28T01:53:22.478316Z"
    }
   },
   "outputs": [
    {
     "data": {
      "text/plain": [
       "['flask_app/data/rf_model.pkl']"
      ]
     },
     "execution_count": 56,
     "metadata": {},
     "output_type": "execute_result"
    }
   ],
   "source": [
    "# let's save the model to be used in our flask app later\n",
    "\n",
    "joblib.dump(clf, 'flask_app/data/rf_model.pkl')"
   ]
  },
  {
   "cell_type": "markdown",
   "metadata": {},
   "source": [
    "#### Conclusion\n",
    "\n",
    "1. The model do quite well to predict with >96% accuracy and ROC_auc, using basic model parameter tuning.\n",
    "2. Further model optimization can be done using ensemble method, do some extensive feature selection but these processes take a long time to experiment. So there is a trade-off between the two approaches.\n",
    "3. Feature selection can be improved by removing two features with high correlation to one another. For example last_fico_range_high and last_fico_range_low columns have a very high correlation to one another. Selecting only one of these can open up the feature to other columns that could improve the model further."
   ]
  },
  {
   "cell_type": "markdown",
   "metadata": {},
   "source": [
    "# Part 3: Model Deployment\n",
    "Take the model from Part 2 and deploy it with Flask (or similar framework) in a docker. \n",
    "-\tPrepare a readme.md to elaborate how your scripts work.\n",
    "-\tShow the docker script.\n",
    "-\tShow the integration of your model with Flask.\n",
    "-\tShow your test script, i.e., the script that call the Flask and get the response from the model. \n",
    "-\tDevise a test script such that it will load all the test data from year 2018. Then, send the requests to Flask (correspond to the model). Store all the result in csv. \n",
    "-\tInstead of having Flask handling the request one-by-one, how do you further increase the throughput of the prediction? Please state your assumptions. \n",
    "\n",
    "\n",
    "## >>> [Link to github repo](https://github.com/asyrafjanai/lending_club)"
   ]
  },
  {
   "cell_type": "markdown",
   "metadata": {},
   "source": [
    "# Part 4: Model Performance\n",
    "Filter the data set for year 2018. Apply the model from Part II to the data set of year 2018. Support your answer with hypothesis testing, evidence, or theories if possible.\n",
    "\n",
    "1. How accurate is the prediction over the late payment? \n",
    "  - The model accuracy dropped a lot. My theory is because the data is changing. This is common scenario in data that varies greatly with external factors. Some example of external factors are human behaviour and natural phenomenons. MCO is another great example of this. For instance traffic data is heavily unreliable if we are comparing MCO period and pre-MCO period because most people can't travel as they wish.\n",
    "1. Assume that you do not have the late payment information (column “loan_status”), how do you know your model is degrading or improving?\n",
    "  - data drift. We can create data drift monitor by comparing the newer dataset with previous dataset. Setting alert in case data drifft is over the threshold, to make sure the model is retrain with the latest data trend included in the training process. refer to data compariosn below. Dat drift will negatively affect the model performance most of the time.\n",
    "1. How many months/years of data we should take to build a model? Assume that you favour long data (e.g., 10 years), how do you train the model?\n",
    "  - we can select all the dataset and do some stratified sampling to make sure we have the correct representation for each year\n",
    "1. Assume that you favour a relatively short data (e.g., 3 months data), how do you ensure your model will capture the sudden change of population (e.g., MCO causes the economy collapse)? \n",
    "  - data drift monitor. let say the preset value is over/under the threshold, we need to retrain the model since current model will not produce accurate result when making prediction.\n"
   ]
  },
  {
   "cell_type": "code",
   "execution_count": 57,
   "metadata": {
    "ExecuteTime": {
     "end_time": "2021-06-28T04:41:01.389431Z",
     "start_time": "2021-06-28T04:41:00.939264Z"
    }
   },
   "outputs": [],
   "source": [
    "df_2018 = pd.read_csv('ml_2018.csv')"
   ]
  },
  {
   "cell_type": "code",
   "execution_count": 58,
   "metadata": {
    "ExecuteTime": {
     "end_time": "2021-06-28T04:41:42.330904Z",
     "start_time": "2021-06-28T04:41:42.281092Z"
    }
   },
   "outputs": [
    {
     "data": {
      "text/html": [
       "<div>\n",
       "<style scoped>\n",
       "    .dataframe tbody tr th:only-of-type {\n",
       "        vertical-align: middle;\n",
       "    }\n",
       "\n",
       "    .dataframe tbody tr th {\n",
       "        vertical-align: top;\n",
       "    }\n",
       "\n",
       "    .dataframe thead th {\n",
       "        text-align: right;\n",
       "    }\n",
       "</style>\n",
       "<table border=\"1\" class=\"dataframe\">\n",
       "  <thead>\n",
       "    <tr style=\"text-align: right;\">\n",
       "      <th></th>\n",
       "      <th>last_fico_range_high</th>\n",
       "      <th>last_fico_range_low</th>\n",
       "      <th>recoveries</th>\n",
       "      <th>collection_recovery_fee</th>\n",
       "      <th>total_rec_prncp</th>\n",
       "      <th>last_pymnt_amnt</th>\n",
       "      <th>total_pymnt</th>\n",
       "      <th>total_pymnt_inv</th>\n",
       "      <th>int_rate</th>\n",
       "      <th>total_rec_late_fee</th>\n",
       "      <th>loan_status</th>\n",
       "    </tr>\n",
       "  </thead>\n",
       "  <tbody>\n",
       "    <tr>\n",
       "      <th>0</th>\n",
       "      <td>609.0</td>\n",
       "      <td>605.0</td>\n",
       "      <td>0.0</td>\n",
       "      <td>0.0</td>\n",
       "      <td>1219.69</td>\n",
       "      <td>186.82</td>\n",
       "      <td>2043.690000</td>\n",
       "      <td>2043.69</td>\n",
       "      <td>20.39</td>\n",
       "      <td>0.0</td>\n",
       "      <td>0</td>\n",
       "    </tr>\n",
       "    <tr>\n",
       "      <th>1</th>\n",
       "      <td>694.0</td>\n",
       "      <td>690.0</td>\n",
       "      <td>0.0</td>\n",
       "      <td>0.0</td>\n",
       "      <td>4121.50</td>\n",
       "      <td>483.45</td>\n",
       "      <td>5301.420000</td>\n",
       "      <td>5301.42</td>\n",
       "      <td>9.92</td>\n",
       "      <td>0.0</td>\n",
       "      <td>0</td>\n",
       "    </tr>\n",
       "    <tr>\n",
       "      <th>2</th>\n",
       "      <td>629.0</td>\n",
       "      <td>625.0</td>\n",
       "      <td>0.0</td>\n",
       "      <td>0.0</td>\n",
       "      <td>1006.27</td>\n",
       "      <td>367.82</td>\n",
       "      <td>4007.700000</td>\n",
       "      <td>4007.70</td>\n",
       "      <td>30.79</td>\n",
       "      <td>0.0</td>\n",
       "      <td>0</td>\n",
       "    </tr>\n",
       "    <tr>\n",
       "      <th>3</th>\n",
       "      <td>669.0</td>\n",
       "      <td>665.0</td>\n",
       "      <td>0.0</td>\n",
       "      <td>0.0</td>\n",
       "      <td>2811.27</td>\n",
       "      <td>688.35</td>\n",
       "      <td>7511.160000</td>\n",
       "      <td>7511.16</td>\n",
       "      <td>21.85</td>\n",
       "      <td>0.0</td>\n",
       "      <td>0</td>\n",
       "    </tr>\n",
       "    <tr>\n",
       "      <th>4</th>\n",
       "      <td>764.0</td>\n",
       "      <td>760.0</td>\n",
       "      <td>0.0</td>\n",
       "      <td>0.0</td>\n",
       "      <td>3000.00</td>\n",
       "      <td>614.03</td>\n",
       "      <td>3011.577285</td>\n",
       "      <td>3011.58</td>\n",
       "      <td>7.34</td>\n",
       "      <td>0.0</td>\n",
       "      <td>1</td>\n",
       "    </tr>\n",
       "  </tbody>\n",
       "</table>\n",
       "</div>"
      ],
      "text/plain": [
       "   last_fico_range_high  last_fico_range_low  recoveries  \\\n",
       "0                 609.0                605.0         0.0   \n",
       "1                 694.0                690.0         0.0   \n",
       "2                 629.0                625.0         0.0   \n",
       "3                 669.0                665.0         0.0   \n",
       "4                 764.0                760.0         0.0   \n",
       "\n",
       "   collection_recovery_fee  total_rec_prncp  last_pymnt_amnt  total_pymnt  \\\n",
       "0                      0.0          1219.69           186.82  2043.690000   \n",
       "1                      0.0          4121.50           483.45  5301.420000   \n",
       "2                      0.0          1006.27           367.82  4007.700000   \n",
       "3                      0.0          2811.27           688.35  7511.160000   \n",
       "4                      0.0          3000.00           614.03  3011.577285   \n",
       "\n",
       "   total_pymnt_inv  int_rate  total_rec_late_fee  loan_status  \n",
       "0          2043.69     20.39                 0.0            0  \n",
       "1          5301.42      9.92                 0.0            0  \n",
       "2          4007.70     30.79                 0.0            0  \n",
       "3          7511.16     21.85                 0.0            0  \n",
       "4          3011.58      7.34                 0.0            1  "
      ]
     },
     "execution_count": 58,
     "metadata": {},
     "output_type": "execute_result"
    }
   ],
   "source": [
    "df_2018.head()"
   ]
  },
  {
   "cell_type": "code",
   "execution_count": 59,
   "metadata": {
    "ExecuteTime": {
     "end_time": "2021-06-28T04:42:15.576786Z",
     "start_time": "2021-06-28T04:42:10.282191Z"
    }
   },
   "outputs": [],
   "source": [
    "preds = clf.predict(preds.iloc[:,:-1])"
   ]
  },
  {
   "cell_type": "code",
   "execution_count": 60,
   "metadata": {
    "ExecuteTime": {
     "end_time": "2021-06-28T04:43:01.238511Z",
     "start_time": "2021-06-28T04:43:00.743525Z"
    }
   },
   "outputs": [
    {
     "name": "stdout",
     "output_type": "stream",
     "text": [
      "Accuracy Score: 0.4080308212954475\n",
      "ROC AUC Score: 0.6724863753661159\n",
      "Confusion Matrix: \n",
      "[[154648 293150]\n",
      " [    18  47426]]\n"
     ]
    }
   ],
   "source": [
    "test_accuracy = accuracy_score(df_2018['loan_status'], preds)\n",
    "test_roc_auc = roc_auc_score(df_2018['loan_status'], preds)\n",
    "test_confusion_matrix = confusion_matrix(df_2018['loan_status'], preds)\n",
    "print(f'Accuracy Score: {test_accuracy}')\n",
    "print(f'ROC AUC Score: {test_roc_auc}')\n",
    "print(f'Confusion Matrix: \\n{test_confusion_matrix}')"
   ]
  },
  {
   "cell_type": "code",
   "execution_count": 61,
   "metadata": {
    "ExecuteTime": {
     "end_time": "2021-06-28T04:49:28.338115Z",
     "start_time": "2021-06-28T04:49:28.047953Z"
    }
   },
   "outputs": [
    {
     "data": {
      "text/html": [
       "<div>\n",
       "<style scoped>\n",
       "    .dataframe tbody tr th:only-of-type {\n",
       "        vertical-align: middle;\n",
       "    }\n",
       "\n",
       "    .dataframe tbody tr th {\n",
       "        vertical-align: top;\n",
       "    }\n",
       "\n",
       "    .dataframe thead th {\n",
       "        text-align: right;\n",
       "    }\n",
       "</style>\n",
       "<table border=\"1\" class=\"dataframe\">\n",
       "  <thead>\n",
       "    <tr style=\"text-align: right;\">\n",
       "      <th></th>\n",
       "      <th>last_fico_range_high</th>\n",
       "      <th>last_fico_range_low</th>\n",
       "      <th>recoveries</th>\n",
       "      <th>collection_recovery_fee</th>\n",
       "      <th>total_rec_prncp</th>\n",
       "      <th>last_pymnt_amnt</th>\n",
       "      <th>total_pymnt</th>\n",
       "      <th>total_pymnt_inv</th>\n",
       "      <th>int_rate</th>\n",
       "      <th>total_rec_late_fee</th>\n",
       "      <th>loan_status</th>\n",
       "    </tr>\n",
       "  </thead>\n",
       "  <tbody>\n",
       "    <tr>\n",
       "      <th>count</th>\n",
       "      <td>495242.000000</td>\n",
       "      <td>495242.000000</td>\n",
       "      <td>495242.000000</td>\n",
       "      <td>495242.000000</td>\n",
       "      <td>495242.000000</td>\n",
       "      <td>495242.000000</td>\n",
       "      <td>495242.000000</td>\n",
       "      <td>495242.000000</td>\n",
       "      <td>495242.000000</td>\n",
       "      <td>495242.000000</td>\n",
       "      <td>495242.000000</td>\n",
       "    </tr>\n",
       "    <tr>\n",
       "      <th>mean</th>\n",
       "      <td>709.383326</td>\n",
       "      <td>703.734084</td>\n",
       "      <td>9.942098</td>\n",
       "      <td>1.747514</td>\n",
       "      <td>3735.078047</td>\n",
       "      <td>1599.760632</td>\n",
       "      <td>4925.154778</td>\n",
       "      <td>4923.958198</td>\n",
       "      <td>12.729072</td>\n",
       "      <td>0.512806</td>\n",
       "      <td>0.095800</td>\n",
       "    </tr>\n",
       "    <tr>\n",
       "      <th>std</th>\n",
       "      <td>51.721311</td>\n",
       "      <td>64.672805</td>\n",
       "      <td>194.694939</td>\n",
       "      <td>34.576367</td>\n",
       "      <td>5241.807689</td>\n",
       "      <td>4596.678963</td>\n",
       "      <td>5582.696299</td>\n",
       "      <td>5581.731532</td>\n",
       "      <td>5.150204</td>\n",
       "      <td>5.864272</td>\n",
       "      <td>0.294317</td>\n",
       "    </tr>\n",
       "    <tr>\n",
       "      <th>min</th>\n",
       "      <td>0.000000</td>\n",
       "      <td>0.000000</td>\n",
       "      <td>0.000000</td>\n",
       "      <td>0.000000</td>\n",
       "      <td>0.000000</td>\n",
       "      <td>0.000000</td>\n",
       "      <td>0.000000</td>\n",
       "      <td>0.000000</td>\n",
       "      <td>5.310000</td>\n",
       "      <td>0.000000</td>\n",
       "      <td>0.000000</td>\n",
       "    </tr>\n",
       "    <tr>\n",
       "      <th>25%</th>\n",
       "      <td>679.000000</td>\n",
       "      <td>675.000000</td>\n",
       "      <td>0.000000</td>\n",
       "      <td>0.000000</td>\n",
       "      <td>1114.860000</td>\n",
       "      <td>270.710000</td>\n",
       "      <td>1758.272500</td>\n",
       "      <td>1757.557500</td>\n",
       "      <td>8.460000</td>\n",
       "      <td>0.000000</td>\n",
       "      <td>0.000000</td>\n",
       "    </tr>\n",
       "    <tr>\n",
       "      <th>50%</th>\n",
       "      <td>709.000000</td>\n",
       "      <td>705.000000</td>\n",
       "      <td>0.000000</td>\n",
       "      <td>0.000000</td>\n",
       "      <td>2074.610000</td>\n",
       "      <td>436.930000</td>\n",
       "      <td>3221.060000</td>\n",
       "      <td>3220.740000</td>\n",
       "      <td>11.800000</td>\n",
       "      <td>0.000000</td>\n",
       "      <td>0.000000</td>\n",
       "    </tr>\n",
       "    <tr>\n",
       "      <th>75%</th>\n",
       "      <td>744.000000</td>\n",
       "      <td>740.000000</td>\n",
       "      <td>0.000000</td>\n",
       "      <td>0.000000</td>\n",
       "      <td>4000.000000</td>\n",
       "      <td>747.920000</td>\n",
       "      <td>5909.220000</td>\n",
       "      <td>5908.305000</td>\n",
       "      <td>16.010000</td>\n",
       "      <td>0.000000</td>\n",
       "      <td>0.000000</td>\n",
       "    </tr>\n",
       "    <tr>\n",
       "      <th>max</th>\n",
       "      <td>850.000000</td>\n",
       "      <td>845.000000</td>\n",
       "      <td>33122.070000</td>\n",
       "      <td>5961.972600</td>\n",
       "      <td>40000.000000</td>\n",
       "      <td>41353.670000</td>\n",
       "      <td>51653.389338</td>\n",
       "      <td>51653.390000</td>\n",
       "      <td>30.990000</td>\n",
       "      <td>458.570000</td>\n",
       "      <td>1.000000</td>\n",
       "    </tr>\n",
       "  </tbody>\n",
       "</table>\n",
       "</div>"
      ],
      "text/plain": [
       "       last_fico_range_high  last_fico_range_low     recoveries  \\\n",
       "count         495242.000000        495242.000000  495242.000000   \n",
       "mean             709.383326           703.734084       9.942098   \n",
       "std               51.721311            64.672805     194.694939   \n",
       "min                0.000000             0.000000       0.000000   \n",
       "25%              679.000000           675.000000       0.000000   \n",
       "50%              709.000000           705.000000       0.000000   \n",
       "75%              744.000000           740.000000       0.000000   \n",
       "max              850.000000           845.000000   33122.070000   \n",
       "\n",
       "       collection_recovery_fee  total_rec_prncp  last_pymnt_amnt  \\\n",
       "count            495242.000000    495242.000000    495242.000000   \n",
       "mean                  1.747514      3735.078047      1599.760632   \n",
       "std                  34.576367      5241.807689      4596.678963   \n",
       "min                   0.000000         0.000000         0.000000   \n",
       "25%                   0.000000      1114.860000       270.710000   \n",
       "50%                   0.000000      2074.610000       436.930000   \n",
       "75%                   0.000000      4000.000000       747.920000   \n",
       "max                5961.972600     40000.000000     41353.670000   \n",
       "\n",
       "         total_pymnt  total_pymnt_inv       int_rate  total_rec_late_fee  \\\n",
       "count  495242.000000    495242.000000  495242.000000       495242.000000   \n",
       "mean     4925.154778      4923.958198      12.729072            0.512806   \n",
       "std      5582.696299      5581.731532       5.150204            5.864272   \n",
       "min         0.000000         0.000000       5.310000            0.000000   \n",
       "25%      1758.272500      1757.557500       8.460000            0.000000   \n",
       "50%      3221.060000      3220.740000      11.800000            0.000000   \n",
       "75%      5909.220000      5908.305000      16.010000            0.000000   \n",
       "max     51653.389338     51653.390000      30.990000          458.570000   \n",
       "\n",
       "         loan_status  \n",
       "count  495242.000000  \n",
       "mean        0.095800  \n",
       "std         0.294317  \n",
       "min         0.000000  \n",
       "25%         0.000000  \n",
       "50%         0.000000  \n",
       "75%         0.000000  \n",
       "max         1.000000  "
      ]
     },
     "execution_count": 61,
     "metadata": {},
     "output_type": "execute_result"
    }
   ],
   "source": [
    "# let's do some quick comparison of the 2015 and 2018 data\n",
    "df_2018.describe()"
   ]
  },
  {
   "cell_type": "code",
   "execution_count": 63,
   "metadata": {
    "ExecuteTime": {
     "end_time": "2021-06-28T04:50:08.669444Z",
     "start_time": "2021-06-28T04:50:08.459588Z"
    }
   },
   "outputs": [
    {
     "data": {
      "text/html": [
       "<div>\n",
       "<style scoped>\n",
       "    .dataframe tbody tr th:only-of-type {\n",
       "        vertical-align: middle;\n",
       "    }\n",
       "\n",
       "    .dataframe tbody tr th {\n",
       "        vertical-align: top;\n",
       "    }\n",
       "\n",
       "    .dataframe thead th {\n",
       "        text-align: right;\n",
       "    }\n",
       "</style>\n",
       "<table border=\"1\" class=\"dataframe\">\n",
       "  <thead>\n",
       "    <tr style=\"text-align: right;\">\n",
       "      <th></th>\n",
       "      <th>last_fico_range_high</th>\n",
       "      <th>last_fico_range_low</th>\n",
       "      <th>recoveries</th>\n",
       "      <th>collection_recovery_fee</th>\n",
       "      <th>total_rec_prncp</th>\n",
       "      <th>last_pymnt_amnt</th>\n",
       "      <th>total_pymnt</th>\n",
       "      <th>total_pymnt_inv</th>\n",
       "      <th>int_rate</th>\n",
       "      <th>total_rec_late_fee</th>\n",
       "      <th>loan_status</th>\n",
       "    </tr>\n",
       "  </thead>\n",
       "  <tbody>\n",
       "    <tr>\n",
       "      <th>count</th>\n",
       "      <td>375545.000000</td>\n",
       "      <td>375545.000000</td>\n",
       "      <td>375545.000000</td>\n",
       "      <td>375545.000000</td>\n",
       "      <td>375545.000000</td>\n",
       "      <td>375545.000000</td>\n",
       "      <td>375545.000000</td>\n",
       "      <td>375545.000000</td>\n",
       "      <td>375545.000000</td>\n",
       "      <td>3.755450e+05</td>\n",
       "      <td>375545.000000</td>\n",
       "    </tr>\n",
       "    <tr>\n",
       "      <th>mean</th>\n",
       "      <td>675.073530</td>\n",
       "      <td>657.675458</td>\n",
       "      <td>262.633292</td>\n",
       "      <td>46.873100</td>\n",
       "      <td>12461.621118</td>\n",
       "      <td>4737.392037</td>\n",
       "      <td>15188.469538</td>\n",
       "      <td>15182.639608</td>\n",
       "      <td>12.385183</td>\n",
       "      <td>1.705444e+00</td>\n",
       "      <td>0.798152</td>\n",
       "    </tr>\n",
       "    <tr>\n",
       "      <th>std</th>\n",
       "      <td>82.007741</td>\n",
       "      <td>133.773569</td>\n",
       "      <td>1023.674723</td>\n",
       "      <td>183.666456</td>\n",
       "      <td>8710.146926</td>\n",
       "      <td>6585.065601</td>\n",
       "      <td>10080.955386</td>\n",
       "      <td>10077.214053</td>\n",
       "      <td>4.315007</td>\n",
       "      <td>1.152658e+01</td>\n",
       "      <td>0.401380</td>\n",
       "    </tr>\n",
       "    <tr>\n",
       "      <th>min</th>\n",
       "      <td>0.000000</td>\n",
       "      <td>0.000000</td>\n",
       "      <td>0.000000</td>\n",
       "      <td>0.000000</td>\n",
       "      <td>0.000000</td>\n",
       "      <td>0.000000</td>\n",
       "      <td>0.000000</td>\n",
       "      <td>0.000000</td>\n",
       "      <td>5.320000</td>\n",
       "      <td>-5.100000e-09</td>\n",
       "      <td>0.000000</td>\n",
       "    </tr>\n",
       "    <tr>\n",
       "      <th>25%</th>\n",
       "      <td>619.000000</td>\n",
       "      <td>615.000000</td>\n",
       "      <td>0.000000</td>\n",
       "      <td>0.000000</td>\n",
       "      <td>5600.000000</td>\n",
       "      <td>349.560000</td>\n",
       "      <td>7343.050001</td>\n",
       "      <td>7341.000000</td>\n",
       "      <td>9.170000</td>\n",
       "      <td>0.000000e+00</td>\n",
       "      <td>1.000000</td>\n",
       "    </tr>\n",
       "    <tr>\n",
       "      <th>50%</th>\n",
       "      <td>689.000000</td>\n",
       "      <td>685.000000</td>\n",
       "      <td>0.000000</td>\n",
       "      <td>0.000000</td>\n",
       "      <td>10000.000000</td>\n",
       "      <td>1129.070000</td>\n",
       "      <td>12682.100488</td>\n",
       "      <td>12676.360000</td>\n",
       "      <td>12.290000</td>\n",
       "      <td>0.000000e+00</td>\n",
       "      <td>1.000000</td>\n",
       "    </tr>\n",
       "    <tr>\n",
       "      <th>75%</th>\n",
       "      <td>734.000000</td>\n",
       "      <td>730.000000</td>\n",
       "      <td>0.000000</td>\n",
       "      <td>0.000000</td>\n",
       "      <td>18000.000000</td>\n",
       "      <td>7193.060000</td>\n",
       "      <td>21055.104062</td>\n",
       "      <td>21048.320000</td>\n",
       "      <td>14.990000</td>\n",
       "      <td>0.000000e+00</td>\n",
       "      <td>1.000000</td>\n",
       "    </tr>\n",
       "    <tr>\n",
       "      <th>max</th>\n",
       "      <td>850.000000</td>\n",
       "      <td>845.000000</td>\n",
       "      <td>35581.880000</td>\n",
       "      <td>6404.738400</td>\n",
       "      <td>35000.000000</td>\n",
       "      <td>36475.590000</td>\n",
       "      <td>61184.573797</td>\n",
       "      <td>61184.570000</td>\n",
       "      <td>28.990000</td>\n",
       "      <td>1.098360e+03</td>\n",
       "      <td>1.000000</td>\n",
       "    </tr>\n",
       "  </tbody>\n",
       "</table>\n",
       "</div>"
      ],
      "text/plain": [
       "       last_fico_range_high  last_fico_range_low     recoveries  \\\n",
       "count         375545.000000        375545.000000  375545.000000   \n",
       "mean             675.073530           657.675458     262.633292   \n",
       "std               82.007741           133.773569    1023.674723   \n",
       "min                0.000000             0.000000       0.000000   \n",
       "25%              619.000000           615.000000       0.000000   \n",
       "50%              689.000000           685.000000       0.000000   \n",
       "75%              734.000000           730.000000       0.000000   \n",
       "max              850.000000           845.000000   35581.880000   \n",
       "\n",
       "       collection_recovery_fee  total_rec_prncp  last_pymnt_amnt  \\\n",
       "count            375545.000000    375545.000000    375545.000000   \n",
       "mean                 46.873100     12461.621118      4737.392037   \n",
       "std                 183.666456      8710.146926      6585.065601   \n",
       "min                   0.000000         0.000000         0.000000   \n",
       "25%                   0.000000      5600.000000       349.560000   \n",
       "50%                   0.000000     10000.000000      1129.070000   \n",
       "75%                   0.000000     18000.000000      7193.060000   \n",
       "max                6404.738400     35000.000000     36475.590000   \n",
       "\n",
       "         total_pymnt  total_pymnt_inv       int_rate  total_rec_late_fee  \\\n",
       "count  375545.000000    375545.000000  375545.000000        3.755450e+05   \n",
       "mean    15188.469538     15182.639608      12.385183        1.705444e+00   \n",
       "std     10080.955386     10077.214053       4.315007        1.152658e+01   \n",
       "min         0.000000         0.000000       5.320000       -5.100000e-09   \n",
       "25%      7343.050001      7341.000000       9.170000        0.000000e+00   \n",
       "50%     12682.100488     12676.360000      12.290000        0.000000e+00   \n",
       "75%     21055.104062     21048.320000      14.990000        0.000000e+00   \n",
       "max     61184.573797     61184.570000      28.990000        1.098360e+03   \n",
       "\n",
       "         loan_status  \n",
       "count  375545.000000  \n",
       "mean        0.798152  \n",
       "std         0.401380  \n",
       "min         0.000000  \n",
       "25%         1.000000  \n",
       "50%         1.000000  \n",
       "75%         1.000000  \n",
       "max         1.000000  "
      ]
     },
     "execution_count": 63,
     "metadata": {},
     "output_type": "execute_result"
    }
   ],
   "source": [
    "ml_df.describe()"
   ]
  },
  {
   "cell_type": "markdown",
   "metadata": {},
   "source": [
    "#### Some quick data distribution check, we can clearly see the difference in the data.\n",
    "\n",
    "1. Loan is approved a lot more in 2015, with the mean of 0.789, compared to 0.0956 in 2018\n",
    "2. average fico score is is lower in 2018 than 2015\n",
    "3. last payment and total payment amount also shows some huge difference between the two years"
   ]
  },
  {
   "cell_type": "code",
   "execution_count": null,
   "metadata": {},
   "outputs": [],
   "source": []
  }
 ],
 "metadata": {
  "kernelspec": {
   "display_name": "Python [conda env:tech] *",
   "language": "python",
   "name": "conda-env-tech-py"
  },
  "language_info": {
   "codemirror_mode": {
    "name": "ipython",
    "version": 3
   },
   "file_extension": ".py",
   "mimetype": "text/x-python",
   "name": "python",
   "nbconvert_exporter": "python",
   "pygments_lexer": "ipython3",
   "version": "3.7.9"
  }
 },
 "nbformat": 4,
 "nbformat_minor": 4
}
